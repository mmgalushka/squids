{
 "cells": [
  {
   "cell_type": "markdown",
   "metadata": {},
   "source": [
    "# Generate, Transform and Explore\n",
    "\n",
    "This notebook focuses on the pipeline for generating synthetic data (in CSV and COCO format, transforming this data to the TFRecords, and exploring them. Let's begin with creating synthetic datasets in CSV and COCO formats."
   ]
  },
  {
   "cell_type": "code",
   "execution_count": 1,
   "metadata": {},
   "outputs": [],
   "source": [
    "# Let's make sure that JNB can find our SquiDS package ;)\n",
    "import sys\n",
    "sys.path.insert(0, '..')"
   ]
  },
  {
   "cell_type": "markdown",
   "metadata": {},
   "source": [
    "## Generate Synthetic Dataset\n",
    "\n",
    "Synthetic datasets can be generated in CSV and COCO formats explained below."
   ]
  },
  {
   "cell_type": "markdown",
   "metadata": {},
   "source": [
    "### Generate CSV Dataset\n",
    "\n",
    "This is probably the most intuitive way for generating synthetic (or storing real) data. Let's create our dataset."
   ]
  },
  {
   "cell_type": "code",
   "execution_count": 2,
   "metadata": {},
   "outputs": [],
   "source": [
    "from squids import create_dataset\n",
    "create_dataset(\n",
    "    image_width=256, image_height=256, random_state=365\n",
    ")"
   ]
  },
  {
   "cell_type": "code",
   "execution_count": 3,
   "metadata": {},
   "outputs": [
    {
     "name": "stdout",
     "output_type": "stream",
     "text": [
      "categories.json  instances_test.csv   instances_val.csv\n",
      "images\t\t instances_train.csv\n"
     ]
    }
   ],
   "source": [
    "!ls dataset/synthetic"
   ]
  },
  {
   "cell_type": "markdown",
   "metadata": {},
   "source": [
    "| Artifact            | Type   | Comment |\n",
    "|---------------------|--------|---------|\n",
    "| images              | Folder | Contains all generated images |\n",
    "| instances_train.csv | File   | Contains training records including image and annotations |\n",
    "| instances_val.csv   | File   | Contains validation records including image and annotations |\n",
    "| instances_test.csv  | File   | Contains test records including image and annotations |\n",
    "| categories.json     | File   | Contains information about annotated categories |\n",
    "\n",
    "As an example let's review the structure of the instances_train.csv file. Please note, the structure of the other two CSV files is the same."
   ]
  },
  {
   "cell_type": "code",
   "execution_count": 4,
   "metadata": {},
   "outputs": [
    {
     "data": {
      "text/html": [
       "<div>\n",
       "<style scoped>\n",
       "    .dataframe tbody tr th:only-of-type {\n",
       "        vertical-align: middle;\n",
       "    }\n",
       "\n",
       "    .dataframe tbody tr th {\n",
       "        vertical-align: top;\n",
       "    }\n",
       "\n",
       "    .dataframe thead th {\n",
       "        text-align: right;\n",
       "    }\n",
       "</style>\n",
       "<table border=\"1\" class=\"dataframe\">\n",
       "  <thead>\n",
       "    <tr style=\"text-align: right;\">\n",
       "      <th></th>\n",
       "      <th>image_id</th>\n",
       "      <th>file_name</th>\n",
       "      <th>bboxes</th>\n",
       "      <th>segmentations</th>\n",
       "      <th>category_ids</th>\n",
       "    </tr>\n",
       "  </thead>\n",
       "  <tbody>\n",
       "    <tr>\n",
       "      <th>0</th>\n",
       "      <td>0</td>\n",
       "      <td>image0.jpg</td>\n",
       "      <td>[[73, 155, 122, 44], [141, 45, 98, 74], [3, 3,...</td>\n",
       "      <td>[[98, 155, 195, 199, 73, 199], [141, 45, 239, ...</td>\n",
       "      <td>[2, 3, 1]</td>\n",
       "    </tr>\n",
       "    <tr>\n",
       "      <th>1</th>\n",
       "      <td>3</td>\n",
       "      <td>image3.jpg</td>\n",
       "      <td>[[44, 154, 82, 61], [114, 83, 32, 59]]</td>\n",
       "      <td>[[126, 184, 125, 188, 124, 192, 123, 195, 120,...</td>\n",
       "      <td>[1, 2]</td>\n",
       "    </tr>\n",
       "    <tr>\n",
       "      <th>2</th>\n",
       "      <td>4</td>\n",
       "      <td>image4.jpg</td>\n",
       "      <td>[[31, 62, 55, 75], [146, 105, 36, 121]]</td>\n",
       "      <td>[[86, 99, 85, 104, 85, 108, 84, 113, 82, 117, ...</td>\n",
       "      <td>[1, 2]</td>\n",
       "    </tr>\n",
       "    <tr>\n",
       "      <th>3</th>\n",
       "      <td>5</td>\n",
       "      <td>image5.jpg</td>\n",
       "      <td>[[69, 39, 86, 53], [166, 118, 47, 117]]</td>\n",
       "      <td>[[155, 65, 154, 68, 153, 72, 151, 75, 149, 78,...</td>\n",
       "      <td>[1, 3]</td>\n",
       "    </tr>\n",
       "    <tr>\n",
       "      <th>4</th>\n",
       "      <td>7</td>\n",
       "      <td>image7.jpg</td>\n",
       "      <td>[[59, 69, 78, 65]]</td>\n",
       "      <td>[[59, 69, 137, 69, 137, 134, 59, 134]]</td>\n",
       "      <td>[3]</td>\n",
       "    </tr>\n",
       "    <tr>\n",
       "      <th>...</th>\n",
       "      <td>...</td>\n",
       "      <td>...</td>\n",
       "      <td>...</td>\n",
       "      <td>...</td>\n",
       "      <td>...</td>\n",
       "    </tr>\n",
       "    <tr>\n",
       "      <th>707</th>\n",
       "      <td>993</td>\n",
       "      <td>image993.jpg</td>\n",
       "      <td>[[120, 40, 76, 107], [59, 30, 125, 85], [69, 1...</td>\n",
       "      <td>[[120, 40, 196, 40, 196, 147, 120, 147], [166,...</td>\n",
       "      <td>[3, 2, 3]</td>\n",
       "    </tr>\n",
       "    <tr>\n",
       "      <th>708</th>\n",
       "      <td>994</td>\n",
       "      <td>image994.jpg</td>\n",
       "      <td>[[122, 7, 43, 123]]</td>\n",
       "      <td>[[122, 7, 165, 7, 165, 130, 122, 130]]</td>\n",
       "      <td>[3]</td>\n",
       "    </tr>\n",
       "    <tr>\n",
       "      <th>709</th>\n",
       "      <td>995</td>\n",
       "      <td>image995.jpg</td>\n",
       "      <td>[[1, 159, 89, 25], [60, 51, 72, 38], [125, 33,...</td>\n",
       "      <td>[[90, 171, 89, 173, 88, 174, 86, 176, 84, 177,...</td>\n",
       "      <td>[1, 3, 3]</td>\n",
       "    </tr>\n",
       "    <tr>\n",
       "      <th>710</th>\n",
       "      <td>997</td>\n",
       "      <td>image997.jpg</td>\n",
       "      <td>[[211, 152, 27, 79]]</td>\n",
       "      <td>[[211, 152, 238, 152, 238, 231, 211, 231]]</td>\n",
       "      <td>[3]</td>\n",
       "    </tr>\n",
       "    <tr>\n",
       "      <th>711</th>\n",
       "      <td>999</td>\n",
       "      <td>image999.jpg</td>\n",
       "      <td>[[18, 84, 56, 93], [203, 72, 49, 70], [14, 132...</td>\n",
       "      <td>[[18, 84, 74, 84, 74, 177, 18, 177], [252, 107...</td>\n",
       "      <td>[3, 1, 1]</td>\n",
       "    </tr>\n",
       "  </tbody>\n",
       "</table>\n",
       "<p>712 rows × 5 columns</p>\n",
       "</div>"
      ],
      "text/plain": [
       "     image_id     file_name  \\\n",
       "0           0    image0.jpg   \n",
       "1           3    image3.jpg   \n",
       "2           4    image4.jpg   \n",
       "3           5    image5.jpg   \n",
       "4           7    image7.jpg   \n",
       "..        ...           ...   \n",
       "707       993  image993.jpg   \n",
       "708       994  image994.jpg   \n",
       "709       995  image995.jpg   \n",
       "710       997  image997.jpg   \n",
       "711       999  image999.jpg   \n",
       "\n",
       "                                                bboxes  \\\n",
       "0    [[73, 155, 122, 44], [141, 45, 98, 74], [3, 3,...   \n",
       "1               [[44, 154, 82, 61], [114, 83, 32, 59]]   \n",
       "2              [[31, 62, 55, 75], [146, 105, 36, 121]]   \n",
       "3              [[69, 39, 86, 53], [166, 118, 47, 117]]   \n",
       "4                                   [[59, 69, 78, 65]]   \n",
       "..                                                 ...   \n",
       "707  [[120, 40, 76, 107], [59, 30, 125, 85], [69, 1...   \n",
       "708                                [[122, 7, 43, 123]]   \n",
       "709  [[1, 159, 89, 25], [60, 51, 72, 38], [125, 33,...   \n",
       "710                               [[211, 152, 27, 79]]   \n",
       "711  [[18, 84, 56, 93], [203, 72, 49, 70], [14, 132...   \n",
       "\n",
       "                                         segmentations category_ids  \n",
       "0    [[98, 155, 195, 199, 73, 199], [141, 45, 239, ...    [2, 3, 1]  \n",
       "1    [[126, 184, 125, 188, 124, 192, 123, 195, 120,...       [1, 2]  \n",
       "2    [[86, 99, 85, 104, 85, 108, 84, 113, 82, 117, ...       [1, 2]  \n",
       "3    [[155, 65, 154, 68, 153, 72, 151, 75, 149, 78,...       [1, 3]  \n",
       "4               [[59, 69, 137, 69, 137, 134, 59, 134]]          [3]  \n",
       "..                                                 ...          ...  \n",
       "707  [[120, 40, 196, 40, 196, 147, 120, 147], [166,...    [3, 2, 3]  \n",
       "708             [[122, 7, 165, 7, 165, 130, 122, 130]]          [3]  \n",
       "709  [[90, 171, 89, 173, 88, 174, 86, 176, 84, 177,...    [1, 3, 3]  \n",
       "710         [[211, 152, 238, 152, 238, 231, 211, 231]]          [3]  \n",
       "711  [[18, 84, 74, 84, 74, 177, 18, 177], [252, 107...    [3, 1, 1]  \n",
       "\n",
       "[712 rows x 5 columns]"
      ]
     },
     "execution_count": 4,
     "metadata": {},
     "output_type": "execute_result"
    }
   ],
   "source": [
    "import pandas as pd\n",
    "df = pd.read_csv(\"dataset/synthetic/instances_train.csv\")\n",
    "df"
   ]
  },
  {
   "cell_type": "markdown",
   "metadata": {},
   "source": [
    "The `categories.json` file provides more information about each category ID. "
   ]
  },
  {
   "cell_type": "code",
   "execution_count": 5,
   "metadata": {},
   "outputs": [
    {
     "name": "stdout",
     "output_type": "stream",
     "text": [
      "{\n",
      "    \"categories\": [\n",
      "        {\n",
      "            \"id\": 1,\n",
      "            \"name\": \"ellipse\",\n",
      "            \"supercategory\": \"shape\"\n",
      "        },\n",
      "        {\n",
      "            \"id\": 2,\n",
      "            \"name\": \"triangle\",\n",
      "            \"supercategory\": \"shape\"\n",
      "        },\n",
      "        {\n",
      "            \"id\": 3,\n",
      "            \"name\": \"rectangle\",\n",
      "            \"supercategory\": \"shape\"\n",
      "        }\n",
      "    ]\n",
      "}"
     ]
    }
   ],
   "source": [
    "!cat dataset/synthetic/categories.json"
   ]
  },
  {
   "cell_type": "markdown",
   "metadata": {},
   "source": [
    "### Generate COCO Dataset\n",
    "\n",
    "The functionality to generate data in COCO format was introduced primarily to debug handling of real COCO datasets."
   ]
  },
  {
   "cell_type": "code",
   "execution_count": 6,
   "metadata": {},
   "outputs": [],
   "source": [
    "from squids import create_dataset\n",
    "create_dataset(\n",
    "    image_width=256, image_height=256, random_state=365, coco=True\n",
    ")"
   ]
  },
  {
   "cell_type": "code",
   "execution_count": 7,
   "metadata": {},
   "outputs": [
    {
     "name": "stdout",
     "output_type": "stream",
     "text": [
      "annotations  instances_test  instances_train  instances_val\n"
     ]
    }
   ],
   "source": [
    "!ls dataset/synthetic"
   ]
  },
  {
   "cell_type": "code",
   "execution_count": 8,
   "metadata": {},
   "outputs": [
    {
     "name": "stdout",
     "output_type": "stream",
     "text": [
      "instances_test.json  instances_train.json  instances_val.json\n"
     ]
    }
   ],
   "source": [
    "!ls dataset/synthetic/annotations"
   ]
  },
  {
   "cell_type": "markdown",
   "metadata": {},
   "source": [
    "| Artifact                         | Type   | Comment |\n",
    "|----------------------------------|--------|---------|\n",
    "| annotations                      | Folder | Contains files describing annotations |\n",
    "| annotations/instances_train.json | File   | Contains training records including image and annotations |\n",
    "| annotations/instances_val.json   | File   | Contains validation records including image and annotations |\n",
    "| annotations/instances_test.json  | File   | Contains test records including image and annotations |\n",
    "| instances_train                  | Folder | Contains all generated training images (annotated in instances_train.json) |\n",
    "| instances_val                    | Folder | Contains all generated validation images (annotated in instances_val.json) |\n",
    "| instances_test                   | Folder | Contains all generated test images (annotated in instances_test.json) |\n",
    "\n",
    "As an example let's review the structure of the instances_train.json file. Please note, the structure of the other two JSON files is the same."
   ]
  },
  {
   "cell_type": "code",
   "execution_count": 9,
   "metadata": {},
   "outputs": [
    {
     "name": "stdout",
     "output_type": "stream",
     "text": [
      "Top sections: ['info', 'licenses', 'images', 'categories', 'annotations']\n"
     ]
    }
   ],
   "source": [
    "import json\n",
    "with open(\"dataset/synthetic/annotations/instances_train.json\") as fp:\n",
    "    train = json.load(fp)\n",
    "print(\"Top sections:\", list(train.keys()))\n"
   ]
  },
  {
   "cell_type": "markdown",
   "metadata": {},
   "source": [
    "The top-level of the COCO JSON structure contains the five categories. The following three are the most important for the current topic: `images`, `annotations`, and `categories`. Let's review an image record."
   ]
  },
  {
   "cell_type": "code",
   "execution_count": 10,
   "metadata": {},
   "outputs": [
    {
     "name": "stdout",
     "output_type": "stream",
     "text": [
      "images[0]: {\n",
      "    \"file_name\": \"image0.jpg\",\n",
      "    \"coco_url\": \"file:///dataset/synthetic/instances_train/image0.jpg\",\n",
      "    \"width\": 256,\n",
      "    \"height\": 256,\n",
      "    \"date_captured\": \"2022-02-10 08:52:06\",\n",
      "    \"id\": 0\n",
      "}\n"
     ]
    }
   ],
   "source": [
    "print(\"images[0]:\", json.dumps(train[\"images\"][0], indent=4))"
   ]
  },
  {
   "cell_type": "markdown",
   "metadata": {},
   "source": [
    "It contains information about an image, where the most relevant properties are `file_name` and `id`. The transformer will try to read this image file from the folder derived from the stem name of the JSON file. For example, if this file is `instances_train.json`, the image is expected to be stored in the `.../instances_train` folder. So the full path to the image will be `dataset/synthetic/annotations/instances_train/image###.jpg`"
   ]
  },
  {
   "cell_type": "code",
   "execution_count": 11,
   "metadata": {},
   "outputs": [
    {
     "name": "stdout",
     "output_type": "stream",
     "text": [
      "annotations[0]: {\n",
      "    \"segmentation\": [\n",
      "        [\n",
      "            98,\n",
      "            155,\n",
      "            195,\n",
      "            199,\n",
      "            73,\n",
      "            199\n",
      "        ]\n",
      "    ],\n",
      "    \"area\": 2684.0,\n",
      "    \"iscrowd\": 0,\n",
      "    \"image_id\": 0,\n",
      "    \"bbox\": [\n",
      "        73,\n",
      "        155,\n",
      "        122,\n",
      "        44\n",
      "    ],\n",
      "    \"category_id\": 2,\n",
      "    \"id\": 0\n",
      "}\n"
     ]
    }
   ],
   "source": [
    "print(\"annotations[0]:\", json.dumps(train[\"annotations\"][0], indent=4))"
   ]
  },
  {
   "cell_type": "markdown",
   "metadata": {},
   "source": [
    "The annotation record contains information about the image it belongs to via `image_id`, bounding box coordinates `bbox`, segmentation polygon coordinates `segmentation`, and `category_id` to define what type of an object is segmented. The identifier of the segmentation itself is the `id` property."
   ]
  },
  {
   "cell_type": "code",
   "execution_count": 12,
   "metadata": {},
   "outputs": [
    {
     "name": "stdout",
     "output_type": "stream",
     "text": [
      "categories: [\n",
      "    {\n",
      "        \"supercategory\": \"shape\",\n",
      "        \"id\": 1,\n",
      "        \"name\": \"ellipse\"\n",
      "    },\n",
      "    {\n",
      "        \"supercategory\": \"shape\",\n",
      "        \"id\": 2,\n",
      "        \"name\": \"triangle\"\n",
      "    },\n",
      "    {\n",
      "        \"supercategory\": \"shape\",\n",
      "        \"id\": 3,\n",
      "        \"name\": \"rectangle\"\n",
      "    }\n",
      "]\n"
     ]
    }
   ],
   "source": [
    "print(\"categories:\", json.dumps(train[\"categories\"], indent=4))"
   ]
  },
  {
   "cell_type": "markdown",
   "metadata": {},
   "source": [
    "This section provides more information about each category ID. "
   ]
  },
  {
   "cell_type": "markdown",
   "metadata": {},
   "source": [
    "## Transforme Dataset to TFRecords\n",
    "\n",
    "This process is the same for the synthetic or real dataset in either CSV or COCO formats."
   ]
  },
  {
   "cell_type": "code",
   "execution_count": 13,
   "metadata": {},
   "outputs": [],
   "source": [
    "from squids import create_tfrecords\n",
    "create_tfrecords(image_width=256, image_height=256)"
   ]
  },
  {
   "cell_type": "markdown",
   "metadata": {},
   "source": [
    "This function also can be run with only default arguments. In this case, it will look for the default dataset directory `dataset/synthetic`. Using the directory structure the transformation method determines the data format (CSV or COCO). Then it creates a new directory `dataset/synthetic-tfrecords` where stores the transformed records."
   ]
  },
  {
   "cell_type": "code",
   "execution_count": 14,
   "metadata": {},
   "outputs": [
    {
     "name": "stdout",
     "output_type": "stream",
     "text": [
      "instances_test\tinstances_train  instances_val\n",
      "part-0.tfrecord  part-1.tfrecord  part-2.tfrecord\n",
      "part-0.tfrecord\n",
      "part-0.tfrecord\n"
     ]
    }
   ],
   "source": [
    "\n",
    "!ls dataset/synthetic-tfrecords\n",
    "!ls dataset/synthetic-tfrecords/instances_train\n",
    "!ls dataset/synthetic-tfrecords/instances_val\n",
    "!ls dataset/synthetic-tfrecords/instances_test"
   ]
  },
  {
   "cell_type": "markdown",
   "metadata": {},
   "source": [
    "AS you can see the top directory `dataset/synthetic-tfrecords` contains three subdirectories `instances_train`, `instances_val`, and `instances_test` containing file-parts with TFRecords for training, validation, and testing respectivly. Each of these folders usually includes a different number of part-files, depending on the volume of the original dataset for each machine learning task."
   ]
  },
  {
   "cell_type": "markdown",
   "metadata": {},
   "source": [
    "## Exploring TFRecords\n",
    "\n",
    "As a part of the training process, it is important to know that the right data is entering the machine learning model. the following functions allow you to explore data located inside TFRecords."
   ]
  },
  {
   "cell_type": "code",
   "execution_count": 15,
   "metadata": {},
   "outputs": [
    {
     "name": "stderr",
     "output_type": "stream",
     "text": [
      "2022-02-10 08:52:22.010968: E tensorflow/stream_executor/cuda/cuda_driver.cc:271] failed call to cuInit: CUDA_ERROR_NO_DEVICE: no CUDA-capable device is detected\n",
      "2022-02-10 08:52:22.011008: I tensorflow/stream_executor/cuda/cuda_diagnostics.cc:156] kernel driver does not appear to be running on this host (mykola-desktop): /proc/driver/nvidia/version does not exist\n",
      "2022-02-10 08:52:22.012769: I tensorflow/core/platform/cpu_feature_guard.cc:151] This TensorFlow binary is optimized with oneAPI Deep Neural Network Library (oneDNN) to use the following CPU instructions in performance-critical operations:  AVX2 FMA\n",
      "To enable them in other operations, rebuild TensorFlow with the appropriate compiler flags.\n"
     ]
    },
    {
     "name": "stdout",
     "output_type": "stream",
     "text": [
      "\n",
      "dataset/synthetic-tfrecords/instances_train\n",
      "725 (1)      891 (1,2,3)  421 (1,3)    580 (2)      29 (3)       194 (1)    \n",
      "726 (2)      892 (3)      422 (1,2)    581 (3)      30 (1,2)     195 (1,3)  \n",
      "727 (3)      893 (3)      423 (1,3)    582 (1)      33 (1)       196 (2)    \n",
      "728 (2,3)    894 (2)      424 (1,3)    583 (1,2,3)  34 (2)       197 (1)    \n",
      "729 (1,2)    895 (2,3)    426 (1)      584 (1)      36 (1)       198 (1,2)  \n",
      "730 (3)      896 (1,3)    427 (3)      585 (3)      37 (3)       199 (2)    \n",
      "731 (1,2)    897 (1)      428 (1)      586 (1,2)    38 (3)       200 (2)    \n",
      "733 (2)      898 (2)      429 (2,3)    587 (1)      39 (1)       201 (2,3)  \n",
      "734 (2,3)    899 (1)      431 (2,3)    590 (3)      40 (3)       202 (2,3)  \n",
      "735 (1,2)    900 (1)      432 (3)      591 (3)      42 (1)       203 (1,3)  \n",
      "737 (1,2,3)  902 (3)      433 (1,3)    592 (3)      43 (1,2)     205 (2,3)  \n",
      "739 (2)      904 (2,3)    434 (2)      593 (1)      44 (1,2)     206 (3)    \n",
      "740 (2)      905 (2,3)    435 (3)      596 (3)      45 (2,3)     207 (2)    \n",
      "741 (1,2)    906 (1,2)    436 (2)      597 (3)      46 (1)       209 (1,2)  \n",
      "743 (2)      908 (1,3)    438 (3)      599 (2)      47 (1,3)     210 (1,3)  \n",
      "744 (2)      910 (2,3)    439 (3)      600 (2,3)    49 (1,2)     211 (2,3)  \n",
      "745 (1)      911 (1,2)    440 (1)      602 (3)      50 (1,2,3)   213 (2)    \n",
      "746 (2,3)    912 (1,2)    443 (2,3)    603 (1)      51 (1,2)     214 (2)    \n",
      "747 (1,2)    913 (3)      444 (3)      604 (3)      54 (3)       215 (1)    \n",
      "748 (1,3)    914 (2,3)    445 (1,3)    605 (3)      55 (3)       217 (2)    \n",
      "749 (1,2)    915 (1,3)    446 (2,3)    607 (3)      56 (3)       218 (2,3)  \n",
      "750 (1,2)    917 (1,2)    447 (1)      608 (1)      58 (2,3)     219 (1)    \n",
      "751 (2,3)    918 (1,2)    449 (1,2,3)  611 (1,2)    59 (1,2,3)   220 (3)    \n",
      "753 (1)      920 (1,2,3)  450 (1)      612 (1,3)    60 (1,2,3)   221 (3)    \n",
      "754 (1,2)    921 (1)      451 (2,3)    614 (1)      61 (3)       222 (2,3)  \n",
      "756 (1)      922 (1,2,3)  452 (1,3)    615 (1,2)    62 (1,2,3)   224 (1)    \n",
      "758 (1,3)    923 (2)      454 (1,3)    616 (3)      65 (2)       225 (1,2)  \n",
      "759 (2)      924 (2)      455 (1,3)    618 (3)      66 (1,2)     226 (1)    \n",
      "760 (2,3)    925 (3)      456 (1,3)    619 (1)      67 (2)       230 (1,3)  \n",
      "761 (1,3)    926 (2,3)    457 (2,3)    620 (2,3)    68 (2)       233 (1,2)  \n",
      "763 (3)      927 (1)      458 (1,2)    621 (1,2)    69 (2)       236 (2)    \n",
      "765 (3)      929 (1,3)    459 (3)      622 (1,3)    70 (3)       237 (2)    \n",
      "767 (1,2,3)  930 (1)      460 (1)      624 (1)      75 (1)       238 (1)    \n",
      "768 (1)      933 (1)      461 (1)      625 (1,2)    77 (1,2)     239 (2,3)  \n",
      "770 (3)      934 (1,2,3)  464 (3)      626 (1,3)    79 (1)       240 (1)    \n",
      "771 (1,3)    935 (3)      465 (2)      627 (1,3)    81 (1,3)     241 (1,2)  \n",
      "772 (3)      936 (1,3)    467 (1)      628 (1,3)    83 (1)       242 (1)    \n",
      "773 (1,3)    937 (1,2,3)  469 (1,2)    629 (3)      84 (1,2)     244 (1,3)  \n",
      "775 (1,2)    939 (1,2)    470 (3)      630 (1,3)    85 (2)       245 (2)    \n",
      "776 (2,3)    941 (2)      472 (2)      632 (1)      86 (2)       246 (3)    \n",
      "778 (1,3)    943 (2,3)    473 (2,3)    637 (2,3)    88 (3)       248 (2)    \n",
      "782 (2)      945 (1,3)    477 (2)      638 (3)      89 (1,2)     249 (1)    \n",
      "784 (2)      948 (1)      478 (2)      640 (1)      94 (2)       250 (1,3)  \n",
      "785 (2)      949 (1,2)    480 (2)      641 (1,3)    95 (1,2)     251 (1,3)  \n",
      "786 (1,2)    950 (1,3)    481 (1)      642 (2,3)    96 (1,2,3)   252 (1,2)  \n",
      "787 (1,2)    952 (1,3)    482 (2)      644 (2)      97 (2)       253 (2,3)  \n",
      "789 (2,3)    953 (1,3)    483 (2,3)    645 (2,3)    99 (1,2,3)   255 (2)    \n",
      "790 (2)      954 (2,3)    484 (3)      646 (1,3)    100 (2)      256 (1)    \n",
      "791 (1,2)    958 (2)      485 (1,3)    647 (1,3)    101 (2)      258 (1,2)  \n",
      "793 (3)      961 (1)      486 (3)      648 (1,3)    102 (3)      260 (2,3)  \n",
      "795 (2)      962 (1,2)    488 (1,2)    649 (1,2)    104 (1,3)    261 (3)    \n",
      "796 (1)      963 (1,2)    489 (2,3)    650 (2)      105 (1,2,3)  262 (1)    \n",
      "797 (1)      964 (3)      490 (2,3)    651 (3)      107 (2)      263 (2)    \n",
      "798 (1)      965 (1,2)    491 (3)      652 (1)      109 (3)      264 (1,2)  \n",
      "799 (1,3)    966 (1,3)    493 (1,2)    654 (1,2)    110 (1,2)    266 (1,2)  \n",
      "800 (2,3)    967 (2)      494 (3)      655 (1)      111 (2)      267 (2)    \n",
      "801 (2,3)    969 (1)      495 (1,3)    657 (1,2,3)  112 (3)      269 (3)    \n",
      "802 (1,2)    970 (2,3)    496 (1,3)    658 (1)      113 (2)      270 (2,3)  \n",
      "803 (3)      972 (2)      498 (1)      660 (1,2,3)  115 (2)      271 (1,2)  \n",
      "804 (2,3)    974 (1)      499 (1,3)    661 (3)      116 (2,3)    273 (2,3)  \n",
      "806 (3)      975 (1)      500 (3)      663 (1)      118 (1,2)    276 (3)    \n",
      "807 (2)      977 (2)      501 (1,2,3)  664 (2)      119 (2)      278 (1,3)  \n",
      "808 (1)      978 (1,2)    502 (1)      667 (3)      120 (1)      281 (1,2)  \n",
      "809 (1,3)    979 (2)      503 (2)      668 (1,2)    121 (3)      282 (1,3)  \n",
      "810 (2)      980 (1)      504 (1,3)    670 (2,3)    122 (1,2)    283 (1,2)  \n",
      "813 (3)      981 (1,3)    506 (2)      671 (1,2,3)  123 (1)      284 (1,3)  \n",
      "814 (1,2)    982 (2,3)    507 (1,2,3)  673 (1,2)    125 (1,3)    285 (1,2)  \n",
      "815 (2,3)    983 (2,3)    511 (1)      678 (1,2)    128 (1,2)    286 (1,2,3)\n",
      "817 (1)      984 (1,2,3)  512 (2)      680 (2)      129 (2)      288 (2,3)  \n",
      "819 (1,3)    985 (2)      514 (1,2)    682 (1)      130 (2)      289 (2)    \n",
      "820 (1)      986 (1,3)    515 (1,2)    683 (2,3)    131 (2)      290 (3)    \n",
      "821 (1)      987 (1,2)    517 (1,3)    684 (1)      133 (1)      291 (2)    \n",
      "823 (3)      988 (1,3)    518 (3)      686 (1,2)    134 (2)      294 (3)    \n",
      "824 (2)      989 (1,2,3)  519 (1,3)    687 (1)      136 (1,3)    295 (2,3)  \n",
      "825 (1,2,3)  990 (2)      520 (1,2,3)  688 (1,3)    137 (2,3)    296 (3)    \n",
      "827 (2)      991 (1,2)    521 (2)      689 (1,2)    138 (2,3)    297 (1)    \n",
      "828 (1,2,3)  993 (2,3)    525 (1)      690 (1,3)    139 (2)      299 (1,3)  \n",
      "829 (1,3)    994 (3)      526 (1,2)    692 (2)      140 (1)      301 (1,3)  \n",
      "830 (3)      995 (1,3)    527 (1,2)    693 (3)      143 (2)      304 (1,3)  \n",
      "831 (1,3)    997 (3)      528 (1,2)    694 (2)      145 (1,2,3)  305 (2)    \n",
      "832 (2)      999 (1,3)    529 (1,2,3)  698 (2)      146 (1,2,3)  306 (1,3)  \n",
      "833 (2)      368 (1,3)    530 (3)      699 (1,2,3)  147 (2)      307 (1,2,3)\n",
      "836 (2)      372 (1,3)    532 (2,3)    700 (2,3)    150 (3)      309 (1,3)  \n",
      "840 (1)      374 (2)      533 (2,3)    702 (2,3)    151 (2,3)    311 (1)    \n",
      "841 (1,2,3)  375 (2)      534 (3)      703 (3)      153 (3)      313 (1,2)  \n",
      "843 (2,3)    377 (1)      536 (1)      706 (1)      154 (2,3)    314 (2)    \n",
      "845 (2)      378 (1)      537 (2,3)    707 (1,2)    155 (3)      315 (1,2)  \n",
      "847 (2)      379 (2,3)    538 (1,2)    709 (2,3)    156 (1,2)    316 (2)    \n",
      "848 (1)      380 (1)      539 (3)      711 (2,3)    158 (1)      317 (1,2)  \n",
      "849 (1)      381 (1,2)    541 (1,3)    712 (2)      159 (3)      318 (3)    \n",
      "850 (1,3)    384 (1,2)    542 (3)      713 (3)      160 (1,2,3)  319 (3)    \n",
      "851 (1,2)    386 (1)      543 (1,2,3)  715 (1,2)    161 (2,3)    320 (2,3)  \n",
      "852 (2)      387 (1)      546 (2,3)    717 (2,3)    162 (1,2,3)  321 (3)    \n",
      "853 (3)      389 (1,3)    547 (1,3)    718 (2,3)    163 (1,3)    322 (1,2)  \n",
      "854 (1,3)    390 (1)      548 (1,2,3)  719 (3)      164 (2,3)    323 (1)    \n",
      "856 (1,3)    391 (2,3)    549 (1,2)    720 (2)      165 (1,2)    326 (1,3)  \n",
      "857 (1,3)    392 (3)      550 (1,2,3)  721 (1,2,3)  166 (1)      327 (2,3)  \n",
      "861 (2)      393 (1,3)    551 (1,2,3)  723 (3)      167 (3)      328 (1)    \n",
      "862 (1)      394 (1,3)    552 (2)      724 (1,2)    168 (1)      330 (2,3)  \n",
      "863 (1,2,3)  395 (1)      553 (3)      0 (1,2,3)    169 (2)      333 (2,3)  \n",
      "864 (2)      396 (2,3)    554 (1,2,3)  3 (1,2)      172 (1)      334 (1)    \n",
      "865 (1,3)    397 (2,3)    555 (1)      4 (1,2)      173 (1,3)    338 (2)    \n",
      "868 (1)      398 (3)      556 (1,2,3)  5 (1,3)      174 (1,3)    339 (1,2,3)\n",
      "869 (2,3)    399 (1,2)    558 (2)      7 (3)        175 (2)      340 (1,3)  \n",
      "870 (2,3)    400 (2)      559 (1,3)    8 (3)        178 (1,3)    350 (3)    \n",
      "872 (1,2)    402 (1)      560 (1,2,3)  9 (1,3)      179 (1,2,3)  351 (1,2,3)\n",
      "873 (1,2)    404 (2)      561 (2,3)    10 (2)       180 (2)      353 (1,3)  \n",
      "874 (3)      406 (1)      563 (2)      13 (2,3)     181 (3)      354 (1,2,3)\n",
      "875 (1,3)    409 (1,2,3)  564 (2,3)    14 (1)       182 (1,2,3)  356 (1)    \n",
      "877 (1,3)    410 (3)      566 (1,2,3)  15 (2)       183 (2)      357 (1,2)  \n",
      "878 (1,2)    411 (1,3)    568 (2)      16 (2)       184 (3)      359 (3)    \n",
      "880 (3)      412 (2)      569 (1,2)    17 (1,2,3)   185 (1,2)    361 (2,3)  \n",
      "882 (1,3)    413 (3)      572 (2)      19 (1)       186 (1,2,3)  362 (1,2,3)\n",
      "883 (1)      414 (2)      574 (2,3)    20 (1,2,3)   187 (2,3)    363 (1)    \n",
      "884 (1,2,3)  415 (1)      575 (2,3)    21 (2)       188 (2)      365 (3)    \n",
      "886 (1,2)    416 (2,3)    576 (1,2)    23 (3)       189 (1,2)    366 (1)    \n",
      "887 (1,3)    417 (1,3)    577 (2)      24 (2,3)     190 (2,3)    367 (1)    \n",
      "888 (1)      419 (2,3)    578 (1,2)    27 (2)       192 (1,3)  \n",
      "890 (1,3)    420 (1)      579 (2)      28 (3)       193 (1,2)  \n",
      "Total 712 records\n"
     ]
    }
   ],
   "source": [
    "from squids import explore_tfrecords\n",
    "explore_tfrecords(\"dataset/synthetic-tfrecords/instances_train\")"
   ]
  },
  {
   "cell_type": "markdown",
   "metadata": {},
   "source": [
    "From the output, you can observe the number of TFRecords parts, the total number of images contained with these records, listing all images IDs combined with indicators categories present in each image. For example, if we have the following line `123 (1,2)`, it means that the image with ID `123` has 1 or more objects of category `1` and 1 or more objects of category `2`. This should help you pick a specific image including specific sets of categories.\n",
    "\n",
    "Let's select an image for further exploration."
   ]
  },
  {
   "cell_type": "code",
   "execution_count": 16,
   "metadata": {},
   "outputs": [
    {
     "name": "stdout",
     "output_type": "stream",
     "text": [
      "Property                Value\n",
      "----------------------  -------------\n",
      "image_id                0\n",
      "image_shape             (256, 256, 3)\n",
      "number_labeled_objects  3\n",
      "available_category_ids  {1, 2, 3}\n",
      "Image saved to ./0.png\n"
     ]
    }
   ],
   "source": [
    "from squids import explore_tfrecords\n",
    "exploring_image_id = 0\n",
    "explore_tfrecords(\"dataset/synthetic-tfrecords/instances_train\", exploring_image_id)"
   ]
  },
  {
   "cell_type": "markdown",
   "metadata": {},
   "source": [
    "The output contains information about image ID it shape, number of annotated objects, and their categories. Also, all information about bounding boxes, segmentation, and categories are superimposed to the stored image, an example of which is shown below."
   ]
  },
  {
   "cell_type": "code",
   "execution_count": 17,
   "metadata": {},
   "outputs": [
    {
     "data": {
      "image/png": "[encoded data removed]",
      "text/plain": [
       "<PIL.PngImagePlugin.PngImageFile image mode=RGB size=256x256 at 0x7F5C44F945B0>"
      ]
     },
     "execution_count": 17,
     "metadata": {},
     "output_type": "execute_result"
    }
   ],
   "source": [
    "from PIL import Image\n",
    "img = Image.open(f\"./{exploring_image_id}.png\")\n",
    "img"
   ]
  }
 ],
 "metadata": {
  "interpreter": {
   "hash": "c0c458caad03a2e69d5039d0780e9d34fa00817d354e8938f314531d50fa4305"
  },
  "kernelspec": {
   "display_name": "Python 3.8.10 64-bit ('.venv': venv)",
   "language": "python",
   "name": "python3"
  },
  "language_info": {
   "codemirror_mode": {
    "name": "ipython",
    "version": 3
   },
   "file_extension": ".py",
   "mimetype": "text/x-python",
   "name": "python",
   "nbconvert_exporter": "python",
   "pygments_lexer": "ipython3",
   "version": "3.8.10"
  },
  "orig_nbformat": 4
 },
 "nbformat": 4,
 "nbformat_minor": 2
}
