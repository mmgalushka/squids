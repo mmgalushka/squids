{
 "cells": [
  {
   "cell_type": "markdown",
   "metadata": {},
   "source": [
    "# Generate, Transform and Explore\n",
    "\n",
    "This notebook focuses on the pipeline for generating synthetic data (in CSV and COCO format, transforming this data to the TFRecords, and exploring them. Let's begin with creating synthetic datasets in CSV and COCO formats."
   ]
  },
  {
   "cell_type": "code",
   "execution_count": 23,
   "metadata": {},
   "outputs": [],
   "source": [
    "# Let's make sure that JNB can find our SquiDS package ;)\n",
    "import sys\n",
    "sys.path.insert(0, '..')"
   ]
  },
  {
   "cell_type": "markdown",
   "metadata": {},
   "source": [
    "## Generate Synthetic Dataset\n",
    "\n",
    "Generating synthetic datasets in either format will lead to the same outcome. However, it is important to understand the data structure for both formats. In the future, you may adopt the same formats for storing your real data, which significantly simplifies downstream processes as their transformation and exploration."
   ]
  },
  {
   "cell_type": "markdown",
   "metadata": {},
   "source": [
    "### Generate CSV Dataset\n",
    "\n",
    "This is probably the most intuitive way to generate synthetic (or store real) data. Let's create our dataset."
   ]
  },
  {
   "cell_type": "code",
   "execution_count": 24,
   "metadata": {},
   "outputs": [],
   "source": [
    "from squids import create_csv_dataset\n",
    "create_csv_dataset()"
   ]
  },
  {
   "cell_type": "markdown",
   "metadata": {},
   "source": [
    "You can learn about different arguments of this function here. But if you leave all to default, it will create the following directories and files in the current folder."
   ]
  },
  {
   "cell_type": "code",
   "execution_count": 25,
   "metadata": {},
   "outputs": [
    {
     "name": "stdout",
     "output_type": "stream",
     "text": [
      "categories.json  instances_test.csv   instances_val.csv\n",
      "images\t\t instances_train.csv\n"
     ]
    }
   ],
   "source": [
    "!ls dataset/synthetic"
   ]
  },
  {
   "cell_type": "markdown",
   "metadata": {},
   "source": [
    "| Artifact            | Type   | Comment |\n",
    "|---------------------|--------|---------|\n",
    "| images              | Folder | Contains all generated images |\n",
    "| instances_train.csv | File   | Contains training records including image and annotations |\n",
    "| instances_val.csv   | File   | Contains validation records including image and annotations |\n",
    "| instances_test.csv  | File   | Contains test records including image and annotations |\n",
    "| categories.json     | File   | Contains information about annotated categories |\n",
    "\n",
    "As an example let's review the structure of the instances_train.csv file. Please note, the structure of the other two CSV files is the same."
   ]
  },
  {
   "cell_type": "code",
   "execution_count": 26,
   "metadata": {},
   "outputs": [
    {
     "data": {
      "text/html": [
       "<div>\n",
       "<style scoped>\n",
       "    .dataframe tbody tr th:only-of-type {\n",
       "        vertical-align: middle;\n",
       "    }\n",
       "\n",
       "    .dataframe tbody tr th {\n",
       "        vertical-align: top;\n",
       "    }\n",
       "\n",
       "    .dataframe thead th {\n",
       "        text-align: right;\n",
       "    }\n",
       "</style>\n",
       "<table border=\"1\" class=\"dataframe\">\n",
       "  <thead>\n",
       "    <tr style=\"text-align: right;\">\n",
       "      <th></th>\n",
       "      <th>image_id</th>\n",
       "      <th>file_name</th>\n",
       "      <th>bboxes</th>\n",
       "      <th>segmentations</th>\n",
       "      <th>category_ids</th>\n",
       "    </tr>\n",
       "  </thead>\n",
       "  <tbody>\n",
       "    <tr>\n",
       "      <th>0</th>\n",
       "      <td>0</td>\n",
       "      <td>image0.jpg</td>\n",
       "      <td>[[4, 11, 16, 32]]</td>\n",
       "      <td>[[10, 11, 20, 43, 4, 43]]</td>\n",
       "      <td>[2]</td>\n",
       "    </tr>\n",
       "    <tr>\n",
       "      <th>1</th>\n",
       "      <td>1</td>\n",
       "      <td>image1.jpg</td>\n",
       "      <td>[[44, 17, 13, 23], [3, 2, 11, 9]]</td>\n",
       "      <td>[[48, 17, 57, 40, 44, 40], [3, 2, 14, 2, 14, 1...</td>\n",
       "      <td>[2, 1]</td>\n",
       "    </tr>\n",
       "    <tr>\n",
       "      <th>2</th>\n",
       "      <td>2</td>\n",
       "      <td>image2.jpg</td>\n",
       "      <td>[[2, 46, 21, 8], [21, 6, 8, 26]]</td>\n",
       "      <td>[[2, 46, 23, 46, 23, 54, 2, 54], [29, 6, 29, 3...</td>\n",
       "      <td>[1, 2]</td>\n",
       "    </tr>\n",
       "    <tr>\n",
       "      <th>3</th>\n",
       "      <td>3</td>\n",
       "      <td>image3.jpg</td>\n",
       "      <td>[[11, 31, 17, 21], [0, 31, 18, 31]]</td>\n",
       "      <td>[[24, 31, 28, 52, 11, 52], [0, 31, 18, 31, 18,...</td>\n",
       "      <td>[2, 1]</td>\n",
       "    </tr>\n",
       "    <tr>\n",
       "      <th>4</th>\n",
       "      <td>4</td>\n",
       "      <td>image4.jpg</td>\n",
       "      <td>[[27, 21, 25, 7], [7, 32, 24, 27]]</td>\n",
       "      <td>[[38, 21, 52, 28, 27, 28], [7, 32, 31, 32, 31,...</td>\n",
       "      <td>[2, 1]</td>\n",
       "    </tr>\n",
       "    <tr>\n",
       "      <th>...</th>\n",
       "      <td>...</td>\n",
       "      <td>...</td>\n",
       "      <td>...</td>\n",
       "      <td>...</td>\n",
       "      <td>...</td>\n",
       "    </tr>\n",
       "    <tr>\n",
       "      <th>706</th>\n",
       "      <td>991</td>\n",
       "      <td>image991.jpg</td>\n",
       "      <td>[[21, 5, 30, 26], [3, 12, 26, 27]]</td>\n",
       "      <td>[[21, 5, 51, 5, 51, 31, 21, 31], [20, 12, 29, ...</td>\n",
       "      <td>[1, 2]</td>\n",
       "    </tr>\n",
       "    <tr>\n",
       "      <th>707</th>\n",
       "      <td>993</td>\n",
       "      <td>image993.jpg</td>\n",
       "      <td>[[37, 37, 18, 26]]</td>\n",
       "      <td>[[49, 37, 55, 63, 37, 63]]</td>\n",
       "      <td>[2]</td>\n",
       "    </tr>\n",
       "    <tr>\n",
       "      <th>708</th>\n",
       "      <td>994</td>\n",
       "      <td>image994.jpg</td>\n",
       "      <td>[[5, 43, 9, 17]]</td>\n",
       "      <td>[[5, 43, 14, 43, 14, 60, 5, 60]]</td>\n",
       "      <td>[1]</td>\n",
       "    </tr>\n",
       "    <tr>\n",
       "      <th>709</th>\n",
       "      <td>995</td>\n",
       "      <td>image995.jpg</td>\n",
       "      <td>[[1, 47, 27, 10]]</td>\n",
       "      <td>[[1, 47, 28, 47, 28, 57, 1, 57]]</td>\n",
       "      <td>[1]</td>\n",
       "    </tr>\n",
       "    <tr>\n",
       "      <th>710</th>\n",
       "      <td>997</td>\n",
       "      <td>image997.jpg</td>\n",
       "      <td>[[52, 22, 7, 30], [10, 26, 17, 15]]</td>\n",
       "      <td>[[55, 22, 59, 52, 52, 52], [12, 26, 27, 41, 10...</td>\n",
       "      <td>[2, 2]</td>\n",
       "    </tr>\n",
       "  </tbody>\n",
       "</table>\n",
       "<p>711 rows × 5 columns</p>\n",
       "</div>"
      ],
      "text/plain": [
       "     image_id     file_name                               bboxes  \\\n",
       "0           0    image0.jpg                    [[4, 11, 16, 32]]   \n",
       "1           1    image1.jpg    [[44, 17, 13, 23], [3, 2, 11, 9]]   \n",
       "2           2    image2.jpg     [[2, 46, 21, 8], [21, 6, 8, 26]]   \n",
       "3           3    image3.jpg  [[11, 31, 17, 21], [0, 31, 18, 31]]   \n",
       "4           4    image4.jpg   [[27, 21, 25, 7], [7, 32, 24, 27]]   \n",
       "..        ...           ...                                  ...   \n",
       "706       991  image991.jpg   [[21, 5, 30, 26], [3, 12, 26, 27]]   \n",
       "707       993  image993.jpg                   [[37, 37, 18, 26]]   \n",
       "708       994  image994.jpg                     [[5, 43, 9, 17]]   \n",
       "709       995  image995.jpg                    [[1, 47, 27, 10]]   \n",
       "710       997  image997.jpg  [[52, 22, 7, 30], [10, 26, 17, 15]]   \n",
       "\n",
       "                                         segmentations category_ids  \n",
       "0                            [[10, 11, 20, 43, 4, 43]]          [2]  \n",
       "1    [[48, 17, 57, 40, 44, 40], [3, 2, 14, 2, 14, 1...       [2, 1]  \n",
       "2    [[2, 46, 23, 46, 23, 54, 2, 54], [29, 6, 29, 3...       [1, 2]  \n",
       "3    [[24, 31, 28, 52, 11, 52], [0, 31, 18, 31, 18,...       [2, 1]  \n",
       "4    [[38, 21, 52, 28, 27, 28], [7, 32, 31, 32, 31,...       [2, 1]  \n",
       "..                                                 ...          ...  \n",
       "706  [[21, 5, 51, 5, 51, 31, 21, 31], [20, 12, 29, ...       [1, 2]  \n",
       "707                         [[49, 37, 55, 63, 37, 63]]          [2]  \n",
       "708                   [[5, 43, 14, 43, 14, 60, 5, 60]]          [1]  \n",
       "709                   [[1, 47, 28, 47, 28, 57, 1, 57]]          [1]  \n",
       "710  [[55, 22, 59, 52, 52, 52], [12, 26, 27, 41, 10...       [2, 2]  \n",
       "\n",
       "[711 rows x 5 columns]"
      ]
     },
     "execution_count": 26,
     "metadata": {},
     "output_type": "execute_result"
    }
   ],
   "source": [
    "import pandas as pd\n",
    "df = pd.read_csv(\"dataset/synthetic/instances_train.csv\")\n",
    "df"
   ]
  },
  {
   "cell_type": "markdown",
   "metadata": {},
   "source": [
    "As you can see from the printout the CSV file has 5 columns:\n",
    "\n",
    "| Column Name   | Column Description |\n",
    "|---------------|--------------------|\n",
    "|image_id       | Defines an image ID which later will identifier this image in TFRecords |\n",
    "|file_name      | Defines an image file name (note the file will be automatically looked up in the images directory) |\n",
    "|bboxes         | Defines a list of bounding boxes, for all objects annotated in the corresponding image |\n",
    "|segmentations  | Defines a list of segmentations in the form of polygons, for all objects annotated in the corresponding image |\n",
    "|category_ids   | Defines a list of category IDs, for all objects annotated in the corresponding image |\n",
    "\n",
    "You can get more information about each category ID from the `categories.json` file."
   ]
  },
  {
   "cell_type": "code",
   "execution_count": 27,
   "metadata": {},
   "outputs": [
    {
     "name": "stdout",
     "output_type": "stream",
     "text": [
      "{\n",
      "    \"categories\": [\n",
      "        {\n",
      "            \"id\": 1,\n",
      "            \"name\": \"rectangle\",\n",
      "            \"supercategory\": \"shape\"\n",
      "        },\n",
      "        {\n",
      "            \"id\": 2,\n",
      "            \"name\": \"triangle\",\n",
      "            \"supercategory\": \"shape\"\n",
      "        }\n",
      "    ]\n",
      "}"
     ]
    }
   ],
   "source": [
    "!cat dataset/synthetic/categories.json"
   ]
  },
  {
   "cell_type": "markdown",
   "metadata": {},
   "source": [
    "For example, is a CSV file record has the following list of category IDs `[2,1]`. It means that the first annotated object is the `triangle` (since its ID is `2`), and the second is the `rectangle` (since its ID is `1` respectively)."
   ]
  },
  {
   "cell_type": "markdown",
   "metadata": {},
   "source": [
    "### Generate COCO Dataset\n",
    "\n",
    "You can generate synthetic datasets in COCO format as well. However, this functionality was introduced primarily to debug handling real COCO dataset. Nevertheless, let's repeat the same process of generating synthetic data but this time using COCO style."
   ]
  },
  {
   "cell_type": "code",
   "execution_count": 28,
   "metadata": {},
   "outputs": [],
   "source": [
    "from squids import create_coco_dataset\n",
    "create_coco_dataset()"
   ]
  },
  {
   "cell_type": "markdown",
   "metadata": {},
   "source": [
    "You can learn about different arguments of this function here. But if you leave all to default, it will create the following directories and files in the current folder."
   ]
  },
  {
   "cell_type": "code",
   "execution_count": 29,
   "metadata": {},
   "outputs": [
    {
     "name": "stdout",
     "output_type": "stream",
     "text": [
      "annotations  instances_test  instances_train  instances_val\n",
      "instances_test.json  instances_train.json  instances_val.json\n"
     ]
    }
   ],
   "source": [
    "!ls dataset/synthetic\n",
    "!ls dataset/synthetic/annotations"
   ]
  },
  {
   "cell_type": "markdown",
   "metadata": {},
   "source": [
    "| Artifact                         | Type   | Comment |\n",
    "|----------------------------------|--------|---------|\n",
    "| annotations                      | Folder | Contains files describing annotations |\n",
    "| annotations/instances_train.json | File   | Contains training records including image and annotations |\n",
    "| annotations/instances_val.json   | File   | Contains validation records including image and annotations |\n",
    "| annotations/instances_test.json  | File   | Contains test records including image and annotations |\n",
    "| instances_train                  | Folder | Contains all generated training images (annotated in instances_train.json) |\n",
    "| instances_val                    | Folder | Contains all generated validation images (annotated in instances_val.json) |\n",
    "| instances_test                   | Folder | Contains all generated test images (annotated in instances_test.json) |\n",
    "\n",
    "As an example let's review the structure of the instances_train.json file. Please note, the structure of the other two JSON files is the same."
   ]
  },
  {
   "cell_type": "code",
   "execution_count": 30,
   "metadata": {},
   "outputs": [
    {
     "name": "stdout",
     "output_type": "stream",
     "text": [
      "Top sections: ['info', 'licenses', 'images', 'categories', 'annotations']\n"
     ]
    }
   ],
   "source": [
    "import json\n",
    "with open(\"dataset/synthetic/annotations/instances_train.json\") as fp:\n",
    "    train = json.load(fp)\n",
    "print(\"Top sections:\", list(train.keys()))\n"
   ]
  },
  {
   "cell_type": "markdown",
   "metadata": {},
   "source": [
    "The top-level of the COCO JSON structure contains the five categories. The following three are the most important for the current topic: `images`, `annotations`, and `categories`. Let's review an image record."
   ]
  },
  {
   "cell_type": "code",
   "execution_count": 31,
   "metadata": {},
   "outputs": [
    {
     "name": "stdout",
     "output_type": "stream",
     "text": [
      "images[0]: {\n",
      "    \"file_name\": \"image1.jpg\",\n",
      "    \"coco_url\": \"file:///dataset/synthetic/instances_train/image1.jpg\",\n",
      "    \"width\": 64,\n",
      "    \"height\": 64,\n",
      "    \"date_captured\": \"2022-01-13 15:00:33\",\n",
      "    \"id\": 1\n",
      "}\n"
     ]
    }
   ],
   "source": [
    "print(\"images[0]:\", json.dumps(train[\"images\"][0], indent=4))"
   ]
  },
  {
   "cell_type": "markdown",
   "metadata": {},
   "source": [
    "It contains information about an image, where the most relevant properties are `file_name` and `id`. The transformer on the following set will try to read this image file from the folder derived from the stem name of the JSON file. For example, if this file is `instances_train.json`, the image is expected to be stored in the `.../instances_train` folder. So the full path to the image will be `dataset/synthetic/annotations/instances_train/image###.jpg`"
   ]
  },
  {
   "cell_type": "code",
   "execution_count": 32,
   "metadata": {},
   "outputs": [
    {
     "name": "stdout",
     "output_type": "stream",
     "text": [
      "annotations[0]: {\n",
      "    \"segmentation\": [\n",
      "        [\n",
      "            51,\n",
      "            52,\n",
      "            53,\n",
      "            58,\n",
      "            41,\n",
      "            58\n",
      "        ]\n",
      "    ],\n",
      "    \"area\": 36.0,\n",
      "    \"iscrowd\": 0,\n",
      "    \"image_id\": 1,\n",
      "    \"bbox\": [\n",
      "        41,\n",
      "        52,\n",
      "        12,\n",
      "        6\n",
      "    ],\n",
      "    \"category_id\": 2,\n",
      "    \"id\": 2\n",
      "}\n"
     ]
    }
   ],
   "source": [
    "print(\"annotations[0]:\", json.dumps(train[\"annotations\"][0], indent=4))"
   ]
  },
  {
   "cell_type": "markdown",
   "metadata": {},
   "source": [
    "The annotation record contains information about the image it belongs to via `image_id`, bounding box coordinates `bbox`, segmentation polygon coordinates `segmentation`, and `category_id` to define what type of an object is segmented. The identifier of the segmentation itself is defined by the `id` property."
   ]
  },
  {
   "cell_type": "code",
   "execution_count": 33,
   "metadata": {},
   "outputs": [
    {
     "name": "stdout",
     "output_type": "stream",
     "text": [
      "categories: [\n",
      "    {\n",
      "        \"supercategory\": \"shape\",\n",
      "        \"id\": 1,\n",
      "        \"name\": \"rectangle\"\n",
      "    },\n",
      "    {\n",
      "        \"supercategory\": \"shape\",\n",
      "        \"id\": 2,\n",
      "        \"name\": \"triangle\"\n",
      "    }\n",
      "]\n"
     ]
    }
   ],
   "source": [
    "print(\"categories:\", json.dumps(train[\"categories\"], indent=4))"
   ]
  },
  {
   "cell_type": "markdown",
   "metadata": {},
   "source": [
    "Use category_id in the previous section to determine information about the category the annotated object belongs to."
   ]
  },
  {
   "cell_type": "markdown",
   "metadata": {},
   "source": [
    "## Transforme Dataset to TFRecords\n",
    "\n",
    "This process is the same for the synthetic or real dataset in either CSV or COCO formats."
   ]
  },
  {
   "cell_type": "code",
   "execution_count": 34,
   "metadata": {},
   "outputs": [],
   "source": [
    "from squids import create_tfrecords\n",
    "create_tfrecords()"
   ]
  },
  {
   "cell_type": "markdown",
   "metadata": {},
   "source": [
    "This function also can be run with only default arguments. In this case, it will look for the default dataset directory `dataset/synthetic`. Using the directory structure the transformation method determines the data format (CSV or COCO). Then it creates a new directory `dataset/synthetic-tfrecords` where stores the transformed records."
   ]
  },
  {
   "cell_type": "code",
   "execution_count": 35,
   "metadata": {},
   "outputs": [
    {
     "name": "stdout",
     "output_type": "stream",
     "text": [
      "instances_test\tinstances_train  instances_val\n",
      "part-0.tfrecord  part-1.tfrecord  part-2.tfrecord\n",
      "part-0.tfrecord\n",
      "part-0.tfrecord\n"
     ]
    }
   ],
   "source": [
    "\n",
    "!ls dataset/synthetic-tfrecords\n",
    "!ls dataset/synthetic-tfrecords/instances_train\n",
    "!ls dataset/synthetic-tfrecords/instances_val\n",
    "!ls dataset/synthetic-tfrecords/instances_test"
   ]
  },
  {
   "cell_type": "markdown",
   "metadata": {},
   "source": [
    "AS you can see the top directory `dataset/synthetic-tfrecords` contains three subdirectories `instances_train`, `instances_val`, and `instances_test` containing file-parts with TFRecords for training, validation, and testing respectivly. Each of these folders usually includes a different number of part-files, depending on the volume of the original dataset for each machine learning task."
   ]
  },
  {
   "cell_type": "markdown",
   "metadata": {},
   "source": [
    "## Exploring TFRecords\n",
    "\n",
    "As a part of the training process, it is important to know that the right data is entering the machine learning model. the following functions allow you to explore data located inside TFRecords."
   ]
  },
  {
   "cell_type": "code",
   "execution_count": 36,
   "metadata": {},
   "outputs": [
    {
     "name": "stdout",
     "output_type": "stream",
     "text": [
      "\n",
      "dataset/synthetic-tfrecords/instances_train (3 parts)\n",
      "732 (2)    865 (1)    370 (2)    524 (1,2)  664 (2)    82 (1)     237 (2)  \n",
      "733 (1)    866 (1,2)  371 (1)    525 (2)    665 (1,2)  83 (2)     239 (1)  \n",
      "734 (2)    871 (2)    372 (1)    526 (1,2)  666 (2)    84 (2)     240 (2)  \n",
      "735 (1,2)  872 (2)    373 (1,2)  527 (1)    667 (2)    85 (2)     242 (2)  \n",
      "736 (2)    874 (1)    378 (1,2)  528 (1)    668 (1,2)  88 (1)     245 (2)  \n",
      "737 (2)    875 (2)    379 (2)    529 (1)    671 (2)    94 (2)     246 (1,2)\n",
      "738 (1,2)  876 (1,2)  381 (1)    530 (2)    673 (1)    95 (1)     247 (1)  \n",
      "739 (1)    877 (2)    382 (1)    532 (1)    674 (1,2)  96 (1,2)   248 (1)  \n",
      "742 (2)    878 (1)    383 (1,2)  533 (2)    675 (1)    97 (2)     250 (2)  \n",
      "743 (2)    880 (2)    384 (1,2)  534 (1)    676 (2)    98 (1)     251 (2)  \n",
      "744 (2)    881 (1,2)  385 (1,2)  537 (1,2)  677 (1,2)  99 (2)     252 (1)  \n",
      "746 (2)    883 (1)    387 (1)    539 (2)    678 (1,2)  100 (1)    253 (2)  \n",
      "747 (2)    884 (1)    388 (1,2)  540 (1,2)  679 (1,2)  101 (2)    255 (1,2)\n",
      "748 (1)    885 (1,2)  390 (1)    541 (1)    680 (1)    103 (2)    256 (1)  \n",
      "750 (1)    886 (1)    392 (1)    543 (1,2)  681 (2)    104 (1,2)  257 (1)  \n",
      "751 (1,2)  887 (2)    394 (2)    544 (1)    682 (1,2)  105 (1,2)  258 (2)  \n",
      "752 (2)    888 (1)    395 (2)    545 (1,2)  685 (2)    106 (1)    259 (1)  \n",
      "754 (1,2)  889 (1,2)  396 (1)    548 (1)    686 (1,2)  109 (1)    260 (2)  \n",
      "755 (2)    891 (1)    398 (2)    549 (1)    688 (1)    110 (2)    261 (1,2)\n",
      "756 (1)    892 (1,2)  399 (1)    550 (1)    689 (1)    111 (2)    262 (1)  \n",
      "757 (2)    896 (2)    400 (1,2)  551 (1)    690 (2)    112 (2)    263 (1,2)\n",
      "758 (2)    897 (1,2)  401 (1)    552 (1,2)  691 (1)    113 (1,2)  264 (2)  \n",
      "759 (2)    899 (1)    403 (1)    553 (1)    692 (1,2)  116 (1,2)  265 (1)  \n",
      "760 (1)    900 (1,2)  404 (2)    554 (1)    695 (2)    117 (1,2)  266 (2)  \n",
      "761 (1)    901 (2)    405 (1,2)  555 (1,2)  696 (1,2)  118 (2)    267 (1)  \n",
      "763 (2)    902 (1)    406 (1)    556 (1,2)  697 (1)    119 (1,2)  269 (2)  \n",
      "765 (1,2)  903 (1)    407 (1,2)  557 (2)    698 (2)    122 (2)    270 (1,2)\n",
      "766 (1)    904 (2)    408 (1,2)  558 (1)    699 (2)    124 (1,2)  272 (2)  \n",
      "767 (2)    905 (1,2)  409 (1)    559 (2)    703 (2)    125 (1,2)  273 (2)  \n",
      "768 (2)    906 (1)    410 (1)    560 (2)    707 (1)    126 (1,2)  275 (1,2)\n",
      "770 (2)    907 (2)    411 (1)    561 (1)    708 (1,2)  127 (1,2)  277 (1)  \n",
      "771 (1)    908 (1,2)  412 (2)    563 (2)    709 (1)    130 (1)    278 (1,2)\n",
      "772 (1)    909 (1)    414 (1)    565 (2)    710 (1,2)  131 (1,2)  279 (1,2)\n",
      "773 (2)    912 (2)    417 (2)    566 (1,2)  711 (2)    133 (1)    280 (1)  \n",
      "774 (2)    913 (1,2)  419 (1)    567 (1)    712 (2)    135 (1,2)  281 (1)  \n",
      "775 (1,2)  914 (1,2)  420 (2)    570 (1,2)  714 (1)    137 (1,2)  282 (1)  \n",
      "776 (1,2)  915 (1)    421 (2)    571 (1)    715 (2)    138 (2)    283 (1,2)\n",
      "777 (2)    916 (2)    423 (1,2)  572 (2)    716 (1)    141 (1)    284 (1)  \n",
      "778 (1)    919 (1)    424 (1,2)  573 (1)    717 (1)    143 (1,2)  285 (1)  \n",
      "779 (1,2)  921 (1,2)  425 (2)    574 (2)    718 (1)    144 (1)    286 (1,2)\n",
      "780 (1)    922 (1)    426 (2)    575 (1)    721 (1)    147 (1,2)  288 (1)  \n",
      "781 (2)    923 (1,2)  427 (1)    579 (1)    723 (1,2)  148 (1,2)  290 (1,2)\n",
      "782 (1,2)  924 (1)    430 (1)    580 (1)    724 (1)    149 (1,2)  291 (1)  \n",
      "783 (2)    926 (2)    431 (2)    583 (1,2)  725 (1)    151 (1)    292 (1,2)\n",
      "784 (1,2)  930 (2)    432 (1,2)  584 (1)    727 (1)    152 (1)    294 (1)  \n",
      "786 (2)    931 (1,2)  434 (1)    586 (1,2)  729 (1)    153 (1,2)  295 (2)  \n",
      "787 (1)    933 (1)    435 (1)    587 (2)    731 (2)    154 (2)    296 (1,2)\n",
      "788 (2)    934 (2)    436 (2)    588 (2)    1 (1,2)    155 (1)    299 (2)  \n",
      "793 (1)    936 (1,2)  437 (1)    589 (1,2)  2 (1,2)    156 (2)    300 (1)  \n",
      "794 (1,2)  938 (1)    439 (1)    590 (2)    4 (1,2)    160 (1,2)  301 (1)  \n",
      "796 (1)    939 (1)    441 (2)    591 (1)    5 (1)      162 (1,2)  303 (1,2)\n",
      "797 (1)    940 (1)    443 (1,2)  592 (1,2)  6 (1,2)    163 (1)    304 (1,2)\n",
      "798 (1)    941 (2)    444 (2)    594 (2)    7 (1)      164 (2)    305 (1,2)\n",
      "799 (2)    942 (2)    446 (2)    595 (2)    8 (2)      165 (2)    307 (2)  \n",
      "800 (1,2)  943 (1,2)  447 (2)    596 (2)    9 (1)      166 (2)    308 (2)  \n",
      "801 (1)    944 (1,2)  448 (2)    598 (2)    12 (1,2)   168 (2)    310 (1)  \n",
      "802 (2)    945 (1)    449 (1,2)  599 (1,2)  13 (1,2)   169 (1)    311 (2)  \n",
      "803 (2)    946 (2)    450 (1)    600 (1)    14 (2)     170 (1)    313 (1,2)\n",
      "804 (2)    947 (1,2)  451 (2)    601 (2)    15 (1)     171 (2)    314 (1)  \n",
      "805 (2)    948 (2)    452 (2)    602 (1,2)  16 (2)     172 (2)    315 (1)  \n",
      "807 (2)    949 (1,2)  453 (2)    607 (2)    17 (1)     174 (2)    316 (1)  \n",
      "808 (1)    951 (1)    455 (1)    608 (1)    18 (1)     175 (1)    317 (1,2)\n",
      "810 (1)    953 (2)    456 (1)    611 (2)    21 (2)     177 (2)    318 (1,2)\n",
      "811 (2)    954 (1)    458 (2)    612 (2)    22 (1)     181 (2)    319 (1)  \n",
      "812 (1,2)  955 (2)    459 (2)    613 (1,2)  23 (1)     182 (2)    321 (2)  \n",
      "813 (2)    956 (1)    460 (2)    614 (2)    26 (1)     184 (1)    322 (1)  \n",
      "816 (1,2)  958 (1)    462 (2)    615 (1)    27 (2)     186 (1)    324 (1,2)\n",
      "817 (1,2)  959 (1,2)  463 (2)    617 (1,2)  28 (2)     187 (2)    326 (1,2)\n",
      "818 (1,2)  960 (1,2)  464 (1,2)  618 (2)    30 (1)     188 (2)    328 (1)  \n",
      "819 (1,2)  961 (2)    465 (2)    619 (1,2)  31 (1)     189 (1,2)  329 (2)  \n",
      "820 (1)    962 (2)    467 (1)    621 (1)    36 (1)     190 (1)    330 (1)  \n",
      "821 (2)    963 (1)    468 (2)    622 (2)    37 (1)     191 (1)    331 (1)  \n",
      "822 (1)    965 (2)    470 (1,2)  623 (1)    38 (1)     192 (1)    333 (2)  \n",
      "824 (1)    966 (1,2)  471 (1)    624 (1,2)  39 (2)     193 (1,2)  335 (1,2)\n",
      "825 (1,2)  969 (1)    472 (1,2)  626 (2)    40 (2)     194 (2)    336 (1)  \n",
      "826 (1,2)  970 (1)    473 (2)    627 (1,2)  41 (1)     196 (1)    337 (1)  \n",
      "827 (1)    971 (1,2)  475 (2)    629 (1)    42 (2)     197 (1)    338 (2)  \n",
      "828 (1)    972 (1)    477 (1,2)  630 (2)    43 (1)     200 (2)    340 (1)  \n",
      "830 (1,2)  973 (1,2)  478 (1)    631 (2)    44 (1)     202 (1,2)  341 (1)  \n",
      "831 (1,2)  975 (1,2)  484 (1)    632 (2)    45 (1,2)   203 (2)    342 (1)  \n",
      "832 (1)    976 (2)    487 (2)    633 (1,2)  46 (1,2)   204 (1)    343 (1)  \n",
      "836 (1,2)  977 (1)    489 (1)    634 (1)    47 (2)     208 (1,2)  344 (1,2)\n",
      "839 (2)    978 (2)    491 (1)    635 (1,2)  50 (1,2)   210 (2)    345 (1,2)\n",
      "841 (2)    979 (1)    492 (1)    636 (1)    51 (1)     211 (1)    347 (1,2)\n",
      "843 (1)    980 (1)    494 (1)    638 (1)    53 (2)     213 (2)    348 (2)  \n",
      "844 (2)    981 (1)    496 (1)    640 (1)    54 (1)     214 (1,2)  349 (2)  \n",
      "846 (1)    982 (1,2)  497 (1)    641 (2)    58 (1)     215 (1)    350 (2)  \n",
      "847 (1,2)  983 (1,2)  498 (2)    643 (1,2)  61 (1)     216 (2)    351 (1,2)\n",
      "848 (2)    985 (2)    499 (2)    645 (1)    62 (1)     217 (1)    352 (1,2)\n",
      "849 (1,2)  986 (1,2)  500 (2)    647 (2)    64 (2)     218 (2)    356 (2)  \n",
      "850 (2)    988 (1)    501 (1,2)  648 (1)    65 (2)     219 (1)    357 (2)  \n",
      "852 (2)    990 (2)    502 (2)    649 (2)    66 (2)     220 (2)    359 (1)  \n",
      "853 (1)    991 (1,2)  503 (2)    650 (2)    67 (1)     221 (1)    360 (1)  \n",
      "854 (1)    992 (1)    504 (2)    651 (2)    68 (1)     222 (1)    361 (1,2)\n",
      "855 (1)    994 (1,2)  506 (1,2)  652 (1)    69 (1)     223 (1)    362 (1)  \n",
      "856 (1,2)  995 (1,2)  508 (1)    653 (1)    70 (2)     226 (2)    363 (2)  \n",
      "857 (1)    996 (1,2)  509 (1)    655 (1,2)  73 (2)     227 (1,2)  364 (1)  \n",
      "858 (1)    997 (1)    512 (1)    658 (1,2)  74 (1)     230 (1)  \n",
      "859 (1,2)  998 (1)    513 (2)    659 (1)    75 (2)     231 (1)  \n",
      "860 (1)    999 (2)    514 (1,2)  660 (2)    78 (2)     232 (1)  \n",
      "861 (2)    365 (2)    516 (2)    661 (2)    79 (1,2)   233 (2)  \n",
      "862 (1,2)  368 (2)    518 (2)    662 (1)    80 (2)     234 (2)  \n",
      "863 (2)    369 (1)    523 (1,2)  663 (2)    81 (1,2)   235 (1,2)\n",
      "Total 715 records\n"
     ]
    }
   ],
   "source": [
    "from squids import explore_tfrecords\n",
    "explore_tfrecords(\"dataset/synthetic-tfrecords/instances_train\")"
   ]
  },
  {
   "cell_type": "markdown",
   "metadata": {},
   "source": [
    "From the output, you can observe the number of TFRecords parts, the total number of images contained with these records, listing all images IDs combined with indicators categories present in each image. For example, if we have the following line `123 (1,2)`, it means that the image with ID `123` has 1 or more objects of category `1` and 1 or more objects of category `2`. This should help you pick a specific image including specific sets of categories.\n",
    "\n",
    "Let's select an image for further exploration."
   ]
  },
  {
   "cell_type": "code",
   "execution_count": 39,
   "metadata": {},
   "outputs": [
    {
     "name": "stdout",
     "output_type": "stream",
     "text": [
      "Property                  Value\n",
      "------------------------  -----------\n",
      "Image ID                  735\n",
      "Image Shape               (64, 64, 3)\n",
      "Total Labeled Objects     2\n",
      "Available Categories Set  {1, 2}\n",
      "Image saved to ./735.png\n"
     ]
    }
   ],
   "source": [
    "from squids import explore_tfrecord\n",
    "exploring_image_id = 735\n",
    "explore_tfrecord(\"dataset/synthetic-tfrecords/instances_train\", exploring_image_id)"
   ]
  },
  {
   "cell_type": "markdown",
   "metadata": {},
   "source": [
    "The output contains information about image ID it shape, number of annotated objects, and their categories. Also, all information about bounding boxes, segmentation, and categories are superimposed to the stored image, an example of which is shown below."
   ]
  },
  {
   "cell_type": "code",
   "execution_count": 40,
   "metadata": {},
   "outputs": [
    {
     "data": {
      "image/png": "[encoded data removed]",
      "text/plain": [
       "<PIL.Image.Image image mode=RGB size=256x256 at 0x7F99B48676A0>"
      ]
     },
     "execution_count": 40,
     "metadata": {},
     "output_type": "execute_result"
    }
   ],
   "source": [
    "from PIL import Image\n",
    "img = Image.open(f\"./{exploring_image_id}.png\")\n",
    "img = img.resize((256,256), Image.ANTIALIAS)\n",
    "img"
   ]
  }
 ],
 "metadata": {
  "interpreter": {
   "hash": "c0c458caad03a2e69d5039d0780e9d34fa00817d354e8938f314531d50fa4305"
  },
  "kernelspec": {
   "display_name": "Python 3.8.10 64-bit ('.venv': venv)",
   "language": "python",
   "name": "python3"
  },
  "language_info": {
   "codemirror_mode": {
    "name": "ipython",
    "version": 3
   },
   "file_extension": ".py",
   "mimetype": "text/x-python",
   "name": "python",
   "nbconvert_exporter": "python",
   "pygments_lexer": "ipython3",
   "version": "3.8.10"
  },
  "orig_nbformat": 4
 },
 "nbformat": 4,
 "nbformat_minor": 2
}
