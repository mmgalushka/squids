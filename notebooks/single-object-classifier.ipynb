{
 "cells": [
  {
   "cell_type": "markdown",
   "metadata": {},
   "source": [
    "# Single Object Classifier\n",
    "\n",
    "The notebook illustrates how this synthetic data generator can help to create and test a single image classifier.\n",
    "\n",
    "**Please note that the goal of this notebook is not to create the perfect ML model, but to demonstrate how to use the functionality of this library.**"
   ]
  },
  {
   "cell_type": "code",
   "execution_count": 1,
   "metadata": {},
   "outputs": [],
   "source": [
    "import sys\n",
    "sys.path.insert(0, '..')\n",
    "\n",
    "from PIL import ImageDraw\n",
    "import tensorflow as tf\n",
    "import numpy as np\n",
    "\n",
    "from squids import (\n",
    "    create_dataset,\n",
    "    create_tfrecords,\n",
    "    explore_tfrecords,\n",
    "    load_tfrecords,\n",
    "    Palette,\n",
    "    Background\n",
    ")\n",
    "\n",
    "from helper import plot_images"
   ]
  },
  {
   "cell_type": "markdown",
   "metadata": {},
   "source": [
    "## Preparing Dataset\n",
    "\n",
    "Generate synthetic dataset and convert it to TFRecords."
   ]
  },
  {
   "cell_type": "code",
   "execution_count": 2,
   "metadata": {},
   "outputs": [
    {
     "name": "stderr",
     "output_type": "stream",
     "text": [
      "100%|██████████| 50000/50000 [00:10<00:00, 4726.96it/s]\n",
      "100%|██████████| 10004/10004 [00:07<00:00, 1281.05it/s]\n",
      "100%|██████████| 34980/34980 [00:31<00:00, 1122.95it/s]\n",
      "100%|██████████| 5016/5016 [00:06<00:00, 747.82it/s] \n"
     ]
    }
   ],
   "source": [
    "create_dataset(\n",
    "    dataset_size=50000,\n",
    "    image_palette=Palette.BINARY,\n",
    "    image_background=Background.BLACK,\n",
    "    random_state=365, image_capacity=1,\n",
    "    verbose=True)\n",
    "create_tfrecords(\n",
    "    verbose=True)"
   ]
  },
  {
   "cell_type": "markdown",
   "metadata": {},
   "source": [
    "Explore 9 samples from the generated dataset."
   ]
  },
  {
   "cell_type": "code",
   "execution_count": 3,
   "metadata": {},
   "outputs": [
    {
     "name": "stderr",
     "output_type": "stream",
     "text": [
      "2022-02-15 15:17:46.874674: I tensorflow/stream_executor/cuda/cuda_gpu_executor.cc:936] successful NUMA node read from SysFS had negative value (-1), but there must be at least one NUMA node, so returning NUMA node zero\n",
      "2022-02-15 15:17:46.908832: I tensorflow/stream_executor/cuda/cuda_gpu_executor.cc:936] successful NUMA node read from SysFS had negative value (-1), but there must be at least one NUMA node, so returning NUMA node zero\n",
      "2022-02-15 15:17:46.909255: I tensorflow/stream_executor/cuda/cuda_gpu_executor.cc:936] successful NUMA node read from SysFS had negative value (-1), but there must be at least one NUMA node, so returning NUMA node zero\n",
      "2022-02-15 15:17:46.909865: I tensorflow/core/platform/cpu_feature_guard.cc:151] This TensorFlow binary is optimized with oneAPI Deep Neural Network Library (oneDNN) to use the following CPU instructions in performance-critical operations:  AVX2 FMA\n",
      "To enable them in other operations, rebuild TensorFlow with the appropriate compiler flags.\n",
      "2022-02-15 15:17:46.910207: I tensorflow/stream_executor/cuda/cuda_gpu_executor.cc:936] successful NUMA node read from SysFS had negative value (-1), but there must be at least one NUMA node, so returning NUMA node zero\n",
      "2022-02-15 15:17:46.910592: I tensorflow/stream_executor/cuda/cuda_gpu_executor.cc:936] successful NUMA node read from SysFS had negative value (-1), but there must be at least one NUMA node, so returning NUMA node zero\n",
      "2022-02-15 15:17:46.910729: I tensorflow/stream_executor/cuda/cuda_gpu_executor.cc:936] successful NUMA node read from SysFS had negative value (-1), but there must be at least one NUMA node, so returning NUMA node zero\n",
      "2022-02-15 15:17:47.422639: I tensorflow/stream_executor/cuda/cuda_gpu_executor.cc:936] successful NUMA node read from SysFS had negative value (-1), but there must be at least one NUMA node, so returning NUMA node zero\n",
      "2022-02-15 15:17:47.422821: I tensorflow/stream_executor/cuda/cuda_gpu_executor.cc:936] successful NUMA node read from SysFS had negative value (-1), but there must be at least one NUMA node, so returning NUMA node zero\n",
      "2022-02-15 15:17:47.422942: I tensorflow/stream_executor/cuda/cuda_gpu_executor.cc:936] successful NUMA node read from SysFS had negative value (-1), but there must be at least one NUMA node, so returning NUMA node zero\n",
      "2022-02-15 15:17:47.423047: I tensorflow/core/common_runtime/gpu/gpu_device.cc:1525] Created device /job:localhost/replica:0/task:0/device:GPU:0 with 4111 MB memory:  -> device: 0, name: NVIDIA GeForce GTX 1060 6GB, pci bus id: 0000:01:00.0, compute capability: 6.1\n"
     ]
    },
    {
     "data": {
      "image/png": "[encoded data removed]",
      "text/plain": [
       "<Figure size 432x288 with 9 Axes>"
      ]
     },
     "metadata": {
      "needs_background": "light"
     },
     "output_type": "display_data"
    }
   ],
   "source": [
    "image_ids, _ = explore_tfrecords(\n",
    "    'dataset/synthetic-tfrecords/instances_train',\n",
    "    return_artifacts=True\n",
    ")\n",
    "\n",
    "images  = [\n",
    "    explore_tfrecords(\n",
    "        'dataset/synthetic-tfrecords/instances_train',\n",
    "        image_id,\n",
    "        with_categories = False,\n",
    "        with_bboxes = False,\n",
    "        with_segmentations = False,\n",
    "        return_artifacts=True\n",
    "    )[0]\n",
    "    for image_id in image_ids[0:10]\n",
    "]\n",
    "\n",
    "plot_images(images, \"Generated Images\")"
   ]
  },
  {
   "cell_type": "markdown",
   "metadata": {},
   "source": [
    "## Train Object Classification Model\n",
    "\n",
    "Let's create generators for train and validation datasets and compute steps per epoch for each of them."
   ]
  },
  {
   "cell_type": "code",
   "execution_count": 4,
   "metadata": {},
   "outputs": [
    {
     "name": "stdout",
     "output_type": "stream",
     "text": [
      "Training steps per epoch (for the batch size 128):  274\n",
      "Validation steps per epoch (for the batch size 128):  79\n"
     ]
    }
   ],
   "source": [
    "import pathlib\n",
    "\n",
    "ds_train, train_steps_per_epoch = load_tfrecords(\n",
    "    pathlib.Path(\"dataset/synthetic-tfrecords/instances_train\"), \n",
    "    output_schema = \"C\",\n",
    "    num_detecting_objects=1,\n",
    "    batch_size=128\n",
    ")\n",
    "print(\"Training steps per epoch (for the batch size 128): \", train_steps_per_epoch)\n",
    "\n",
    "ds_val, val_steps_per_epoch = load_tfrecords(\n",
    "    pathlib.Path(\"dataset/synthetic-tfrecords/instances_val\"), \n",
    "    output_schema = \"C\",\n",
    "    num_detecting_objects=1,\n",
    "    batch_size=128\n",
    ")\n",
    "print(\"Validation steps per epoch (for the batch size 128): \", val_steps_per_epoch)"
   ]
  },
  {
   "cell_type": "code",
   "execution_count": 5,
   "metadata": {},
   "outputs": [
    {
     "name": "stdout",
     "output_type": "stream",
     "text": [
      "tf.Tensor(\n",
      "[[0. 0. 1. 0.]\n",
      " [0. 0. 0. 1.]\n",
      " [0. 1. 0. 0.]\n",
      " [0. 0. 1. 0.]\n",
      " [0. 0. 0. 1.]\n",
      " [0. 0. 0. 1.]\n",
      " [0. 0. 0. 1.]\n",
      " [0. 0. 0. 1.]\n",
      " [0. 1. 0. 0.]\n",
      " [0. 0. 0. 1.]\n",
      " [0. 0. 1. 0.]\n",
      " [0. 0. 0. 1.]\n",
      " [0. 1. 0. 0.]\n",
      " [0. 0. 0. 1.]\n",
      " [0. 0. 0. 1.]\n",
      " [0. 0. 0. 1.]\n",
      " [0. 0. 1. 0.]\n",
      " [0. 0. 1. 0.]\n",
      " [0. 0. 0. 1.]\n",
      " [0. 1. 0. 0.]\n",
      " [0. 0. 1. 0.]\n",
      " [0. 0. 1. 0.]\n",
      " [0. 0. 1. 0.]\n",
      " [0. 0. 0. 1.]\n",
      " [0. 0. 0. 1.]\n",
      " [0. 0. 1. 0.]\n",
      " [0. 0. 1. 0.]\n",
      " [0. 1. 0. 0.]\n",
      " [0. 0. 1. 0.]\n",
      " [0. 0. 0. 1.]\n",
      " [0. 0. 0. 1.]\n",
      " [0. 0. 1. 0.]\n",
      " [0. 0. 1. 0.]\n",
      " [0. 1. 0. 0.]\n",
      " [0. 0. 0. 1.]\n",
      " [0. 1. 0. 0.]\n",
      " [0. 1. 0. 0.]\n",
      " [0. 0. 0. 1.]\n",
      " [0. 0. 0. 1.]\n",
      " [0. 0. 0. 1.]\n",
      " [0. 1. 0. 0.]\n",
      " [0. 1. 0. 0.]\n",
      " [0. 1. 0. 0.]\n",
      " [0. 0. 1. 0.]\n",
      " [0. 0. 1. 0.]\n",
      " [0. 0. 0. 1.]\n",
      " [0. 0. 0. 1.]\n",
      " [0. 1. 0. 0.]\n",
      " [0. 0. 1. 0.]\n",
      " [0. 1. 0. 0.]\n",
      " [0. 1. 0. 0.]\n",
      " [0. 0. 1. 0.]\n",
      " [0. 0. 0. 1.]\n",
      " [0. 0. 0. 1.]\n",
      " [0. 1. 0. 0.]\n",
      " [0. 0. 0. 1.]\n",
      " [0. 0. 0. 1.]\n",
      " [0. 0. 0. 1.]\n",
      " [0. 0. 1. 0.]\n",
      " [0. 0. 0. 1.]\n",
      " [0. 0. 1. 0.]\n",
      " [0. 0. 0. 1.]\n",
      " [0. 1. 0. 0.]\n",
      " [0. 1. 0. 0.]\n",
      " [0. 0. 0. 1.]\n",
      " [0. 1. 0. 0.]\n",
      " [0. 0. 1. 0.]\n",
      " [0. 0. 0. 1.]\n",
      " [0. 1. 0. 0.]\n",
      " [0. 0. 1. 0.]\n",
      " [0. 1. 0. 0.]\n",
      " [0. 0. 0. 1.]\n",
      " [0. 0. 1. 0.]\n",
      " [0. 1. 0. 0.]\n",
      " [0. 0. 0. 1.]\n",
      " [0. 0. 0. 1.]\n",
      " [0. 1. 0. 0.]\n",
      " [0. 0. 1. 0.]\n",
      " [0. 0. 0. 1.]\n",
      " [0. 1. 0. 0.]\n",
      " [0. 1. 0. 0.]\n",
      " [0. 0. 1. 0.]\n",
      " [0. 0. 0. 1.]\n",
      " [0. 0. 0. 1.]\n",
      " [0. 0. 1. 0.]\n",
      " [0. 0. 1. 0.]\n",
      " [0. 1. 0. 0.]\n",
      " [0. 1. 0. 0.]\n",
      " [0. 0. 0. 1.]\n",
      " [0. 0. 0. 1.]\n",
      " [0. 1. 0. 0.]\n",
      " [0. 0. 0. 1.]\n",
      " [0. 1. 0. 0.]\n",
      " [0. 0. 1. 0.]\n",
      " [0. 0. 0. 1.]\n",
      " [0. 1. 0. 0.]\n",
      " [0. 0. 0. 1.]\n",
      " [0. 0. 0. 1.]\n",
      " [0. 0. 1. 0.]\n",
      " [0. 0. 1. 0.]\n",
      " [0. 1. 0. 0.]\n",
      " [0. 0. 1. 0.]\n",
      " [0. 1. 0. 0.]\n",
      " [0. 0. 0. 1.]\n",
      " [0. 0. 0. 1.]\n",
      " [0. 0. 1. 0.]\n",
      " [0. 0. 1. 0.]\n",
      " [0. 1. 0. 0.]\n",
      " [0. 1. 0. 0.]\n",
      " [0. 1. 0. 0.]\n",
      " [0. 0. 1. 0.]\n",
      " [0. 1. 0. 0.]\n",
      " [0. 1. 0. 0.]\n",
      " [0. 0. 0. 1.]\n",
      " [0. 0. 0. 1.]\n",
      " [0. 0. 1. 0.]\n",
      " [0. 0. 1. 0.]\n",
      " [0. 0. 0. 1.]\n",
      " [0. 0. 1. 0.]\n",
      " [0. 0. 0. 1.]\n",
      " [0. 1. 0. 0.]\n",
      " [0. 0. 0. 1.]\n",
      " [0. 0. 0. 1.]\n",
      " [0. 1. 0. 0.]\n",
      " [0. 1. 0. 0.]\n",
      " [0. 0. 0. 1.]\n",
      " [0. 0. 0. 1.]\n",
      " [0. 0. 1. 0.]], shape=(128, 4), dtype=float32)\n"
     ]
    }
   ],
   "source": [
    "for x,y in ds_train:\n",
    "    print(y)\n",
    "    break"
   ]
  },
  {
   "cell_type": "markdown",
   "metadata": {},
   "source": [
    "Let's define a simple convolution model."
   ]
  },
  {
   "cell_type": "code",
   "execution_count": 6,
   "metadata": {},
   "outputs": [],
   "source": [
    "model = tf.keras.models.Sequential([\n",
    "\ttf.keras.layers.Conv2D(\n",
    "\t\t\tfilters=32,\n",
    "            kernel_size=(3, 3),\n",
    "            padding='same',\n",
    "            input_shape=(64, 64, 3)),\n",
    "\ttf.keras.layers.Flatten(),\n",
    "\ttf.keras.layers.Dense(\n",
    "\t\t1024, \n",
    "\t\tkernel_initializer='random_normal',\n",
    "\t\tbias_initializer='zeros',\n",
    "\t\tactivation='relu'),\n",
    "\ttf.keras.layers.Dense(4, activation='softmax')\n",
    "])\n",
    "model.compile(\n",
    "    optimizer=tf.keras.optimizers.Adam(),\n",
    "    loss=tf.keras.losses.CategoricalCrossentropy(),\n",
    "\tmetrics=tf.keras.metrics.CategoricalAccuracy()\n",
    ")"
   ]
  },
  {
   "cell_type": "markdown",
   "metadata": {},
   "source": [
    "Train the model."
   ]
  },
  {
   "cell_type": "code",
   "execution_count": 7,
   "metadata": {},
   "outputs": [
    {
     "name": "stdout",
     "output_type": "stream",
     "text": [
      "Epoch 1/10\n"
     ]
    },
    {
     "name": "stderr",
     "output_type": "stream",
     "text": [
      "2022-02-15 15:18:01.671362: I tensorflow/stream_executor/cuda/cuda_dnn.cc:368] Loaded cuDNN version 8302\n",
      "2022-02-15 15:18:02.170725: I tensorflow/core/platform/default/subprocess.cc:304] Start cannot spawn child process: No such file or directory\n"
     ]
    },
    {
     "name": "stdout",
     "output_type": "stream",
     "text": [
      "274/274 [==============================] - 36s 123ms/step - loss: 1.4632 - categorical_accuracy: 0.4899 - val_loss: 0.8473 - val_categorical_accuracy: 0.5923\n",
      "Epoch 2/10\n",
      "274/274 [==============================] - 33s 122ms/step - loss: 0.6105 - categorical_accuracy: 0.7306 - val_loss: 0.3895 - val_categorical_accuracy: 0.8518\n",
      "Epoch 3/10\n",
      "274/274 [==============================] - 33s 121ms/step - loss: 0.2046 - categorical_accuracy: 0.9300 - val_loss: 0.2007 - val_categorical_accuracy: 0.9339\n",
      "Epoch 4/10\n",
      "274/274 [==============================] - 33s 121ms/step - loss: 0.0867 - categorical_accuracy: 0.9746 - val_loss: 0.1574 - val_categorical_accuracy: 0.9495\n",
      "Epoch 5/10\n",
      "274/274 [==============================] - 34s 123ms/step - loss: 0.0507 - categorical_accuracy: 0.9853 - val_loss: 0.1472 - val_categorical_accuracy: 0.9534\n",
      "Epoch 6/10\n",
      "274/274 [==============================] - 34s 124ms/step - loss: 0.0356 - categorical_accuracy: 0.9903 - val_loss: 0.1490 - val_categorical_accuracy: 0.9556\n",
      "Epoch 7/10\n",
      "274/274 [==============================] - 31s 113ms/step - loss: 0.0370 - categorical_accuracy: 0.9910 - val_loss: 0.1488 - val_categorical_accuracy: 0.9560\n",
      "Epoch 8/10\n",
      "274/274 [==============================] - 30s 110ms/step - loss: 0.0361 - categorical_accuracy: 0.9919 - val_loss: 0.1996 - val_categorical_accuracy: 0.9470\n",
      "Epoch 9/10\n",
      "274/274 [==============================] - 30s 109ms/step - loss: 0.0453 - categorical_accuracy: 0.9883 - val_loss: 0.1623 - val_categorical_accuracy: 0.9541\n",
      "Epoch 10/10\n",
      "274/274 [==============================] - 30s 109ms/step - loss: 0.0322 - categorical_accuracy: 0.9914 - val_loss: 0.1750 - val_categorical_accuracy: 0.9533\n"
     ]
    },
    {
     "data": {
      "text/plain": [
       "<keras.callbacks.History at 0x7f7fcdcd2a90>"
      ]
     },
     "execution_count": 7,
     "metadata": {},
     "output_type": "execute_result"
    }
   ],
   "source": [
    "model.fit(\n",
    "    ds_train,\n",
    "    steps_per_epoch = train_steps_per_epoch,\n",
    "    epochs=10,\n",
    "    validation_data=ds_val,\n",
    "    validation_steps = val_steps_per_epoch,\n",
    "    verbose=1\n",
    ")"
   ]
  },
  {
   "cell_type": "markdown",
   "metadata": {},
   "source": [
    "## Test Object Classification Model\n",
    "\n",
    "Let's test the model on the unseen data."
   ]
  },
  {
   "cell_type": "code",
   "execution_count": 8,
   "metadata": {},
   "outputs": [
    {
     "data": {
      "image/png": "[encoded data removed]",
      "text/plain": [
       "<Figure size 432x288 with 9 Axes>"
      ]
     },
     "metadata": {
      "needs_background": "light"
     },
     "output_type": "display_data"
    }
   ],
   "source": [
    "image_ids, y = explore_tfrecords(\n",
    "    'dataset/synthetic-tfrecords/instances_test',\n",
    "    return_artifacts=True\n",
    ")\n",
    "\n",
    "images  = [\n",
    "    explore_tfrecords(\n",
    "        'dataset/synthetic-tfrecords/instances_test',\n",
    "        image_id,\n",
    "        with_categories = True,\n",
    "        with_bboxes = False,\n",
    "        with_segmentations = False,\n",
    "        return_artifacts=True\n",
    "    )[0]\n",
    "    for image_id in image_ids[0:9]\n",
    "]\n",
    "\n",
    "plot_images(images, \"Test Images\")"
   ]
  },
  {
   "cell_type": "code",
   "execution_count": 9,
   "metadata": {},
   "outputs": [],
   "source": [
    "preprocessed_images = np.array(\n",
    "    [np.array(image) for image in images]\n",
    ") / 255.0\n",
    "\n",
    "predicted_onehots = model.predict(preprocessed_images)"
   ]
  },
  {
   "cell_type": "code",
   "execution_count": 10,
   "metadata": {},
   "outputs": [
    {
     "data": {
      "text/plain": [
       "array([1, 1, 1, 1, 3, 3, 2, 3, 2])"
      ]
     },
     "execution_count": 10,
     "metadata": {},
     "output_type": "execute_result"
    }
   ],
   "source": [
    "x = np.argmax(predicted_onehots, axis=1)\n",
    "x"
   ]
  },
  {
   "cell_type": "code",
   "execution_count": 20,
   "metadata": {},
   "outputs": [
    {
     "data": {
      "text/plain": [
       "[1, 1, 3, 1, 3, 1, 2, 3, 3]"
      ]
     },
     "execution_count": 20,
     "metadata": {},
     "output_type": "execute_result"
    }
   ],
   "source": [
    "list(map(lambda x: list(x)[0], y[0:9]))"
   ]
  },
  {
   "cell_type": "code",
   "execution_count": 21,
   "metadata": {},
   "outputs": [
    {
     "ename": "ModuleNotFoundError",
     "evalue": "No module named 'sklearn'",
     "output_type": "error",
     "traceback": [
      "\u001b[0;31m---------------------------------------------------------------------------\u001b[0m",
      "\u001b[0;31mModuleNotFoundError\u001b[0m                       Traceback (most recent call last)",
      "\u001b[1;32m/home/mykola/Projects/squids/notebooks/single-object-classifier.ipynb Cell 19'\u001b[0m in \u001b[0;36m<module>\u001b[0;34m\u001b[0m\n\u001b[0;32m----> <a href='vscode-notebook-cell:/home/mykola/Projects/squids/notebooks/single-object-classifier.ipynb#ch0000018?line=0'>1</a>\u001b[0m \u001b[39mfrom\u001b[39;00m \u001b[39msklearn\u001b[39;00m\u001b[39m.\u001b[39;00m\u001b[39mmetrics\u001b[39;00m \u001b[39mimport\u001b[39;00m classification_report\n",
      "\u001b[0;31mModuleNotFoundError\u001b[0m: No module named 'sklearn'"
     ]
    }
   ],
   "source": [
    "from sklearn.metrics import classification_report"
   ]
  }
 ],
 "metadata": {
  "interpreter": {
   "hash": "c0c458caad03a2e69d5039d0780e9d34fa00817d354e8938f314531d50fa4305"
  },
  "kernelspec": {
   "display_name": "Python 3.8.10 ('.venv': venv)",
   "language": "python",
   "name": "python3"
  },
  "language_info": {
   "codemirror_mode": {
    "name": "ipython",
    "version": 3
   },
   "file_extension": ".py",
   "mimetype": "text/x-python",
   "name": "python",
   "nbconvert_exporter": "python",
   "pygments_lexer": "ipython3",
   "version": "3.8.10"
  },
  "orig_nbformat": 4
 },
 "nbformat": 4,
 "nbformat_minor": 2
}
