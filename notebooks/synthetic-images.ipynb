{
 "cells": [
  {
   "cell_type": "markdown",
   "metadata": {},
   "source": [
    "# Synthetic images\n",
    "\n",
    "This notebook intends to demonstrate different ways of generating synthetic images."
   ]
  },
  {
   "cell_type": "code",
   "execution_count": 50,
   "metadata": {},
   "outputs": [],
   "source": [
    "# Let's make sure that JNB can find our SquiDS package ;)\n",
    "import sys\n",
    "sys.path.insert(0, '..')\n",
    "import random\n",
    "\n",
    "from PIL import ImageDraw\n",
    "\n",
    "from squids.dataset.image import create_synthetic_image\n",
    "from squids.dataset.palette import Palette\n",
    "from squids.dataset.background import Background"
   ]
  },
  {
   "cell_type": "markdown",
   "metadata": {},
   "source": [
    "## Synthetic Images\n",
    "\n",
    "Synthetic images can be generated using the `create_synthetic_image` function.\n",
    "\n",
    "### Image Capacity\n",
    "\n",
    "Each synthetic image is a collection of different geometrical shapes: ellipses, rectangles, and triangles. The maximum number of geometrical shapes is defined by the parameter `image_capacity`. For example, if the image capacity is set to 3, means that generated images can have 1, 2, or 3 different geometrical shapes (ellipses,  rectangles, and triangles).\n",
    "\n",
    "### Image Style\n",
    "\n",
    "Images can be generated with different color profiles which are defined by two parameters `image_palette` and `image_background`. The following table explains possible profiles.\n",
    "\n",
    "| image_palette    | image_background  | Generated shapes                               |\n",
    "|:----------------:|:-----------------:|------------------------------------------------|\n",
    "| COLOR            | WHITE             | Any color shape on white background            |\n",
    "| RGB              | WHITE             | Red/green/blue color shape on white background |\n",
    "| GRAY             | WHITE             | Any gray-scale shape on white background       |\n",
    "| BINARY           | WHITE             | Any black shape on white background            |\n",
    "| COLOR            | BLACK             | Any color shape on black background            |\n",
    "| RGB              | BLACK             | Red/green/blue color shape on black background |\n",
    "| GRAY             | BLACK             | Any gray-scale shape on black background       |\n",
    "| BINARY           | BLACK             | Any white shape on black background            |"
   ]
  },
  {
   "cell_type": "markdown",
   "metadata": {},
   "source": [
    "## Generate Color Images "
   ]
  },
  {
   "cell_type": "code",
   "execution_count": 51,
   "metadata": {},
   "outputs": [
    {
     "name": "stdout",
     "output_type": "stream",
     "text": [
      "Generated image shapes: [\"Triangle(bbox=[(73, 155), 122, 44], polygon=[(98, 155), (195, 199), (73, 199)], color='#4c9d91'\", \"Rectangle(bbox=[(141, 45), 98, 74], polygon=[(141, 45), (239, 45), (239, 119), (141, 119)], color='#526877'\", \"Ellipse(bbox=[(3, 3), 122, 37], polygon=[(125, 21), (124, 23), (123, 26), (120, 28), (117, 30), (113, 32), (108, 34), (102, 35), (96, 37), (89, 38), (82, 39), (75, 39), (67, 39), (60, 39), (52, 39), (45, 39), (38, 38), (31, 37), (25, 35), (19, 34), (14, 32), (10, 30), (7, 28), (4, 26), (3, 23), (3, 21), (3, 19), (4, 16), (7, 14), (10, 12), (14, 10), (19, 8), (25, 7), (31, 5), (38, 4), (45, 3), (52, 3), (60, 3), (67, 3), (75, 3), (82, 3), (89, 4), (96, 5), (102, 7), (108, 8), (113, 10), (117, 12), (120, 14), (123, 16), (124, 19)], color='#a09ebf'\"]\n"
     ]
    },
    {
     "data": {
      "image/png": "[encoded data removed]",
      "text/plain": [
       "<PIL.Image.Image image mode=RGB size=256x256 at 0x7F9CBEF121C0>"
      ]
     },
     "execution_count": 51,
     "metadata": {},
     "output_type": "execute_result"
    }
   ],
   "source": [
    "\n",
    "random.seed(365)\n",
    "image, shapes = create_synthetic_image(\n",
    "    image_width=256,\n",
    "    image_height=256,\n",
    "    image_palette=Palette.COLOR,\n",
    "    image_background=Background.WHITE,\n",
    "    image_capacity=3)\n",
    "print(f\"Generated image shapes:\", list(map(str, shapes)))\n",
    "draw = ImageDraw.Draw(image)\n",
    "draw.rectangle([0,0, 255, 255], outline=\"black\")\n",
    "image"
   ]
  },
  {
   "cell_type": "code",
   "execution_count": 52,
   "metadata": {},
   "outputs": [
    {
     "name": "stdout",
     "output_type": "stream",
     "text": [
      "Generated image shapes: [\"Triangle(bbox=[(73, 155), 122, 44], polygon=[(98, 155), (195, 199), (73, 199)], color='#4c9d91'\", \"Rectangle(bbox=[(141, 45), 98, 74], polygon=[(141, 45), (239, 45), (239, 119), (141, 119)], color='#526877'\", \"Ellipse(bbox=[(3, 3), 122, 37], polygon=[(125, 21), (124, 23), (123, 26), (120, 28), (117, 30), (113, 32), (108, 34), (102, 35), (96, 37), (89, 38), (82, 39), (75, 39), (67, 39), (60, 39), (52, 39), (45, 39), (38, 38), (31, 37), (25, 35), (19, 34), (14, 32), (10, 30), (7, 28), (4, 26), (3, 23), (3, 21), (3, 19), (4, 16), (7, 14), (10, 12), (14, 10), (19, 8), (25, 7), (31, 5), (38, 4), (45, 3), (52, 3), (60, 3), (67, 3), (75, 3), (82, 3), (89, 4), (96, 5), (102, 7), (108, 8), (113, 10), (117, 12), (120, 14), (123, 16), (124, 19)], color='#a09ebf'\"]\n"
     ]
    },
    {
     "data": {
      "image/png": "[encoded data removed]",
      "text/plain": [
       "<PIL.Image.Image image mode=RGB size=256x256 at 0x7F9CBEF7DE50>"
      ]
     },
     "execution_count": 52,
     "metadata": {},
     "output_type": "execute_result"
    }
   ],
   "source": [
    "random.seed(365)\n",
    "image, shapes = create_synthetic_image(\n",
    "    image_width=256,\n",
    "    image_height=256,\n",
    "    image_palette=Palette.COLOR,\n",
    "    image_background=Background.BLACK,\n",
    "    image_capacity=3)\n",
    "print(\"Generated image shapes:\", list(map(str, shapes)))\n",
    "draw = ImageDraw.Draw(image)\n",
    "draw.rectangle([0,0, 255, 255], outline=\"white\")\n",
    "image"
   ]
  },
  {
   "cell_type": "markdown",
   "metadata": {},
   "source": [
    "## Generate Red/Green/Blue Images "
   ]
  },
  {
   "cell_type": "code",
   "execution_count": 53,
   "metadata": {},
   "outputs": [
    {
     "name": "stdout",
     "output_type": "stream",
     "text": [
      "Generated image shapes: [\"Triangle(bbox=[(73, 155), 122, 44], polygon=[(98, 155), (195, 199), (73, 199)], color='#0000e1'\", \"Rectangle(bbox=[(141, 45), 98, 74], polygon=[(141, 45), (239, 45), (239, 119), (141, 119)], color='#00e100'\", \"Ellipse(bbox=[(3, 3), 122, 37], polygon=[(125, 21), (124, 23), (123, 26), (120, 28), (117, 30), (113, 32), (108, 34), (102, 35), (96, 37), (89, 38), (82, 39), (75, 39), (67, 39), (60, 39), (52, 39), (45, 39), (38, 38), (31, 37), (25, 35), (19, 34), (14, 32), (10, 30), (7, 28), (4, 26), (3, 23), (3, 21), (3, 19), (4, 16), (7, 14), (10, 12), (14, 10), (19, 8), (25, 7), (31, 5), (38, 4), (45, 3), (52, 3), (60, 3), (67, 3), (75, 3), (82, 3), (89, 4), (96, 5), (102, 7), (108, 8), (113, 10), (117, 12), (120, 14), (123, 16), (124, 19)], color='#e10000'\"]\n"
     ]
    },
    {
     "data": {
      "image/png": "[encoded data removed]",
      "text/plain": [
       "<PIL.Image.Image image mode=RGB size=256x256 at 0x7F9CBEF12EB0>"
      ]
     },
     "execution_count": 53,
     "metadata": {},
     "output_type": "execute_result"
    }
   ],
   "source": [
    "random.seed(365)\n",
    "image, shapes = create_synthetic_image(\n",
    "    image_width=256,\n",
    "    image_height=256,\n",
    "    image_palette=Palette.RGB,\n",
    "    image_background=Background.WHITE,\n",
    "    image_capacity=3)\n",
    "print(f\"Generated image shapes:\", list(map(str, shapes)))\n",
    "draw = ImageDraw.Draw(image)\n",
    "draw.rectangle([0,0, 255, 255], outline=\"black\")\n",
    "image"
   ]
  },
  {
   "cell_type": "code",
   "execution_count": 54,
   "metadata": {},
   "outputs": [
    {
     "name": "stdout",
     "output_type": "stream",
     "text": [
      "Generated image shapes: [\"Triangle(bbox=[(73, 155), 122, 44], polygon=[(98, 155), (195, 199), (73, 199)], color='#0000e1'\", \"Rectangle(bbox=[(141, 45), 98, 74], polygon=[(141, 45), (239, 45), (239, 119), (141, 119)], color='#00e100'\", \"Ellipse(bbox=[(3, 3), 122, 37], polygon=[(125, 21), (124, 23), (123, 26), (120, 28), (117, 30), (113, 32), (108, 34), (102, 35), (96, 37), (89, 38), (82, 39), (75, 39), (67, 39), (60, 39), (52, 39), (45, 39), (38, 38), (31, 37), (25, 35), (19, 34), (14, 32), (10, 30), (7, 28), (4, 26), (3, 23), (3, 21), (3, 19), (4, 16), (7, 14), (10, 12), (14, 10), (19, 8), (25, 7), (31, 5), (38, 4), (45, 3), (52, 3), (60, 3), (67, 3), (75, 3), (82, 3), (89, 4), (96, 5), (102, 7), (108, 8), (113, 10), (117, 12), (120, 14), (123, 16), (124, 19)], color='#e10000'\"]\n"
     ]
    },
    {
     "data": {
      "image/png": "[encoded data removed]",
      "text/plain": [
       "<PIL.Image.Image image mode=RGB size=256x256 at 0x7F9D341BE3A0>"
      ]
     },
     "execution_count": 54,
     "metadata": {},
     "output_type": "execute_result"
    }
   ],
   "source": [
    "random.seed(365)\n",
    "image, shapes = create_synthetic_image(\n",
    "    image_width=256,\n",
    "    image_height=256,\n",
    "    image_palette=Palette.RGB,\n",
    "    image_background=Background.BLACK,\n",
    "    image_capacity=3)\n",
    "print(f\"Generated image shapes:\", list(map(str, shapes)))\n",
    "draw = ImageDraw.Draw(image)\n",
    "draw.rectangle([0,0, 255, 255], outline=\"white\")\n",
    "image"
   ]
  },
  {
   "cell_type": "markdown",
   "metadata": {},
   "source": [
    "## Generate Gray-scale Images "
   ]
  },
  {
   "cell_type": "code",
   "execution_count": 55,
   "metadata": {},
   "outputs": [
    {
     "name": "stdout",
     "output_type": "stream",
     "text": [
      "Generated image shapes: [\"Triangle(bbox=[(73, 155), 122, 44], polygon=[(98, 155), (195, 199), (73, 199)], color='#4c9d91'\", \"Rectangle(bbox=[(141, 45), 98, 74], polygon=[(141, 45), (239, 45), (239, 119), (141, 119)], color='#526877'\", \"Ellipse(bbox=[(3, 3), 122, 37], polygon=[(125, 21), (124, 23), (123, 26), (120, 28), (117, 30), (113, 32), (108, 34), (102, 35), (96, 37), (89, 38), (82, 39), (75, 39), (67, 39), (60, 39), (52, 39), (45, 39), (38, 38), (31, 37), (25, 35), (19, 34), (14, 32), (10, 30), (7, 28), (4, 26), (3, 23), (3, 21), (3, 19), (4, 16), (7, 14), (10, 12), (14, 10), (19, 8), (25, 7), (31, 5), (38, 4), (45, 3), (52, 3), (60, 3), (67, 3), (75, 3), (82, 3), (89, 4), (96, 5), (102, 7), (108, 8), (113, 10), (117, 12), (120, 14), (123, 16), (124, 19)], color='#a09ebf'\"]\n"
     ]
    },
    {
     "data": {
      "image/png": "[encoded data removed]",
      "text/plain": [
       "<PIL.Image.Image image mode=L size=256x256 at 0x7F9D3436DFD0>"
      ]
     },
     "execution_count": 55,
     "metadata": {},
     "output_type": "execute_result"
    }
   ],
   "source": [
    "random.seed(365)\n",
    "image, shapes = create_synthetic_image(\n",
    "    image_width=256,\n",
    "    image_height=256,\n",
    "    image_palette=Palette.GRAY,\n",
    "    image_background=Background.WHITE,\n",
    "    image_capacity=3)\n",
    "print(\"Generated image shapes:\", list(map(str, shapes)))\n",
    "draw = ImageDraw.Draw(image)\n",
    "draw.rectangle([0,0, 255, 255], outline=\"black\")\n",
    "image"
   ]
  },
  {
   "cell_type": "code",
   "execution_count": 56,
   "metadata": {},
   "outputs": [
    {
     "name": "stdout",
     "output_type": "stream",
     "text": [
      "Generated image shapes: [\"Triangle(bbox=[(73, 155), 122, 44], polygon=[(98, 155), (195, 199), (73, 199)], color='#4c9d91'\", \"Rectangle(bbox=[(141, 45), 98, 74], polygon=[(141, 45), (239, 45), (239, 119), (141, 119)], color='#526877'\", \"Ellipse(bbox=[(3, 3), 122, 37], polygon=[(125, 21), (124, 23), (123, 26), (120, 28), (117, 30), (113, 32), (108, 34), (102, 35), (96, 37), (89, 38), (82, 39), (75, 39), (67, 39), (60, 39), (52, 39), (45, 39), (38, 38), (31, 37), (25, 35), (19, 34), (14, 32), (10, 30), (7, 28), (4, 26), (3, 23), (3, 21), (3, 19), (4, 16), (7, 14), (10, 12), (14, 10), (19, 8), (25, 7), (31, 5), (38, 4), (45, 3), (52, 3), (60, 3), (67, 3), (75, 3), (82, 3), (89, 4), (96, 5), (102, 7), (108, 8), (113, 10), (117, 12), (120, 14), (123, 16), (124, 19)], color='#a09ebf'\"]\n"
     ]
    },
    {
     "data": {
      "image/png": "[encoded data removed]",
      "text/plain": [
       "<PIL.Image.Image image mode=L size=256x256 at 0x7F9CBEF12B50>"
      ]
     },
     "execution_count": 56,
     "metadata": {},
     "output_type": "execute_result"
    }
   ],
   "source": [
    "random.seed(365)\n",
    "image, shapes = create_synthetic_image(\n",
    "    image_width=256,\n",
    "    image_height=256,\n",
    "    image_palette=Palette.GRAY,\n",
    "    image_background=Background.BLACK,\n",
    "    image_capacity=3)\n",
    "print(\"Generated image shapes:\", list(map(str, shapes)))\n",
    "draw = ImageDraw.Draw(image)\n",
    "draw.rectangle([0,0, 255, 255], outline=\"white\")\n",
    "image"
   ]
  },
  {
   "cell_type": "markdown",
   "metadata": {},
   "source": [
    "## Generate Binary Images "
   ]
  },
  {
   "cell_type": "code",
   "execution_count": 57,
   "metadata": {},
   "outputs": [
    {
     "name": "stdout",
     "output_type": "stream",
     "text": [
      "Generated image shapes: [\"Triangle(bbox=[(73, 155), 122, 44], polygon=[(98, 155), (195, 199), (73, 199)], color='#000000'\", \"Rectangle(bbox=[(141, 45), 98, 74], polygon=[(141, 45), (239, 45), (239, 119), (141, 119)], color='#000000'\", \"Ellipse(bbox=[(3, 3), 122, 37], polygon=[(125, 21), (124, 23), (123, 26), (120, 28), (117, 30), (113, 32), (108, 34), (102, 35), (96, 37), (89, 38), (82, 39), (75, 39), (67, 39), (60, 39), (52, 39), (45, 39), (38, 38), (31, 37), (25, 35), (19, 34), (14, 32), (10, 30), (7, 28), (4, 26), (3, 23), (3, 21), (3, 19), (4, 16), (7, 14), (10, 12), (14, 10), (19, 8), (25, 7), (31, 5), (38, 4), (45, 3), (52, 3), (60, 3), (67, 3), (75, 3), (82, 3), (89, 4), (96, 5), (102, 7), (108, 8), (113, 10), (117, 12), (120, 14), (123, 16), (124, 19)], color='#000000'\"]\n"
     ]
    },
    {
     "data": {
      "image/png": "[encoded data removed]",
      "text/plain": [
       "<PIL.Image.Image image mode=RGB size=256x256 at 0x7F9D346AB1F0>"
      ]
     },
     "execution_count": 57,
     "metadata": {},
     "output_type": "execute_result"
    }
   ],
   "source": [
    "random.seed(365)\n",
    "image, shapes = create_synthetic_image(\n",
    "    image_width=256,\n",
    "    image_height=256,\n",
    "    image_palette=Palette.BINARY,\n",
    "    image_background=Background.WHITE,\n",
    "    image_capacity=3)\n",
    "print(\"Generated image shapes:\", list(map(str, shapes)))\n",
    "draw = ImageDraw.Draw(image)\n",
    "draw.rectangle([0,0, 255, 255], outline=\"black\")\n",
    "image"
   ]
  },
  {
   "cell_type": "code",
   "execution_count": 58,
   "metadata": {},
   "outputs": [
    {
     "name": "stdout",
     "output_type": "stream",
     "text": [
      "Generated image shapes: [\"Triangle(bbox=[(73, 155), 122, 44], polygon=[(98, 155), (195, 199), (73, 199)], color='#ffffff'\", \"Rectangle(bbox=[(141, 45), 98, 74], polygon=[(141, 45), (239, 45), (239, 119), (141, 119)], color='#ffffff'\", \"Ellipse(bbox=[(3, 3), 122, 37], polygon=[(125, 21), (124, 23), (123, 26), (120, 28), (117, 30), (113, 32), (108, 34), (102, 35), (96, 37), (89, 38), (82, 39), (75, 39), (67, 39), (60, 39), (52, 39), (45, 39), (38, 38), (31, 37), (25, 35), (19, 34), (14, 32), (10, 30), (7, 28), (4, 26), (3, 23), (3, 21), (3, 19), (4, 16), (7, 14), (10, 12), (14, 10), (19, 8), (25, 7), (31, 5), (38, 4), (45, 3), (52, 3), (60, 3), (67, 3), (75, 3), (82, 3), (89, 4), (96, 5), (102, 7), (108, 8), (113, 10), (117, 12), (120, 14), (123, 16), (124, 19)], color='#ffffff'\"]\n"
     ]
    },
    {
     "data": {
      "image/png": "[encoded data removed]",
      "text/plain": [
       "<PIL.Image.Image image mode=RGB size=256x256 at 0x7F9CBEF8B700>"
      ]
     },
     "execution_count": 58,
     "metadata": {},
     "output_type": "execute_result"
    }
   ],
   "source": [
    "random.seed(365)\n",
    "image, shapes = create_synthetic_image(\n",
    "    image_width=256,\n",
    "    image_height=256,\n",
    "    image_palette=Palette.BINARY,\n",
    "    image_background=Background.BLACK,\n",
    "    image_capacity=3)\n",
    "print(\"Generated image shapes:\", list(map(str, shapes)))\n",
    "draw = ImageDraw.Draw(image)\n",
    "draw.rectangle([0,0, 255, 255], outline=\"white\")\n",
    "image"
   ]
  }
 ],
 "metadata": {
  "interpreter": {
   "hash": "c0c458caad03a2e69d5039d0780e9d34fa00817d354e8938f314531d50fa4305"
  },
  "kernelspec": {
   "display_name": "Python 3.8.10 64-bit ('.venv': venv)",
   "language": "python",
   "name": "python3"
  },
  "language_info": {
   "codemirror_mode": {
    "name": "ipython",
    "version": 3
   },
   "file_extension": ".py",
   "mimetype": "text/x-python",
   "name": "python",
   "nbconvert_exporter": "python",
   "pygments_lexer": "ipython3",
   "version": "3.8.10"
  },
  "orig_nbformat": 4
 },
 "nbformat": 4,
 "nbformat_minor": 2
}
