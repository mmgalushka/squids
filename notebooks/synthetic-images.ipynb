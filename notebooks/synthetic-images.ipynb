{
 "cells": [
  {
   "cell_type": "markdown",
   "metadata": {},
   "source": [
    "# Synthetic images\n",
    "\n",
    "This notebook intends to demonstrate different ways of generating synthetic images."
   ]
  },
  {
   "cell_type": "code",
   "execution_count": 1,
   "metadata": {},
   "outputs": [
    {
     "name": "stderr",
     "output_type": "stream",
     "text": [
      "2022-01-13 16:13:41.916253: W tensorflow/stream_executor/platform/default/dso_loader.cc:64] Could not load dynamic library 'libcudart.so.11.0'; dlerror: libcudart.so.11.0: cannot open shared object file: No such file or directory; LD_LIBRARY_PATH: /usr/lib/cuda/include:/usr/lib/cuda/lib64:\n",
      "2022-01-13 16:13:41.916287: I tensorflow/stream_executor/cuda/cudart_stub.cc:29] Ignore above cudart dlerror if you do not have a GPU set up on your machine.\n"
     ]
    }
   ],
   "source": [
    "# Let's make sure that JNB can find our SquiDS package ;)\n",
    "import sys\n",
    "sys.path.insert(0, '..')\n",
    "\n",
    "from squids.dataset.image import create_synthetic_image\n",
    "from squids.dataset.palette import Palette\n",
    "from squids.dataset.background import Background"
   ]
  },
  {
   "cell_type": "markdown",
   "metadata": {},
   "source": []
  },
  {
   "cell_type": "markdown",
   "metadata": {},
   "source": [
    "## General Principals\n",
    "\n",
    "All synthetic images have the same size which is defined by two parameters `image_width` and `image_height`. Keep in mind, when you are going to generate TFRecords the image size can be changed, where all annotations will be rescaled accordingly. \n",
    "\n",
    "Each synthetic image is a collection of different geometrical shapes: rectangles and triangles. The maximum number of geometrical shapes is defined by the parameter `image_capacity`. For example, if the  `image_capacity==3`, means that synthetic images can have 1, 2, or 3 different geometrical shapes (rectangles and triangles).\n",
    "\n",
    "Images can be generated with different color profiles which are defined by two parameters `image_palette ` and `image_background`. The following table explains possible profiles.\n",
    "\n",
    "| image_palette    | image_background  | Generated shapes                           |\n",
    "|:----------------:|:-----------------:|--------------------------------------------|\n",
    "| COLOR            | WHITE             | Any color shape on white background        |\n",
    "| GRAY             | WHITE             | Any gray-scale shape on white background   |\n",
    "| BINARY           | WHITE             | Any black shape on white background        | \n",
    "| COLOR            | BLACK             | Any color shape on black background        |\n",
    "| GRAY             | BLACK             | Any gray-scale shape on black background   |\n",
    "| BINARY           | BLACK             | Any white shape on black background        | "
   ]
  },
  {
   "cell_type": "markdown",
   "metadata": {},
   "source": [
    "## Generate Color Images "
   ]
  },
  {
   "cell_type": "code",
   "execution_count": 2,
   "metadata": {},
   "outputs": [
    {
     "name": "stdout",
     "output_type": "stream",
     "text": [
      "Generated image shapes: [\"Triangle(bbox=[(130, 128), 80, 40], polygon=[(157, 128), (210, 168), (130, 168)], color='#fa324b'\", \"Triangle(bbox=[(141, 99), 97, 73], polygon=[(235, 99), (238, 172), (141, 172)], color='#199632'\", \"Triangle(bbox=[(36, 151), 99, 74], polygon=[(57, 151), (135, 225), (36, 225)], color='#64afe1'\"]\n"
     ]
    },
    {
     "data": {
      "image/png": "[encoded data removed]",
      "text/plain": [
       "<PIL.Image.Image image mode=RGB size=256x256 at 0x7F3E05FEAA00>"
      ]
     },
     "execution_count": 2,
     "metadata": {},
     "output_type": "execute_result"
    }
   ],
   "source": [
    "image, shapes = create_synthetic_image(\n",
    "    image_width=256,\n",
    "    image_height=256,\n",
    "    image_palette=Palette.COLOR,\n",
    "    image_background=Background.WHITE,\n",
    "    image_capacity=3)\n",
    "print(\"Generated image shapes:\", list(map(str, shapes)))\n",
    "image"
   ]
  },
  {
   "cell_type": "code",
   "execution_count": 3,
   "metadata": {},
   "outputs": [
    {
     "name": "stdout",
     "output_type": "stream",
     "text": [
      "Generated image shapes: [\"Rectangle(bbox=[(92, 51), 49, 110], polygon=[(92, 51), (141, 51), (141, 161), (92, 161)], color='#7d64c8'\", \"Rectangle(bbox=[(97, 173), 118, 27], polygon=[(97, 173), (215, 173), (215, 200), (97, 200)], color='#32647d'\", \"Rectangle(bbox=[(39, 108), 105, 120], polygon=[(39, 108), (144, 108), (144, 228), (39, 228)], color='#199619'\"]\n"
     ]
    },
    {
     "data": {
      "image/png": "[encoded data removed]",
      "text/plain": [
       "<PIL.Image.Image image mode=RGB size=256x256 at 0x7F3E05F67F40>"
      ]
     },
     "execution_count": 3,
     "metadata": {},
     "output_type": "execute_result"
    }
   ],
   "source": [
    "image, shapes = create_synthetic_image(\n",
    "    image_width=256,\n",
    "    image_height=256,\n",
    "    image_palette=Palette.COLOR,\n",
    "    image_background=Background.BLACK,\n",
    "    image_capacity=3)\n",
    "print(\"Generated image shapes:\", list(map(str, shapes)))\n",
    "image"
   ]
  },
  {
   "cell_type": "markdown",
   "metadata": {},
   "source": [
    "## Generate Gray-scale Images "
   ]
  },
  {
   "cell_type": "code",
   "execution_count": 4,
   "metadata": {},
   "outputs": [
    {
     "name": "stdout",
     "output_type": "stream",
     "text": [
      "Generated image shapes: [\"Rectangle(bbox=[(143, 97), 101, 64], polygon=[(143, 97), (244, 97), (244, 161), (143, 161)], color='#e1afe1'\", \"Rectangle(bbox=[(20, 57), 74, 119], polygon=[(20, 57), (94, 57), (94, 176), (20, 176)], color='#fa4be1'\"]\n"
     ]
    },
    {
     "data": {
      "image/png": "[encoded data removed]",
      "text/plain": [
       "<PIL.Image.Image image mode=L size=256x256 at 0x7F3E7E083100>"
      ]
     },
     "execution_count": 4,
     "metadata": {},
     "output_type": "execute_result"
    }
   ],
   "source": [
    "image, shapes = create_synthetic_image(\n",
    "    image_width=256,\n",
    "    image_height=256,\n",
    "    image_palette=Palette.GRAY,\n",
    "    image_background=Background.WHITE,\n",
    "    image_capacity=3)\n",
    "print(\"Generated image shapes:\", list(map(str, shapes)))\n",
    "image"
   ]
  },
  {
   "cell_type": "code",
   "execution_count": 5,
   "metadata": {},
   "outputs": [
    {
     "name": "stdout",
     "output_type": "stream",
     "text": [
      "Generated image shapes: [\"Rectangle(bbox=[(80, 34), 95, 124], polygon=[(80, 34), (175, 34), (175, 158), (80, 158)], color='#1932c8'\", \"Triangle(bbox=[(31, 144), 77, 92], polygon=[(73, 144), (108, 236), (31, 236)], color='#96c819'\"]\n"
     ]
    },
    {
     "data": {
      "image/png": "[encoded data removed]",
      "text/plain": [
       "<PIL.Image.Image image mode=L size=256x256 at 0x7F3E05F67D30>"
      ]
     },
     "execution_count": 5,
     "metadata": {},
     "output_type": "execute_result"
    }
   ],
   "source": [
    "image, shapes = create_synthetic_image(\n",
    "    image_width=256,\n",
    "    image_height=256,\n",
    "    image_palette=Palette.GRAY,\n",
    "    image_background=Background.BLACK,\n",
    "    image_capacity=3)\n",
    "print(\"Generated image shapes:\", list(map(str, shapes)))\n",
    "image"
   ]
  },
  {
   "cell_type": "markdown",
   "metadata": {},
   "source": [
    "## Generate Binary Images "
   ]
  },
  {
   "cell_type": "code",
   "execution_count": 6,
   "metadata": {},
   "outputs": [
    {
     "name": "stdout",
     "output_type": "stream",
     "text": [
      "Generated image shapes: [\"Triangle(bbox=[(38, 25), 55, 60], polygon=[(74, 25), (93, 85), (38, 85)], color='#000000'\"]\n"
     ]
    },
    {
     "data": {
      "image/png": "[encoded data removed]",
      "text/plain": [
       "<PIL.Image.Image image mode=RGB size=256x256 at 0x7F3E7C04FA00>"
      ]
     },
     "execution_count": 6,
     "metadata": {},
     "output_type": "execute_result"
    }
   ],
   "source": [
    "image, shapes = create_synthetic_image(\n",
    "    image_width=256,\n",
    "    image_height=256,\n",
    "    image_palette=Palette.BINARY,\n",
    "    image_background=Background.WHITE,\n",
    "    image_capacity=1)\n",
    "print(\"Generated image shapes:\", list(map(str, shapes)))\n",
    "image"
   ]
  },
  {
   "cell_type": "code",
   "execution_count": 7,
   "metadata": {},
   "outputs": [
    {
     "name": "stdout",
     "output_type": "stream",
     "text": [
      "Generated image shapes: [\"Rectangle(bbox=[(135, 56), 96, 100], polygon=[(135, 56), (231, 56), (231, 156), (135, 156)], color='#ffffff'\"]\n"
     ]
    },
    {
     "data": {
      "image/png": "[encoded data removed]",
      "text/plain": [
       "<PIL.Image.Image image mode=RGB size=256x256 at 0x7F3E7C04A970>"
      ]
     },
     "execution_count": 7,
     "metadata": {},
     "output_type": "execute_result"
    }
   ],
   "source": [
    "image, shapes = create_synthetic_image(\n",
    "    image_width=256,\n",
    "    image_height=256,\n",
    "    image_palette=Palette.BINARY,\n",
    "    image_background=Background.BLACK,\n",
    "    image_capacity=1)\n",
    "print(\"Generated image shapes:\", list(map(str, shapes)))\n",
    "image"
   ]
  }
 ],
 "metadata": {
  "interpreter": {
   "hash": "c0c458caad03a2e69d5039d0780e9d34fa00817d354e8938f314531d50fa4305"
  },
  "kernelspec": {
   "display_name": "Python 3.8.10 64-bit ('.venv': venv)",
   "language": "python",
   "name": "python3"
  },
  "language_info": {
   "codemirror_mode": {
    "name": "ipython",
    "version": 3
   },
   "file_extension": ".py",
   "mimetype": "text/x-python",
   "name": "python",
   "nbconvert_exporter": "python",
   "pygments_lexer": "ipython3",
   "version": "3.8.10"
  },
  "orig_nbformat": 4
 },
 "nbformat": 4,
 "nbformat_minor": 2
}
