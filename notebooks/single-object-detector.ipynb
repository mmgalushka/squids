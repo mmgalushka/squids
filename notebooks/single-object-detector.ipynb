{
 "cells": [
  {
   "cell_type": "markdown",
   "metadata": {},
   "source": [
    "# Single Object Detector\n",
    "\n",
    "The notebook illustrates how this synthetic data generator can help to create and test a single object detector.\n",
    "\n",
    "**Please note that the goal of this notebook is not to create the perfect ML model, but to demonstrate how to use the functionality of this library.**"
   ]
  },
  {
   "cell_type": "code",
   "execution_count": 1,
   "metadata": {},
   "outputs": [],
   "source": [
    "import sys\n",
    "sys.path.insert(0, '..')\n",
    "\n",
    "from PIL import ImageDraw\n",
    "import tensorflow as tf\n",
    "import numpy as np\n",
    "\n",
    "from squids import (\n",
    "    create_dataset,\n",
    "    create_tfrecords,\n",
    "    explore_tfrecords,\n",
    "    load_tfrecords,\n",
    "    Palette,\n",
    "    Background\n",
    ")\n",
    "\n",
    "from helper import plot_images"
   ]
  },
  {
   "cell_type": "markdown",
   "metadata": {},
   "source": [
    "## Preparing Dataset\n",
    "\n",
    "Generate synthetic dataset and convert it to TFRecords."
   ]
  },
  {
   "cell_type": "code",
   "execution_count": 2,
   "metadata": {},
   "outputs": [
    {
     "name": "stderr",
     "output_type": "stream",
     "text": [
      "100%|██████████| 10000/10000 [00:02<00:00, 4380.32it/s]\n",
      "100%|██████████| 2012/2012 [00:01<00:00, 1252.17it/s]\n",
      "100%|██████████| 6989/6989 [00:05<00:00, 1293.01it/s]\n",
      "100%|██████████| 999/999 [00:00<00:00, 1217.78it/s]\n"
     ]
    }
   ],
   "source": [
    "create_dataset(\n",
    "    dataset_size=10000,\n",
    "    image_palette=Palette.BINARY,\n",
    "    image_background=Background.BLACK,\n",
    "    random_state=365, image_capacity=1,\n",
    "    verbose=True)\n",
    "create_tfrecords(\n",
    "    verbose=True)"
   ]
  },
  {
   "cell_type": "markdown",
   "metadata": {},
   "source": [
    "Explore 9 samples from the generated dataset."
   ]
  },
  {
   "cell_type": "code",
   "execution_count": 3,
   "metadata": {},
   "outputs": [
    {
     "name": "stderr",
     "output_type": "stream",
     "text": [
      "2022-02-15 10:14:51.605481: I tensorflow/stream_executor/cuda/cuda_gpu_executor.cc:936] successful NUMA node read from SysFS had negative value (-1), but there must be at least one NUMA node, so returning NUMA node zero\n",
      "2022-02-15 10:14:51.647185: I tensorflow/stream_executor/cuda/cuda_gpu_executor.cc:936] successful NUMA node read from SysFS had negative value (-1), but there must be at least one NUMA node, so returning NUMA node zero\n",
      "2022-02-15 10:14:51.647415: I tensorflow/stream_executor/cuda/cuda_gpu_executor.cc:936] successful NUMA node read from SysFS had negative value (-1), but there must be at least one NUMA node, so returning NUMA node zero\n",
      "2022-02-15 10:14:51.648117: I tensorflow/core/platform/cpu_feature_guard.cc:151] This TensorFlow binary is optimized with oneAPI Deep Neural Network Library (oneDNN) to use the following CPU instructions in performance-critical operations:  AVX2 FMA\n",
      "To enable them in other operations, rebuild TensorFlow with the appropriate compiler flags.\n",
      "2022-02-15 10:14:51.648456: I tensorflow/stream_executor/cuda/cuda_gpu_executor.cc:936] successful NUMA node read from SysFS had negative value (-1), but there must be at least one NUMA node, so returning NUMA node zero\n",
      "2022-02-15 10:14:51.648657: I tensorflow/stream_executor/cuda/cuda_gpu_executor.cc:936] successful NUMA node read from SysFS had negative value (-1), but there must be at least one NUMA node, so returning NUMA node zero\n",
      "2022-02-15 10:14:51.648793: I tensorflow/stream_executor/cuda/cuda_gpu_executor.cc:936] successful NUMA node read from SysFS had negative value (-1), but there must be at least one NUMA node, so returning NUMA node zero\n",
      "2022-02-15 10:14:52.203324: I tensorflow/stream_executor/cuda/cuda_gpu_executor.cc:936] successful NUMA node read from SysFS had negative value (-1), but there must be at least one NUMA node, so returning NUMA node zero\n",
      "2022-02-15 10:14:52.203488: I tensorflow/stream_executor/cuda/cuda_gpu_executor.cc:936] successful NUMA node read from SysFS had negative value (-1), but there must be at least one NUMA node, so returning NUMA node zero\n",
      "2022-02-15 10:14:52.203618: I tensorflow/stream_executor/cuda/cuda_gpu_executor.cc:936] successful NUMA node read from SysFS had negative value (-1), but there must be at least one NUMA node, so returning NUMA node zero\n",
      "2022-02-15 10:14:52.203719: I tensorflow/core/common_runtime/gpu/gpu_device.cc:1525] Created device /job:localhost/replica:0/task:0/device:GPU:0 with 4085 MB memory:  -> device: 0, name: NVIDIA GeForce GTX 1060 6GB, pci bus id: 0000:01:00.0, compute capability: 6.1\n"
     ]
    },
    {
     "data": {
      "image/png": "[encoded data removed]",
      "text/plain": [
       "<Figure size 432x288 with 9 Axes>"
      ]
     },
     "metadata": {
      "needs_background": "light"
     },
     "output_type": "display_data"
    }
   ],
   "source": [
    "image_ids, _ = explore_tfrecords(\n",
    "    'dataset/synthetic-tfrecords/instances_train',\n",
    "    return_artifacts=True\n",
    ")\n",
    "\n",
    "images  = [\n",
    "    explore_tfrecords(\n",
    "        'dataset/synthetic-tfrecords/instances_train',\n",
    "        image_id,\n",
    "        with_categories = False,\n",
    "        with_bboxes = True,\n",
    "        with_segmentations = False,\n",
    "        return_artifacts=True\n",
    "    )[0]\n",
    "    for image_id in image_ids[0:10]\n",
    "]\n",
    "\n",
    "plot_images(images, \"Generated Images\")"
   ]
  },
  {
   "cell_type": "markdown",
   "metadata": {},
   "source": [
    "## Train Object Detection Model\n",
    "\n",
    "Let's create generators for train and validation datasets and compute steps per epoch for each of them."
   ]
  },
  {
   "cell_type": "code",
   "execution_count": 4,
   "metadata": {},
   "outputs": [
    {
     "name": "stderr",
     "output_type": "stream",
     "text": [
      "2022-02-15 10:15:09.618834: W tensorflow/core/data/root_dataset.cc:200] Optimization loop failed: CANCELLED: Operation was cancelled\n"
     ]
    },
    {
     "name": "stdout",
     "output_type": "stream",
     "text": [
      "Training steps per epoch (for the batch size 128):  55\n",
      "Validation steps per epoch (for the batch size 128):  16\n"
     ]
    }
   ],
   "source": [
    "import pathlib\n",
    "\n",
    "ds_train, train_steps_per_epoch = load_tfrecords(\n",
    "    pathlib.Path(\"dataset/synthetic-tfrecords/instances_train\"), \n",
    "    output_schema = \"B\",\n",
    "    num_detecting_objects=1,\n",
    "    batch_size=128\n",
    ")\n",
    "print(\"Training steps per epoch (for the batch size 128): \", train_steps_per_epoch)\n",
    "\n",
    "ds_val, val_steps_per_epoch = load_tfrecords(\n",
    "    pathlib.Path(\"dataset/synthetic-tfrecords/instances_val\"), \n",
    "    output_schema = \"B\",\n",
    "    num_detecting_objects=1,\n",
    "    batch_size=128\n",
    ")\n",
    "print(\"Validation steps per epoch (for the batch size 128): \", val_steps_per_epoch)"
   ]
  },
  {
   "cell_type": "markdown",
   "metadata": {},
   "source": [
    "Let's define a simple convolution model."
   ]
  },
  {
   "cell_type": "code",
   "execution_count": 5,
   "metadata": {},
   "outputs": [],
   "source": [
    "model = tf.keras.models.Sequential([\n",
    "\ttf.keras.layers.Conv2D(\n",
    "\t\t\tfilters=32,\n",
    "            kernel_size=(3, 3),\n",
    "            padding='same',\n",
    "            input_shape=(64, 64, 3)),\n",
    "\ttf.keras.layers.Flatten(),\n",
    "\ttf.keras.layers.Dense(\n",
    "\t\t1024, \n",
    "\t\tkernel_initializer='random_normal',\n",
    "\t\tbias_initializer='zeros',\n",
    "\t\tactivation='relu'),\n",
    "\ttf.keras.layers.Dense(\n",
    "\t\t4,\n",
    "\t\tactivation='relu')\n",
    "])\n",
    "model.compile(\n",
    "    optimizer=tf.keras.optimizers.Adam(),\n",
    "    loss=tf.keras.losses.MeanAbsoluteError(),\n",
    ")"
   ]
  },
  {
   "cell_type": "markdown",
   "metadata": {},
   "source": [
    "Train the model."
   ]
  },
  {
   "cell_type": "code",
   "execution_count": 9,
   "metadata": {},
   "outputs": [
    {
     "name": "stdout",
     "output_type": "stream",
     "text": [
      "Epoch 1/10\n",
      "55/55 [==============================] - 5s 94ms/step - loss: 0.8751 - val_loss: 1.6050\n",
      "Epoch 2/10\n",
      "55/55 [==============================] - 5s 96ms/step - loss: 0.8434 - val_loss: 1.5978\n",
      "Epoch 3/10\n",
      "55/55 [==============================] - 5s 99ms/step - loss: 0.8052 - val_loss: 1.6504\n",
      "Epoch 4/10\n",
      "55/55 [==============================] - 5s 96ms/step - loss: 0.7692 - val_loss: 1.5459\n",
      "Epoch 5/10\n",
      "55/55 [==============================] - 5s 100ms/step - loss: 0.7123 - val_loss: 1.5602\n",
      "Epoch 6/10\n",
      "55/55 [==============================] - 6s 107ms/step - loss: 0.6850 - val_loss: 1.5167\n",
      "Epoch 7/10\n",
      "55/55 [==============================] - 6s 109ms/step - loss: 0.6829 - val_loss: 1.5223\n",
      "Epoch 8/10\n",
      "55/55 [==============================] - 6s 106ms/step - loss: 0.6391 - val_loss: 1.5022\n",
      "Epoch 9/10\n",
      "55/55 [==============================] - 6s 106ms/step - loss: 0.6482 - val_loss: 1.4708\n",
      "Epoch 10/10\n",
      "55/55 [==============================] - 6s 108ms/step - loss: 0.6902 - val_loss: 1.4786\n"
     ]
    },
    {
     "data": {
      "text/plain": [
       "<keras.callbacks.History at 0x7f7ef0d0ea90>"
      ]
     },
     "execution_count": 9,
     "metadata": {},
     "output_type": "execute_result"
    }
   ],
   "source": [
    "model.fit(\n",
    "    ds_train,\n",
    "    steps_per_epoch = train_steps_per_epoch,\n",
    "    epochs=10,\n",
    "    validation_data=ds_val,\n",
    "    validation_steps = val_steps_per_epoch,\n",
    "    verbose=1\n",
    ")"
   ]
  },
  {
   "cell_type": "markdown",
   "metadata": {},
   "source": [
    "## Test Object Detection Model\n",
    "\n",
    "Let's test the model on the unseen data."
   ]
  },
  {
   "cell_type": "code",
   "execution_count": 14,
   "metadata": {},
   "outputs": [
    {
     "data": {
      "image/png": "[encoded data removed]",
      "text/plain": [
       "<Figure size 432x288 with 9 Axes>"
      ]
     },
     "metadata": {
      "needs_background": "light"
     },
     "output_type": "display_data"
    }
   ],
   "source": [
    "image_ids, _ = explore_tfrecords(\n",
    "    'dataset/synthetic-tfrecords/instances_test',\n",
    "    return_artifacts=True\n",
    ")\n",
    "\n",
    "images  = [\n",
    "    explore_tfrecords(\n",
    "        'dataset/synthetic-tfrecords/instances_test',\n",
    "        image_id,\n",
    "        with_categories = False,\n",
    "        with_bboxes = True,\n",
    "        with_segmentations = False,\n",
    "        return_artifacts=True\n",
    "    )[0]\n",
    "    for image_id in image_ids[0:10]\n",
    "]\n",
    "\n",
    "plot_images(images, \"Test Images\")"
   ]
  },
  {
   "cell_type": "markdown",
   "metadata": {},
   "source": [
    "Make model prediction and overlay results on the test images."
   ]
  },
  {
   "cell_type": "code",
   "execution_count": 15,
   "metadata": {},
   "outputs": [
    {
     "name": "stdout",
     "output_type": "stream",
     "text": [
      "Predicted bounding boxes (x,y,w,h):\n",
      " [[32 31 14 25]\n",
      " [48 16 13 20]\n",
      " [23 50 31 13]\n",
      " [31 46 22 15]\n",
      " [30 24 22  8]\n",
      " [12 32 24  7]\n",
      " [10 22 24 22]\n",
      " [45 10 11 25]\n",
      " [16  2 25 23]\n",
      " [17  3 26 22]]\n"
     ]
    },
    {
     "data": {
      "image/png": "[encoded data removed]",
      "text/plain": [
       "<Figure size 432x288 with 9 Axes>"
      ]
     },
     "metadata": {
      "needs_background": "light"
     },
     "output_type": "display_data"
    }
   ],
   "source": [
    "preprocessed_images = np.array(\n",
    "    [np.array(image) for image in images]\n",
    ") / 255.0\n",
    "\n",
    "predicted_bboxes = model.predict(preprocessed_images).astype(int)\n",
    "\n",
    "print(\"Predicted bounding boxes (x,y,w,h):\\n\", predicted_bboxes)\n",
    "\n",
    "\n",
    "for image, bbox in zip(images, predicted_bboxes):\n",
    "    draw = ImageDraw.Draw(image)\n",
    "    draw.rectangle(\n",
    "        (bbox[0], bbox[1], bbox[0]+bbox[2], bbox[1]+bbox[3]),\n",
    "        outline=\"#00FF00\"\n",
    "    )\n",
    "\n",
    "plot_images(images, \"Images with Predicted BBox\")"
   ]
  }
 ],
 "metadata": {
  "interpreter": {
   "hash": "c0c458caad03a2e69d5039d0780e9d34fa00817d354e8938f314531d50fa4305"
  },
  "kernelspec": {
   "display_name": "Python 3.8.10 ('.venv': venv)",
   "language": "python",
   "name": "python3"
  },
  "language_info": {
   "codemirror_mode": {
    "name": "ipython",
    "version": 3
   },
   "file_extension": ".py",
   "mimetype": "text/x-python",
   "name": "python",
   "nbconvert_exporter": "python",
   "pygments_lexer": "ipython3",
   "version": "3.8.10"
  },
  "orig_nbformat": 4
 },
 "nbformat": 4,
 "nbformat_minor": 2
}
