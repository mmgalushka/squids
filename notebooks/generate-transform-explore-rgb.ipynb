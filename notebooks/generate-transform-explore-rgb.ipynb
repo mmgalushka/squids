{
 "cells": [
  {
   "cell_type": "markdown",
   "metadata": {},
   "source": [
    "# Generate, Transform and Explore (RGB)\n",
    "\n",
    "This notebook shows the pipeline for generating synthetic data (RGB images in CSV and COCO format), transforming this data to the TFRecords, and exploring them."
   ]
  },
  {
   "cell_type": "code",
   "execution_count": 1,
   "metadata": {},
   "outputs": [],
   "source": [
    "# Let's make sure that JNB can find our SquiDS package ;)\n",
    "import sys\n",
    "sys.path.insert(0, '..')"
   ]
  },
  {
   "cell_type": "markdown",
   "metadata": {},
   "source": [
    "## Generate Synthetic Dataset"
   ]
  },
  {
   "cell_type": "markdown",
   "metadata": {},
   "source": [
    "### Generate CSV Dataset"
   ]
  },
  {
   "cell_type": "code",
   "execution_count": 2,
   "metadata": {},
   "outputs": [],
   "source": [
    "from squids import create_dataset\n",
    "create_dataset(\n",
    "    image_width=256, image_height=256, random_state=365\n",
    ")"
   ]
  },
  {
   "cell_type": "code",
   "execution_count": 3,
   "metadata": {},
   "outputs": [
    {
     "name": "stdout",
     "output_type": "stream",
     "text": [
      "categories.json  instances_test.csv   instances_val.csv\n",
      "images\t\t instances_train.csv\n"
     ]
    }
   ],
   "source": [
    "!ls dataset/synthetic"
   ]
  },
  {
   "cell_type": "markdown",
   "metadata": {},
   "source": [
    "| Artifact            | Type   | Comment |\n",
    "|---------------------|--------|---------|\n",
    "| images              | Folder | Contains all generated images |\n",
    "| instances_train.csv | File   | Contains training records including image and annotations |\n",
    "| instances_val.csv   | File   | Contains validation records including image and annotations |\n",
    "| instances_test.csv  | File   | Contains test records including image and annotations |\n",
    "| categories.json     | File   | Contains information about annotated categories |\n",
    "\n",
    "As an example let's review the structure of the instances_train.csv file. Please note, the structure of the other two CSV files is the same."
   ]
  },
  {
   "cell_type": "code",
   "execution_count": 4,
   "metadata": {},
   "outputs": [
    {
     "name": "stdout",
     "output_type": "stream",
     "text": [
      "  image_id  file_name    bboxes              segmentations       category_ids\n",
      "----------  -----------  ------------------  ------------------  --------------\n",
      "         0  image0.jpg   [[73, 155, 122,...  [[98, 155, 195,...  [2, 3, 1]\n",
      "         3  image3.jpg   [[44, 154, 82, ...  [[126, 184, 125...  [1, 2]\n",
      "         4  image4.jpg   [[31, 62, 55, 7...  [[86, 99, 85, 1...  [1, 2]\n",
      "         5  image5.jpg   [[69, 39, 86, 5...  [[155, 65, 154,...  [1, 3]\n",
      "         7  image7.jpg   [[59, 69, 78, 6...  [[59, 69, 137, ...  [3]\n",
      "         8  image8.jpg   [[81, 4, 94, 10...  [[81, 4, 175, 4...  [3]\n",
      "         9  image9.jpg   [[0, 85, 116, 9...  [[116, 131, 115...  [1, 3, 3]\n",
      "        10  image10.jpg  [[108, 93, 74, ...  [[162, 93, 182,...  [2]\n",
      "        13  image13.jpg  [[76, 133, 126,...  [[76, 133, 202,...  [3, 2]\n",
      "        14  image14.jpg  [[39, 145, 113,...  [[152, 173, 151...  [1, 1]\n",
      "        15  image15.jpg  [[178, 19, 52, ...  [[206, 19, 230,...  [2, 2]\n",
      "        16  image16.jpg  [[99, 139, 64, ...  [[139, 139, 163...  [2, 2]\n",
      "        17  image17.jpg  [[130, 69, 87, ...  [[217, 123, 216...  [1, 2, 3]\n",
      "        19  image19.jpg  [[38, 121, 123,...  [[161, 177, 160...  [1]\n",
      "        20  image20.jpg  [[79, 135, 90, ...  [[136, 135, 169...  [2, 1, 3]\n"
     ]
    }
   ],
   "source": [
    "import csv\n",
    "from tabulate import tabulate\n",
    "\n",
    "records = []\n",
    "with open('dataset/synthetic/instances_train.csv') as csvfile:\n",
    "    reader = csv.DictReader(csvfile)\n",
    "    for record in reader:\n",
    "        records.append(record)\n",
    "\n",
    "# reduces the number of records for visualization to 15\n",
    "records = records[:15]\n",
    "\n",
    "print(\n",
    "    tabulate(\n",
    "        [\n",
    "            [\n",
    "                row[\"image_id\"],\n",
    "                row[\"file_name\"],\n",
    "                row[\"bboxes\"][:15] + \"...\",\n",
    "                row[\"segmentations\"][:15] + \"...\",\n",
    "                row[\"category_ids\"]\n",
    "            ] for row in records\n",
    "        ],\n",
    "        headers=[\n",
    "            \"image_id\",\"file_name\",\"bboxes\",\"segmentations\",\"category_ids\"\n",
    "        ],\n",
    "    )\n",
    ")"
   ]
  },
  {
   "cell_type": "markdown",
   "metadata": {},
   "source": [
    "The `categories.json` file provides more information about each category ID. "
   ]
  },
  {
   "cell_type": "code",
   "execution_count": 5,
   "metadata": {},
   "outputs": [
    {
     "name": "stdout",
     "output_type": "stream",
     "text": [
      "{\n",
      "    \"categories\": [\n",
      "        {\n",
      "            \"id\": 1,\n",
      "            \"name\": \"ellipse\",\n",
      "            \"supercategory\": \"shape\"\n",
      "        },\n",
      "        {\n",
      "            \"id\": 2,\n",
      "            \"name\": \"triangle\",\n",
      "            \"supercategory\": \"shape\"\n",
      "        },\n",
      "        {\n",
      "            \"id\": 3,\n",
      "            \"name\": \"rectangle\",\n",
      "            \"supercategory\": \"shape\"\n",
      "        }\n",
      "    ]\n",
      "}"
     ]
    }
   ],
   "source": [
    "!cat dataset/synthetic/categories.json"
   ]
  },
  {
   "cell_type": "markdown",
   "metadata": {},
   "source": [
    "### Generate COCO Dataset"
   ]
  },
  {
   "cell_type": "code",
   "execution_count": 6,
   "metadata": {},
   "outputs": [],
   "source": [
    "from squids import create_dataset\n",
    "create_dataset(\n",
    "    image_width=256, image_height=256, random_state=365, coco=True\n",
    ")"
   ]
  },
  {
   "cell_type": "code",
   "execution_count": 7,
   "metadata": {},
   "outputs": [
    {
     "name": "stdout",
     "output_type": "stream",
     "text": [
      "annotations  instances_test  instances_train  instances_val\n"
     ]
    }
   ],
   "source": [
    "!ls dataset/synthetic"
   ]
  },
  {
   "cell_type": "code",
   "execution_count": 8,
   "metadata": {},
   "outputs": [
    {
     "name": "stdout",
     "output_type": "stream",
     "text": [
      "instances_test.json  instances_train.json  instances_val.json\n"
     ]
    }
   ],
   "source": [
    "!ls dataset/synthetic/annotations"
   ]
  },
  {
   "cell_type": "markdown",
   "metadata": {},
   "source": [
    "| Artifact                         | Type   | Comment |\n",
    "|----------------------------------|--------|---------|\n",
    "| annotations                      | Folder | Contains files describing annotations |\n",
    "| annotations/instances_train.json | File   | Contains training records including image and annotations |\n",
    "| annotations/instances_val.json   | File   | Contains validation records including image and annotations |\n",
    "| annotations/instances_test.json  | File   | Contains test records including image and annotations |\n",
    "| instances_train                  | Folder | Contains all generated training images (annotated in instances_train.json) |\n",
    "| instances_val                    | Folder | Contains all generated validation images (annotated in instances_val.json) |\n",
    "| instances_test                   | Folder | Contains all generated test images (annotated in instances_test.json) |\n",
    "\n",
    "As an example let's review the structure of the `instances_train.json` file. Please note, the structure of the other two JSON files is the same."
   ]
  },
  {
   "cell_type": "code",
   "execution_count": 9,
   "metadata": {},
   "outputs": [
    {
     "name": "stdout",
     "output_type": "stream",
     "text": [
      "Top sections: ['info', 'licenses', 'images', 'categories', 'annotations']\n"
     ]
    }
   ],
   "source": [
    "import json\n",
    "with open(\"dataset/synthetic/annotations/instances_train.json\") as fp:\n",
    "    train = json.load(fp)\n",
    "print(\"Top sections:\", list(train.keys()))\n"
   ]
  },
  {
   "cell_type": "markdown",
   "metadata": {},
   "source": [
    "The top-level of the COCO JSON structure contains the five categories. The following three are the most important for the current topic: `images`, `annotations`, and `categories`. \n",
    "\n",
    "Let's review the first record of the `images` property."
   ]
  },
  {
   "cell_type": "code",
   "execution_count": 10,
   "metadata": {},
   "outputs": [
    {
     "name": "stdout",
     "output_type": "stream",
     "text": [
      "images[0]: {\n",
      "    \"file_name\": \"image0.jpg\",\n",
      "    \"coco_url\": \"file:///dataset/synthetic/instances_train/image0.jpg\",\n",
      "    \"width\": 256,\n",
      "    \"height\": 256,\n",
      "    \"date_captured\": \"2022-02-15 23:23:15\",\n",
      "    \"id\": 0\n",
      "}\n"
     ]
    }
   ],
   "source": [
    "print(\"images[0]:\", json.dumps(train[\"images\"][0], indent=4))"
   ]
  },
  {
   "cell_type": "markdown",
   "metadata": {},
   "source": [
    "It contains information about an image, where the most relevant properties are `file_name` and `id`. The transformer will try to read this image file from the folder derived from the stem name of the JSON file. For example, if this file is `instances_train.json`, the image is expected to be stored in the `../instances_train` folder. So the full path to the image will be `dataset/synthetic/instances_train/image#.jpg`"
   ]
  },
  {
   "cell_type": "code",
   "execution_count": 11,
   "metadata": {},
   "outputs": [
    {
     "name": "stdout",
     "output_type": "stream",
     "text": [
      "dataset/synthetic/instances_train/image0.jpg\n"
     ]
    }
   ],
   "source": [
    "!ls dataset/synthetic/instances_train/image0.jpg"
   ]
  },
  {
   "cell_type": "markdown",
   "metadata": {},
   "source": [
    "Let's review the first record of the `annotations` property."
   ]
  },
  {
   "cell_type": "code",
   "execution_count": 12,
   "metadata": {},
   "outputs": [
    {
     "name": "stdout",
     "output_type": "stream",
     "text": [
      "annotations[0]: {\n",
      "    \"segmentation\": [\n",
      "        [\n",
      "            98,\n",
      "            155,\n",
      "            195,\n",
      "            199,\n",
      "            73,\n",
      "            199\n",
      "        ]\n",
      "    ],\n",
      "    \"area\": 2684.0,\n",
      "    \"iscrowd\": 0,\n",
      "    \"image_id\": 0,\n",
      "    \"bbox\": [\n",
      "        73,\n",
      "        155,\n",
      "        122,\n",
      "        44\n",
      "    ],\n",
      "    \"category_id\": 2,\n",
      "    \"id\": 0\n",
      "}\n"
     ]
    }
   ],
   "source": [
    "print(\"annotations[0]:\", json.dumps(train[\"annotations\"][0], indent=4))"
   ]
  },
  {
   "cell_type": "markdown",
   "metadata": {},
   "source": [
    "The annotation record contains information about the image it belongs to `image_id`, bounding box coordinates `bbox`, segmentation polygon coordinates `segmentation`, and `category_id` to define what type of an object is segmented. The identifier of the segmentation itself is defined by the `id` property."
   ]
  },
  {
   "cell_type": "markdown",
   "metadata": {},
   "source": [
    "Let's review information about available categories. "
   ]
  },
  {
   "cell_type": "code",
   "execution_count": 13,
   "metadata": {},
   "outputs": [
    {
     "name": "stdout",
     "output_type": "stream",
     "text": [
      "categories: [\n",
      "    {\n",
      "        \"supercategory\": \"shape\",\n",
      "        \"id\": 1,\n",
      "        \"name\": \"ellipse\"\n",
      "    },\n",
      "    {\n",
      "        \"supercategory\": \"shape\",\n",
      "        \"id\": 2,\n",
      "        \"name\": \"triangle\"\n",
      "    },\n",
      "    {\n",
      "        \"supercategory\": \"shape\",\n",
      "        \"id\": 3,\n",
      "        \"name\": \"rectangle\"\n",
      "    }\n",
      "]\n"
     ]
    }
   ],
   "source": [
    "print(\"categories:\", json.dumps(train[\"categories\"], indent=4))"
   ]
  },
  {
   "cell_type": "markdown",
   "metadata": {},
   "source": [
    "## Transform Dataset to TFRecords\n",
    "\n",
    "This process is the same for the synthetic (or real) dataset in either CSV or COCO formats."
   ]
  },
  {
   "cell_type": "code",
   "execution_count": 14,
   "metadata": {},
   "outputs": [],
   "source": [
    "from squids import create_tfrecords\n",
    "create_tfrecords(image_width=256, image_height=256)"
   ]
  },
  {
   "cell_type": "code",
   "execution_count": 15,
   "metadata": {},
   "outputs": [
    {
     "name": "stdout",
     "output_type": "stream",
     "text": [
      "instances_test\tinstances_train  instances_val\n",
      "\n",
      "Listing of dataset/synthetic-tfrecords/instances_train:\n",
      "part-0.tfrecord  part-1.tfrecord  part-2.tfrecord\n",
      "\n",
      "Listing of dataset/synthetic-tfrecords/instances_val:\n",
      "part-0.tfrecord\n",
      "\n",
      "Listing of dataset/synthetic-tfrecords/instances_test:\n",
      "part-0.tfrecord\n"
     ]
    }
   ],
   "source": [
    "\n",
    "!ls dataset/synthetic-tfrecords\n",
    "print(\"\\nListing of dataset/synthetic-tfrecords/instances_train:\")\n",
    "!ls dataset/synthetic-tfrecords/instances_train\n",
    "print(\"\\nListing of dataset/synthetic-tfrecords/instances_val:\")\n",
    "!ls dataset/synthetic-tfrecords/instances_val\n",
    "print(\"\\nListing of dataset/synthetic-tfrecords/instances_test:\")\n",
    "!ls dataset/synthetic-tfrecords/instances_test"
   ]
  },
  {
   "cell_type": "markdown",
   "metadata": {},
   "source": [
    "## Exploring TFRecords\n",
    "\n",
    "As a part of the training process, it is important to know that the right data is entering the machine learning model. The following functions allow you to explore data located inside TFRecords."
   ]
  },
  {
   "cell_type": "markdown",
   "metadata": {},
   "source": [
    "### Exploring TFRecords using Default Output\n",
    "\n",
    "In this scenario, the exploring function is using the default mechanism of rendering TFRecords inspection results."
   ]
  },
  {
   "cell_type": "code",
   "execution_count": 16,
   "metadata": {},
   "outputs": [
    {
     "name": "stderr",
     "output_type": "stream",
     "text": [
      "2022-02-15 23:23:30.277004: I tensorflow/stream_executor/cuda/cuda_gpu_executor.cc:936] successful NUMA node read from SysFS had negative value (-1), but there must be at least one NUMA node, so returning NUMA node zero\n",
      "2022-02-15 23:23:30.363086: I tensorflow/stream_executor/cuda/cuda_gpu_executor.cc:936] successful NUMA node read from SysFS had negative value (-1), but there must be at least one NUMA node, so returning NUMA node zero\n",
      "2022-02-15 23:23:30.363512: I tensorflow/stream_executor/cuda/cuda_gpu_executor.cc:936] successful NUMA node read from SysFS had negative value (-1), but there must be at least one NUMA node, so returning NUMA node zero\n",
      "2022-02-15 23:23:30.367630: I tensorflow/core/platform/cpu_feature_guard.cc:151] This TensorFlow binary is optimized with oneAPI Deep Neural Network Library (oneDNN) to use the following CPU instructions in performance-critical operations:  AVX2 FMA\n",
      "To enable them in other operations, rebuild TensorFlow with the appropriate compiler flags.\n",
      "2022-02-15 23:23:30.368201: I tensorflow/stream_executor/cuda/cuda_gpu_executor.cc:936] successful NUMA node read from SysFS had negative value (-1), but there must be at least one NUMA node, so returning NUMA node zero\n",
      "2022-02-15 23:23:30.368505: I tensorflow/stream_executor/cuda/cuda_gpu_executor.cc:936] successful NUMA node read from SysFS had negative value (-1), but there must be at least one NUMA node, so returning NUMA node zero\n",
      "2022-02-15 23:23:30.368648: I tensorflow/stream_executor/cuda/cuda_gpu_executor.cc:936] successful NUMA node read from SysFS had negative value (-1), but there must be at least one NUMA node, so returning NUMA node zero\n",
      "2022-02-15 23:23:31.719505: I tensorflow/stream_executor/cuda/cuda_gpu_executor.cc:936] successful NUMA node read from SysFS had negative value (-1), but there must be at least one NUMA node, so returning NUMA node zero\n",
      "2022-02-15 23:23:31.719763: I tensorflow/stream_executor/cuda/cuda_gpu_executor.cc:936] successful NUMA node read from SysFS had negative value (-1), but there must be at least one NUMA node, so returning NUMA node zero\n",
      "2022-02-15 23:23:31.719912: I tensorflow/stream_executor/cuda/cuda_gpu_executor.cc:936] successful NUMA node read from SysFS had negative value (-1), but there must be at least one NUMA node, so returning NUMA node zero\n",
      "2022-02-15 23:23:31.720021: I tensorflow/core/common_runtime/gpu/gpu_device.cc:1525] Created device /job:localhost/replica:0/task:0/device:GPU:0 with 4208 MB memory:  -> device: 0, name: NVIDIA GeForce GTX 1060 6GB, pci bus id: 0000:01:00.0, compute capability: 6.1\n"
     ]
    },
    {
     "name": "stdout",
     "output_type": "stream",
     "text": [
      "\n",
      "dataset/synthetic-tfrecords/instances_train\n",
      "725 {1}        921 {1}        485 {1, 3}     686 {1, 2}     166 {1}      \n",
      "726 {2}        922 {1, 2, 3}  486 {3}        687 {1}        167 {3}      \n",
      "727 {3}        923 {2}        488 {1, 2}     688 {1, 3}     168 {1}      \n",
      "728 {2, 3}     924 {2}        489 {2, 3}     689 {1, 2}     169 {2}      \n",
      "729 {1, 2}     925 {3}        490 {2, 3}     690 {1, 3}     172 {1}      \n",
      "730 {3}        926 {2, 3}     491 {3}        692 {2}        173 {1, 3}   \n",
      "731 {1, 2}     927 {1}        493 {1, 2}     693 {3}        174 {1, 3}   \n",
      "733 {2}        929 {1, 3}     494 {3}        694 {2}        175 {2}      \n",
      "734 {2, 3}     930 {1}        495 {1, 3}     698 {2}        178 {1, 3}   \n",
      "735 {1, 2}     933 {1}        496 {1, 3}     699 {1, 2, 3}  179 {1, 2, 3}\n",
      "737 {1, 2, 3}  934 {1, 2, 3}  498 {1}        700 {2, 3}     180 {2}      \n",
      "739 {2}        935 {3}        499 {1, 3}     702 {2, 3}     181 {3}      \n",
      "740 {2}        936 {1, 3}     500 {3}        703 {3}        182 {1, 2, 3}\n",
      "741 {1, 2}     937 {1, 2, 3}  501 {1, 2, 3}  706 {1}        183 {2}      \n",
      "743 {2}        939 {1, 2}     502 {1}        707 {1, 2}     184 {3}      \n",
      "744 {2}        941 {2}        503 {2}        709 {2, 3}     185 {1, 2}   \n",
      "745 {1}        943 {2, 3}     504 {1, 3}     711 {2, 3}     186 {1, 2, 3}\n",
      "746 {2, 3}     945 {1, 3}     506 {2}        712 {2}        187 {2, 3}   \n",
      "747 {1, 2}     948 {1}        507 {1, 2, 3}  713 {3}        188 {2}      \n",
      "748 {1, 3}     949 {1, 2}     511 {1}        715 {1, 2}     189 {1, 2}   \n",
      "749 {1, 2}     950 {1, 3}     512 {2}        717 {2, 3}     190 {2, 3}   \n",
      "750 {1, 2}     952 {1, 3}     514 {1, 2}     718 {2, 3}     192 {1, 3}   \n",
      "751 {2, 3}     953 {1, 3}     515 {1, 2}     719 {3}        193 {1, 2}   \n",
      "753 {1}        954 {2, 3}     517 {1, 3}     720 {2}        194 {1}      \n",
      "754 {1, 2}     958 {2}        518 {3}        721 {1, 2, 3}  195 {1, 3}   \n",
      "756 {1}        961 {1}        519 {1, 3}     723 {3}        196 {2}      \n",
      "758 {1, 3}     962 {1, 2}     520 {1, 2, 3}  724 {1, 2}     197 {1}      \n",
      "759 {2}        963 {1, 2}     521 {2}        0 {1, 2, 3}    198 {1, 2}   \n",
      "760 {2, 3}     964 {3}        525 {1}        3 {1, 2}       199 {2}      \n",
      "761 {1, 3}     965 {1, 2}     526 {1, 2}     4 {1, 2}       200 {2}      \n",
      "763 {3}        966 {1, 3}     527 {1, 2}     5 {1, 3}       201 {2, 3}   \n",
      "765 {3}        967 {2}        528 {1, 2}     7 {3}          202 {2, 3}   \n",
      "767 {1, 2, 3}  969 {1}        529 {1, 2, 3}  8 {3}          203 {1, 3}   \n",
      "768 {1}        970 {2, 3}     530 {3}        9 {1, 3}       205 {2, 3}   \n",
      "770 {3}        972 {2}        532 {2, 3}     10 {2}         206 {3}      \n",
      "771 {1, 3}     974 {1}        533 {2, 3}     13 {2, 3}      207 {2}      \n",
      "772 {3}        975 {1}        534 {3}        14 {1}         209 {1, 2}   \n",
      "773 {1, 3}     977 {2}        536 {1}        15 {2}         210 {1, 3}   \n",
      "775 {1, 2}     978 {1, 2}     537 {2, 3}     16 {2}         211 {2, 3}   \n",
      "776 {2, 3}     979 {2}        538 {1, 2}     17 {1, 2, 3}   213 {2}      \n",
      "778 {1, 3}     980 {1}        539 {3}        19 {1}         214 {2}      \n",
      "782 {2}        981 {1, 3}     541 {1, 3}     20 {1, 2, 3}   215 {1}      \n",
      "784 {2}        982 {2, 3}     542 {3}        21 {2}         217 {2}      \n",
      "785 {2}        983 {2, 3}     543 {1, 2, 3}  23 {3}         218 {2, 3}   \n",
      "786 {1, 2}     984 {1, 2, 3}  546 {2, 3}     24 {2, 3}      219 {1}      \n",
      "787 {1, 2}     985 {2}        547 {1, 3}     27 {2}         220 {3}      \n",
      "789 {2, 3}     986 {1, 3}     548 {1, 2, 3}  28 {3}         221 {3}      \n",
      "790 {2}        987 {1, 2}     549 {1, 2}     29 {3}         222 {2, 3}   \n",
      "791 {1, 2}     988 {1, 3}     550 {1, 2, 3}  30 {1, 2}      224 {1}      \n",
      "793 {3}        989 {1, 2, 3}  551 {1, 2, 3}  33 {1}         225 {1, 2}   \n",
      "795 {2}        990 {2}        552 {2}        34 {2}         226 {1}      \n",
      "796 {1}        991 {1, 2}     553 {3}        36 {1}         230 {1, 3}   \n",
      "797 {1}        993 {2, 3}     554 {1, 2, 3}  37 {3}         233 {1, 2}   \n",
      "798 {1}        994 {3}        555 {1}        38 {3}         236 {2}      \n",
      "799 {1, 3}     995 {1, 3}     556 {1, 2, 3}  39 {1}         237 {2}      \n",
      "800 {2, 3}     997 {3}        558 {2}        40 {3}         238 {1}      \n",
      "801 {2, 3}     999 {1, 3}     559 {1, 3}     42 {1}         239 {2, 3}   \n",
      "802 {1, 2}     368 {1, 3}     560 {1, 2, 3}  43 {1, 2}      240 {1}      \n",
      "803 {3}        372 {1, 3}     561 {2, 3}     44 {1, 2}      241 {1, 2}   \n",
      "804 {2, 3}     374 {2}        563 {2}        45 {2, 3}      242 {1}      \n",
      "806 {3}        375 {2}        564 {2, 3}     46 {1}         244 {1, 3}   \n",
      "807 {2}        377 {1}        566 {1, 2, 3}  47 {1, 3}      245 {2}      \n",
      "808 {1}        378 {1}        568 {2}        49 {1, 2}      246 {3}      \n",
      "809 {1, 3}     379 {2, 3}     569 {1, 2}     50 {1, 2, 3}   248 {2}      \n",
      "810 {2}        380 {1}        572 {2}        51 {1, 2}      249 {1}      \n",
      "813 {3}        381 {1, 2}     574 {2, 3}     54 {3}         250 {1, 3}   \n",
      "814 {1, 2}     384 {1, 2}     575 {2, 3}     55 {3}         251 {1, 3}   \n",
      "815 {2, 3}     386 {1}        576 {1, 2}     56 {3}         252 {1, 2}   \n",
      "817 {1}        387 {1}        577 {2}        58 {2, 3}      253 {2, 3}   \n",
      "819 {1, 3}     389 {1, 3}     578 {1, 2}     59 {1, 2, 3}   255 {2}      \n",
      "820 {1}        390 {1}        579 {2}        60 {1, 2, 3}   256 {1}      \n",
      "821 {1}        391 {2, 3}     580 {2}        61 {3}         258 {1, 2}   \n",
      "823 {3}        392 {3}        581 {3}        62 {1, 2, 3}   260 {2, 3}   \n",
      "824 {2}        393 {1, 3}     582 {1}        65 {2}         261 {3}      \n",
      "825 {1, 2, 3}  394 {1, 3}     583 {1, 2, 3}  66 {1, 2}      262 {1}      \n",
      "827 {2}        395 {1}        584 {1}        67 {2}         263 {2}      \n",
      "828 {1, 2, 3}  396 {2, 3}     585 {3}        68 {2}         264 {1, 2}   \n",
      "829 {1, 3}     397 {2, 3}     586 {1, 2}     69 {2}         266 {1, 2}   \n",
      "830 {3}        398 {3}        587 {1}        70 {3}         267 {2}      \n",
      "831 {1, 3}     399 {1, 2}     590 {3}        75 {1}         269 {3}      \n",
      "832 {2}        400 {2}        591 {3}        77 {1, 2}      270 {2, 3}   \n",
      "833 {2}        402 {1}        592 {3}        79 {1}         271 {1, 2}   \n",
      "836 {2}        404 {2}        593 {1}        81 {1, 3}      273 {2, 3}   \n",
      "840 {1}        406 {1}        596 {3}        83 {1}         276 {3}      \n",
      "841 {1, 2, 3}  409 {1, 2, 3}  597 {3}        84 {1, 2}      278 {1, 3}   \n",
      "843 {2, 3}     410 {3}        599 {2}        85 {2}         281 {1, 2}   \n",
      "845 {2}        411 {1, 3}     600 {2, 3}     86 {2}         282 {1, 3}   \n",
      "847 {2}        412 {2}        602 {3}        88 {3}         283 {1, 2}   \n",
      "848 {1}        413 {3}        603 {1}        89 {1, 2}      284 {1, 3}   \n",
      "849 {1}        414 {2}        604 {3}        94 {2}         285 {1, 2}   \n",
      "850 {1, 3}     415 {1}        605 {3}        95 {1, 2}      286 {1, 2, 3}\n",
      "851 {1, 2}     416 {2, 3}     607 {3}        96 {1, 2, 3}   288 {2, 3}   \n",
      "852 {2}        417 {1, 3}     608 {1}        97 {2}         289 {2}      \n",
      "853 {3}        419 {2, 3}     611 {1, 2}     99 {1, 2, 3}   290 {3}      \n",
      "854 {1, 3}     420 {1}        612 {1, 3}     100 {2}        291 {2}      \n",
      "856 {1, 3}     421 {1, 3}     614 {1}        101 {2}        294 {3}      \n",
      "857 {1, 3}     422 {1, 2}     615 {1, 2}     102 {3}        295 {2, 3}   \n",
      "861 {2}        423 {1, 3}     616 {3}        104 {1, 3}     296 {3}      \n",
      "862 {1}        424 {1, 3}     618 {3}        105 {1, 2, 3}  297 {1}      \n",
      "863 {1, 2, 3}  426 {1}        619 {1}        107 {2}        299 {1, 3}   \n",
      "864 {2}        427 {3}        620 {2, 3}     109 {3}        301 {1, 3}   \n",
      "865 {1, 3}     428 {1}        621 {1, 2}     110 {1, 2}     304 {1, 3}   \n",
      "868 {1}        429 {2, 3}     622 {1, 3}     111 {2}        305 {2}      \n",
      "869 {2, 3}     431 {2, 3}     624 {1}        112 {3}        306 {1, 3}   \n",
      "870 {2, 3}     432 {3}        625 {1, 2}     113 {2}        307 {1, 2, 3}\n",
      "872 {1, 2}     433 {1, 3}     626 {1, 3}     115 {2}        309 {1, 3}   \n",
      "873 {1, 2}     434 {2}        627 {1, 3}     116 {2, 3}     311 {1}      \n",
      "874 {3}        435 {3}        628 {1, 3}     118 {1, 2}     313 {1, 2}   \n",
      "875 {1, 3}     436 {2}        629 {3}        119 {2}        314 {2}      \n",
      "877 {1, 3}     438 {3}        630 {1, 3}     120 {1}        315 {1, 2}   \n",
      "878 {1, 2}     439 {3}        632 {1}        121 {3}        316 {2}      \n",
      "880 {3}        440 {1}        637 {2, 3}     122 {1, 2}     317 {1, 2}   \n",
      "882 {1, 3}     443 {2, 3}     638 {3}        123 {1}        318 {3}      \n",
      "883 {1}        444 {3}        640 {1}        125 {1, 3}     319 {3}      \n",
      "884 {1, 2, 3}  445 {1, 3}     641 {1, 3}     128 {1, 2}     320 {2, 3}   \n",
      "886 {1, 2}     446 {2, 3}     642 {2, 3}     129 {2}        321 {3}      \n",
      "887 {1, 3}     447 {1}        644 {2}        130 {2}        322 {1, 2}   \n",
      "888 {1}        449 {1, 2, 3}  645 {2, 3}     131 {2}        323 {1}      \n",
      "890 {1, 3}     450 {1}        646 {1, 3}     133 {1}        326 {1, 3}   \n",
      "891 {1, 2, 3}  451 {2, 3}     647 {1, 3}     134 {2}        327 {2, 3}   \n",
      "892 {3}        452 {1, 3}     648 {1, 3}     136 {1, 3}     328 {1}      \n",
      "893 {3}        454 {1, 3}     649 {1, 2}     137 {2, 3}     330 {2, 3}   \n",
      "894 {2}        455 {1, 3}     650 {2}        138 {2, 3}     333 {2, 3}   \n",
      "895 {2, 3}     456 {1, 3}     651 {3}        139 {2}        334 {1}      \n",
      "896 {1, 3}     457 {2, 3}     652 {1}        140 {1}        338 {2}      \n",
      "897 {1}        458 {1, 2}     654 {1, 2}     143 {2}        339 {1, 2, 3}\n",
      "898 {2}        459 {3}        655 {1}        145 {1, 2, 3}  340 {1, 3}   \n",
      "899 {1}        460 {1}        657 {1, 2, 3}  146 {1, 2, 3}  350 {3}      \n",
      "900 {1}        461 {1}        658 {1}        147 {2}        351 {1, 2, 3}\n",
      "902 {3}        464 {3}        660 {1, 2, 3}  150 {3}        353 {1, 3}   \n",
      "904 {2, 3}     465 {2}        661 {3}        151 {2, 3}     354 {1, 2, 3}\n",
      "905 {2, 3}     467 {1}        663 {1}        153 {3}        356 {1}      \n",
      "906 {1, 2}     469 {1, 2}     664 {2}        154 {2, 3}     357 {1, 2}   \n",
      "908 {1, 3}     470 {3}        667 {3}        155 {3}        359 {3}      \n",
      "910 {2, 3}     472 {2}        668 {1, 2}     156 {1, 2}     361 {2, 3}   \n",
      "911 {1, 2}     473 {2, 3}     670 {2, 3}     158 {1}        362 {1, 2, 3}\n",
      "912 {1, 2}     477 {2}        671 {1, 2, 3}  159 {3}        363 {1}      \n",
      "913 {3}        478 {2}        673 {1, 2}     160 {1, 2, 3}  365 {3}      \n",
      "914 {2, 3}     480 {2}        678 {1, 2}     161 {2, 3}     366 {1}      \n",
      "915 {1, 3}     481 {1}        680 {2}        162 {1, 2, 3}  367 {1}      \n",
      "917 {1, 2}     482 {2}        682 {1}        163 {1, 3}   \n",
      "918 {1, 2}     483 {2, 3}     683 {2, 3}     164 {2, 3}   \n",
      "920 {1, 2, 3}  484 {3}        684 {1}        165 {1, 2}   \n",
      "Total 712 records\n"
     ]
    }
   ],
   "source": [
    "from squids import explore_tfrecords\n",
    "explore_tfrecords(\"dataset/synthetic-tfrecords/instances_train\")"
   ]
  },
  {
   "cell_type": "markdown",
   "metadata": {},
   "source": [
    "The output shows the total number of records, a list of images IDs combined with annotated categories. For example, the following line`922 {1,2,3}` means that the image with ID `922` has one or more objects of category `1`, one or more objects of category `2`, and one or more objects of category `3` respectively. \n",
    "\n",
    "Let's select an image for further exploration."
   ]
  },
  {
   "cell_type": "code",
   "execution_count": 17,
   "metadata": {},
   "outputs": [
    {
     "name": "stdout",
     "output_type": "stream",
     "text": [
      "Property              Value\n",
      "--------------------  ----------\n",
      "image_id              0\n",
      "image_size            (256, 256)\n",
      "number_of_objects     3\n",
      "available_categories  {1, 2, 3}\n",
      "Image saved to ./0.png\n"
     ]
    }
   ],
   "source": [
    "from squids import explore_tfrecords\n",
    "explore_tfrecords(\"dataset/synthetic-tfrecords/instances_train\", 0)"
   ]
  },
  {
   "cell_type": "markdown",
   "metadata": {},
   "source": [
    "The output contains information about image ID, its size, number of annotated objects, and their categories. Also, all information about bounding boxes, segmentation, and categories are superimposed to an image (in this example `0.png`)."
   ]
  },
  {
   "cell_type": "code",
   "execution_count": 18,
   "metadata": {},
   "outputs": [
    {
     "data": {
      "image/png": "[encoded data removed]",
      "text/plain": [
       "<PIL.PngImagePlugin.PngImageFile image mode=RGB size=256x256 at 0x7FF73C4836D0>"
      ]
     },
     "execution_count": 18,
     "metadata": {},
     "output_type": "execute_result"
    }
   ],
   "source": [
    "from PIL import Image\n",
    "img = Image.open(\"0.png\")\n",
    "img"
   ]
  },
  {
   "cell_type": "markdown",
   "metadata": {},
   "source": [
    "### Exploring TFRecords Using Custom Output\n",
    "\n",
    "In this scenario, the exploring function is using a custom mechanism of rendering TFRecords inspection results."
   ]
  },
  {
   "cell_type": "code",
   "execution_count": 19,
   "metadata": {},
   "outputs": [
    {
     "name": "stdout",
     "output_type": "stream",
     "text": [
      "  Record ID  Record Summary\n",
      "-----------  ---------------------------\n",
      "        725  Counter({1: 2})\n",
      "        726  Counter({2: 1})\n",
      "        727  Counter({3: 2})\n",
      "        728  Counter({3: 1, 2: 1})\n",
      "        729  Counter({2: 2, 1: 1})\n",
      "        730  Counter({3: 2})\n",
      "        731  Counter({2: 2, 1: 1})\n",
      "        733  Counter({2: 1})\n",
      "        734  Counter({3: 2, 2: 1})\n",
      "        735  Counter({2: 1, 1: 1})\n",
      "        737  Counter({2: 1, 1: 1, 3: 1})\n",
      "        739  Counter({2: 2})\n",
      "        740  Counter({2: 3})\n",
      "        741  Counter({1: 1, 2: 1})\n",
      "        743  Counter({2: 1})\n"
     ]
    }
   ],
   "source": [
    "from tabulate import tabulate\n",
    "from squids import explore_tfrecords\n",
    "record_ids, record_summaries = explore_tfrecords(\n",
    "    \"dataset/synthetic-tfrecords/instances_train\",\n",
    "    return_artifacts=True\n",
    ")\n",
    "\n",
    "# reduces the number of records for visualization to 15\n",
    "record_ids = record_ids[:15]\n",
    "record_summaries = record_summaries[:15]\n",
    "\n",
    "print(\n",
    "    tabulate(\n",
    "        [[record_id, record_summary] \n",
    "        for record_id, record_summary in zip(record_ids, record_summaries)],\n",
    "        headers=[\"Record ID\", \"Record Summary\"],\n",
    "    )\n",
    ")"
   ]
  },
  {
   "cell_type": "code",
   "execution_count": 20,
   "metadata": {},
   "outputs": [
    {
     "name": "stdout",
     "output_type": "stream",
     "text": [
      "{'image_id': 0, 'image_size': (256, 256), 'number_of_objects': 3, 'available_categories': {1, 2, 3}}\n"
     ]
    },
    {
     "data": {
      "image/png": "[encoded data removed]",
      "text/plain": [
       "<PIL.Image.Image image mode=RGB size=256x256 at 0x7FF73C472EB0>"
      ]
     },
     "execution_count": 20,
     "metadata": {},
     "output_type": "execute_result"
    }
   ],
   "source": [
    "from tabulate import tabulate\n",
    "from squids import explore_tfrecords\n",
    "record_image, record_symmary = explore_tfrecords(\n",
    "    \"dataset/synthetic-tfrecords/instances_train\", 0,\n",
    "    return_artifacts=True\n",
    ")\n",
    "\n",
    "print(record_symmary)\n",
    "record_image\n"
   ]
  }
 ],
 "metadata": {
  "interpreter": {
   "hash": "c0c458caad03a2e69d5039d0780e9d34fa00817d354e8938f314531d50fa4305"
  },
  "kernelspec": {
   "display_name": "Python 3.8.10 64-bit ('.venv': venv)",
   "language": "python",
   "name": "python3"
  },
  "language_info": {
   "codemirror_mode": {
    "name": "ipython",
    "version": 3
   },
   "file_extension": ".py",
   "mimetype": "text/x-python",
   "name": "python",
   "nbconvert_exporter": "python",
   "pygments_lexer": "ipython3",
   "version": "3.8.10"
  },
  "orig_nbformat": 4
 },
 "nbformat": 4,
 "nbformat_minor": 2
}
