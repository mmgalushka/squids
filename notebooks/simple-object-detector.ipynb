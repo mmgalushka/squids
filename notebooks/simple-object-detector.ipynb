{
 "cells": [
  {
   "cell_type": "markdown",
   "metadata": {},
   "source": [
    "# Simple Object Detector\n",
    "\n",
    "The notebook illustrates how this synthetic data generator can help to create and test a simple image classifier."
   ]
  },
  {
   "cell_type": "code",
   "execution_count": 1,
   "metadata": {},
   "outputs": [],
   "source": [
    "import sys\n",
    "sys.path.insert(0, '..')\n",
    "\n",
    "from PIL import Image, ImageDraw\n",
    "import tensorflow as tf\n",
    "import matplotlib.pyplot as plt\n",
    "import numpy as np\n",
    "\n",
    "from squids import (\n",
    "    create_dataset,\n",
    "    create_tfrecords,\n",
    "    explore_tfrecords,\n",
    "    load_tfrecords,\n",
    "    Palette,\n",
    "    Background\n",
    ")"
   ]
  },
  {
   "cell_type": "markdown",
   "metadata": {},
   "source": [
    "## Preparing Dataset"
   ]
  },
  {
   "cell_type": "markdown",
   "metadata": {},
   "source": [
    "Generate synthetic dataset and convert it to TFRecords."
   ]
  },
  {
   "cell_type": "code",
   "execution_count": 2,
   "metadata": {},
   "outputs": [],
   "source": [
    "\n",
    "create_dataset(\n",
    "    dataset_size=10000,\n",
    "    image_palette=Palette.BINARY,\n",
    "    image_background=Background.BLACK,\n",
    "    random_state=365, image_capacity=1)\n",
    "create_tfrecords()"
   ]
  },
  {
   "cell_type": "markdown",
   "metadata": {},
   "source": [
    "Explore 9 samples from the generated dataset."
   ]
  },
  {
   "cell_type": "code",
   "execution_count": 3,
   "metadata": {},
   "outputs": [
    {
     "name": "stderr",
     "output_type": "stream",
     "text": [
      "2022-02-13 16:12:50.499806: I tensorflow/stream_executor/cuda/cuda_gpu_executor.cc:936] successful NUMA node read from SysFS had negative value (-1), but there must be at least one NUMA node, so returning NUMA node zero\n",
      "2022-02-13 16:12:50.531080: I tensorflow/stream_executor/cuda/cuda_gpu_executor.cc:936] successful NUMA node read from SysFS had negative value (-1), but there must be at least one NUMA node, so returning NUMA node zero\n",
      "2022-02-13 16:12:50.531269: I tensorflow/stream_executor/cuda/cuda_gpu_executor.cc:936] successful NUMA node read from SysFS had negative value (-1), but there must be at least one NUMA node, so returning NUMA node zero\n",
      "2022-02-13 16:12:50.531695: I tensorflow/core/platform/cpu_feature_guard.cc:151] This TensorFlow binary is optimized with oneAPI Deep Neural Network Library (oneDNN) to use the following CPU instructions in performance-critical operations:  AVX2 FMA\n",
      "To enable them in other operations, rebuild TensorFlow with the appropriate compiler flags.\n",
      "2022-02-13 16:12:50.532005: I tensorflow/stream_executor/cuda/cuda_gpu_executor.cc:936] successful NUMA node read from SysFS had negative value (-1), but there must be at least one NUMA node, so returning NUMA node zero\n",
      "2022-02-13 16:12:50.532146: I tensorflow/stream_executor/cuda/cuda_gpu_executor.cc:936] successful NUMA node read from SysFS had negative value (-1), but there must be at least one NUMA node, so returning NUMA node zero\n",
      "2022-02-13 16:12:50.532269: I tensorflow/stream_executor/cuda/cuda_gpu_executor.cc:936] successful NUMA node read from SysFS had negative value (-1), but there must be at least one NUMA node, so returning NUMA node zero\n",
      "2022-02-13 16:12:51.069538: I tensorflow/stream_executor/cuda/cuda_gpu_executor.cc:936] successful NUMA node read from SysFS had negative value (-1), but there must be at least one NUMA node, so returning NUMA node zero\n",
      "2022-02-13 16:12:51.069801: I tensorflow/stream_executor/cuda/cuda_gpu_executor.cc:936] successful NUMA node read from SysFS had negative value (-1), but there must be at least one NUMA node, so returning NUMA node zero\n",
      "2022-02-13 16:12:51.069934: I tensorflow/stream_executor/cuda/cuda_gpu_executor.cc:936] successful NUMA node read from SysFS had negative value (-1), but there must be at least one NUMA node, so returning NUMA node zero\n",
      "2022-02-13 16:12:51.070074: I tensorflow/core/common_runtime/gpu/gpu_device.cc:1525] Created device /job:localhost/replica:0/task:0/device:GPU:0 with 4391 MB memory:  -> device: 0, name: NVIDIA GeForce GTX 1060 6GB, pci bus id: 0000:01:00.0, compute capability: 6.1\n"
     ]
    },
    {
     "data": {
      "image/png": "[encoded data removed]",
      "text/plain": [
       "<Figure size 432x288 with 9 Axes>"
      ]
     },
     "metadata": {
      "needs_background": "light"
     },
     "output_type": "display_data"
    }
   ],
   "source": [
    "image_ids, _ = explore_tfrecords(\n",
    "    'dataset/synthetic-tfrecords/instances_train',\n",
    "    return_artifacts=True\n",
    ")\n",
    "\n",
    "images  = [\n",
    "    explore_tfrecords(\n",
    "        'dataset/synthetic-tfrecords/instances_train',\n",
    "        image_id,\n",
    "        with_categories = False,\n",
    "        with_bboxes = True,\n",
    "        with_segmentations = False,\n",
    "        return_artifacts=True\n",
    "    )[0]\n",
    "    for image_id in image_ids[0:10]\n",
    "]\n",
    "\n",
    "_, ax = plt.subplots(3,3)\n",
    "for i in range(3):\n",
    "    for j in range(3):\n",
    "        ax[i,j].imshow(images[i * 2 +j])\n",
    "plt.tight_layout()"
   ]
  },
  {
   "cell_type": "markdown",
   "metadata": {},
   "source": [
    "## Train Classification Model"
   ]
  },
  {
   "cell_type": "code",
   "execution_count": 4,
   "metadata": {},
   "outputs": [],
   "source": [
    "import pathlib\n",
    "ds_train, train_steps_per_epoch = load_tfrecords(\n",
    "    pathlib.Path(\"dataset/synthetic-tfrecords/instances_train\"), \n",
    "    output_schema = \"B\",\n",
    "    num_detecting_objects=1,\n",
    "    batch_size=128\n",
    ")\n",
    "ds_val, val_steps_per_epoch = load_tfrecords(\n",
    "    pathlib.Path(\"dataset/synthetic-tfrecords/instances_val\"), \n",
    "    output_schema = \"B\",\n",
    "    num_detecting_objects=1,\n",
    "    batch_size=128\n",
    ")"
   ]
  },
  {
   "cell_type": "code",
   "execution_count": 5,
   "metadata": {},
   "outputs": [],
   "source": [
    "import os\n",
    "os.environ[\"CUDA_VISIBLE_DEVICES\"] = \"0\""
   ]
  },
  {
   "cell_type": "code",
   "execution_count": 6,
   "metadata": {},
   "outputs": [],
   "source": [
    "\n",
    "def custom_loss(y_true, y_pred):\n",
    "    print(\"y_true = \", y_true.numpy())\n",
    "    print(\"y_pred = \", y_pred.numpy())\n",
    "    print(\"--->\", tf.keras.metrics.mean_absolute_error(y_true, y_pred))\n",
    "    return 0\n",
    "\n",
    "\n",
    "model = tf.keras.models.Sequential([\n",
    "\t# tf.keras.layers.Conv2D(\n",
    "\t# \t\tfilters=32,\n",
    "    #         kernel_size=(3, 3),\n",
    "    #         padding='same',\n",
    "    #         input_shape=(64, 64, 3)),\n",
    "\t# tf.keras.layers.Conv2D(\n",
    "\t# \t\tfilters=64,\n",
    "    #         kernel_size=(3, 3),\n",
    "    #         padding='same',\n",
    "    #         activation='relu'),\n",
    "\t# tf.keras.layers.Conv2D(\n",
    "\t# \t\tfilters=128,\n",
    "    #         kernel_size=(3, 3),\n",
    "    #         padding='same',\n",
    "    #         activation='relu'),\n",
    "\t# tf.keras.layers.Flatten(),\n",
    "\t# tf.keras.layers.Dense(1024, kernel_initializer='random_normal', bias_initializer='zeros', activation='relu'),\n",
    "\t# tf.keras.layers.Dense(512,  kernel_initializer='random_normal',bias_initializer='zeros', activation='relu'),\n",
    "\t# tf.keras.layers.Dense(128,  kernel_initializer='random_normal',bias_initializer='zeros', activation='relu'),\n",
    "\t# tf.keras.layers.Conv2D(32, (3, 3), activation='relu', input_shape=(64, 64, 3)),\n",
    "\t# tf.keras.layers.MaxPooling2D((2, 2)),\n",
    "\ttf.keras.layers.Flatten(input_shape=(64, 64, 3)),\n",
    "\ttf.keras.layers.Dense(1024, activation='relu'),\n",
    "\ttf.keras.layers.Dense(4, activation='relu')\n",
    "])\n",
    "model.compile(\n",
    "    optimizer=tf.keras.optimizers.Adam(),\n",
    "    loss=tf.keras.losses.MeanAbsoluteError(),\n",
    "    # run_eagerly=True\n",
    ")"
   ]
  },
  {
   "cell_type": "code",
   "execution_count": 7,
   "metadata": {},
   "outputs": [
    {
     "name": "stdout",
     "output_type": "stream",
     "text": [
      "[name: \"/device:CPU:0\"\n",
      "device_type: \"CPU\"\n",
      "memory_limit: 268435456\n",
      "locality {\n",
      "}\n",
      "incarnation: 16590773848977470410\n",
      "xla_global_id: -1\n",
      ", name: \"/device:GPU:0\"\n",
      "device_type: \"GPU\"\n",
      "memory_limit: 4604493824\n",
      "locality {\n",
      "  bus_id: 1\n",
      "  links {\n",
      "  }\n",
      "}\n",
      "incarnation: 14085076103291687342\n",
      "physical_device_desc: \"device: 0, name: NVIDIA GeForce GTX 1060 6GB, pci bus id: 0000:01:00.0, compute capability: 6.1\"\n",
      "xla_global_id: 416903419\n",
      "]\n"
     ]
    },
    {
     "name": "stderr",
     "output_type": "stream",
     "text": [
      "2022-02-13 16:13:01.208783: I tensorflow/stream_executor/cuda/cuda_gpu_executor.cc:936] successful NUMA node read from SysFS had negative value (-1), but there must be at least one NUMA node, so returning NUMA node zero\n",
      "2022-02-13 16:13:01.208975: I tensorflow/stream_executor/cuda/cuda_gpu_executor.cc:936] successful NUMA node read from SysFS had negative value (-1), but there must be at least one NUMA node, so returning NUMA node zero\n",
      "2022-02-13 16:13:01.209086: I tensorflow/stream_executor/cuda/cuda_gpu_executor.cc:936] successful NUMA node read from SysFS had negative value (-1), but there must be at least one NUMA node, so returning NUMA node zero\n",
      "2022-02-13 16:13:01.209243: I tensorflow/stream_executor/cuda/cuda_gpu_executor.cc:936] successful NUMA node read from SysFS had negative value (-1), but there must be at least one NUMA node, so returning NUMA node zero\n",
      "2022-02-13 16:13:01.209364: I tensorflow/stream_executor/cuda/cuda_gpu_executor.cc:936] successful NUMA node read from SysFS had negative value (-1), but there must be at least one NUMA node, so returning NUMA node zero\n",
      "2022-02-13 16:13:01.209450: I tensorflow/core/common_runtime/gpu/gpu_device.cc:1525] Created device /device:GPU:0 with 4391 MB memory:  -> device: 0, name: NVIDIA GeForce GTX 1060 6GB, pci bus id: 0000:01:00.0, compute capability: 6.1\n"
     ]
    }
   ],
   "source": [
    "from tensorflow.python.client import device_lib \n",
    "print(device_lib.list_local_devices())"
   ]
  },
  {
   "cell_type": "code",
   "execution_count": 8,
   "metadata": {},
   "outputs": [
    {
     "name": "stdout",
     "output_type": "stream",
     "text": [
      "Epoch 1/10\n",
      "218/218 [==============================] - 7s 20ms/step - loss: 5.0942 - val_loss: 2.6729\n",
      "Epoch 2/10\n",
      "218/218 [==============================] - 4s 20ms/step - loss: 2.1740 - val_loss: 1.8815\n",
      "Epoch 3/10\n",
      "218/218 [==============================] - 4s 19ms/step - loss: 1.5520 - val_loss: 1.4834\n",
      "Epoch 4/10\n",
      "218/218 [==============================] - 4s 17ms/step - loss: 1.2818 - val_loss: 1.3443\n",
      "Epoch 5/10\n",
      "218/218 [==============================] - 4s 19ms/step - loss: 1.0964 - val_loss: 1.1876\n",
      "Epoch 6/10\n",
      "218/218 [==============================] - 4s 17ms/step - loss: 0.9832 - val_loss: 1.1035\n",
      "Epoch 7/10\n",
      "218/218 [==============================] - 4s 19ms/step - loss: 0.9030 - val_loss: 1.0825\n",
      "Epoch 8/10\n",
      "218/218 [==============================] - 4s 19ms/step - loss: 0.8568 - val_loss: 1.0815\n",
      "Epoch 9/10\n",
      "218/218 [==============================] - 4s 19ms/step - loss: 0.8036 - val_loss: 0.9905\n",
      "Epoch 10/10\n",
      "218/218 [==============================] - 4s 18ms/step - loss: 0.7614 - val_loss: 0.9481\n"
     ]
    },
    {
     "data": {
      "text/plain": [
       "<keras.callbacks.History at 0x7ff1f8488640>"
      ]
     },
     "execution_count": 8,
     "metadata": {},
     "output_type": "execute_result"
    }
   ],
   "source": [
    "model.fit(\n",
    "    ds_train,\n",
    "    steps_per_epoch = train_steps_per_epoch,\n",
    "    epochs=10,\n",
    "    validation_data=ds_val,\n",
    "    validation_steps = val_steps_per_epoch,\n",
    "    verbose=1\n",
    ")"
   ]
  },
  {
   "cell_type": "code",
   "execution_count": 9,
   "metadata": {},
   "outputs": [
    {
     "data": {
      "image/png": "[encoded data removed]",
      "text/plain": [
       "<Figure size 432x288 with 9 Axes>"
      ]
     },
     "metadata": {
      "needs_background": "light"
     },
     "output_type": "display_data"
    }
   ],
   "source": [
    "image_ids, _ = explore_tfrecords(\n",
    "    'dataset/synthetic-tfrecords/instances_test',\n",
    "    return_artifacts=True\n",
    ")\n",
    "\n",
    "images  = [\n",
    "    explore_tfrecords(\n",
    "        'dataset/synthetic-tfrecords/instances_test',\n",
    "        image_id,\n",
    "        with_categories = False,\n",
    "        with_bboxes = True,\n",
    "        with_segmentations = False,\n",
    "        return_artifacts=True\n",
    "    )[0]\n",
    "    for image_id in image_ids[0:10]\n",
    "]\n",
    "\n",
    "_, ax = plt.subplots(3,3)\n",
    "for i in range(3):\n",
    "    for j in range(3):\n",
    "        ax[i,j].imshow(images[i * 2 +j])\n",
    "plt.tight_layout()"
   ]
  },
  {
   "cell_type": "code",
   "execution_count": 10,
   "metadata": {},
   "outputs": [
    {
     "name": "stdout",
     "output_type": "stream",
     "text": [
      "[[23 20 24  7]\n",
      " [34 11 14 20]\n",
      " [41  9 11 27]\n",
      " [14 18 19  6]\n",
      " [43 45 13 15]\n",
      " [50 16  6 14]\n",
      " [39 36  7 12]\n",
      " [13 26 22 22]\n",
      " [ 4 31 21 28]\n",
      " [12 25 13 15]]\n"
     ]
    },
    {
     "data": {
      "image/png": "[encoded data removed]",
      "text/plain": [
       "<Figure size 432x288 with 9 Axes>"
      ]
     },
     "metadata": {
      "needs_background": "light"
     },
     "output_type": "display_data"
    }
   ],
   "source": [
    "x = np.array([np.array(image) for image in images]) / 255.0\n",
    "\n",
    "\n",
    "\n",
    "# x.shape\n",
    "bboxes = model.predict(x).astype(int)\n",
    "\n",
    "print(bboxes)\n",
    "\n",
    "\n",
    "for image, bbox in zip(images, bboxes):\n",
    "    draw = ImageDraw.Draw(image)\n",
    "    draw.rectangle(\n",
    "        (bbox[0], bbox[1], bbox[0]+bbox[2], bbox[1]+bbox[3]),\n",
    "        outline=\"#FF0000\"\n",
    "    )\n",
    "\n",
    "_, ax = plt.subplots(3,3)\n",
    "for i in range(3):\n",
    "    for j in range(3):\n",
    "        ax[i,j].imshow(images[i * 2 +j])\n",
    "plt.tight_layout()\n"
   ]
  }
 ],
 "metadata": {
  "interpreter": {
   "hash": "c0c458caad03a2e69d5039d0780e9d34fa00817d354e8938f314531d50fa4305"
  },
  "kernelspec": {
   "display_name": "Python 3.8.10 ('.venv': venv)",
   "language": "python",
   "name": "python3"
  },
  "language_info": {
   "codemirror_mode": {
    "name": "ipython",
    "version": 3
   },
   "file_extension": ".py",
   "mimetype": "text/x-python",
   "name": "python",
   "nbconvert_exporter": "python",
   "pygments_lexer": "ipython3",
   "version": "3.8.10"
  },
  "orig_nbformat": 4
 },
 "nbformat": 4,
 "nbformat_minor": 2
}
