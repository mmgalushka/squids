{
 "cells": [
  {
   "cell_type": "markdown",
   "metadata": {},
   "source": [
    "# Simple Object Classifier\n",
    "\n",
    "The notebook illustrates how this synthetic data generator can help to create and test a simple image classifier."
   ]
  },
  {
   "cell_type": "code",
   "execution_count": null,
   "metadata": {},
   "outputs": [],
   "source": [
    "import sys\n",
    "sys.path.insert(0, '..')\n",
    "import pathlib\n",
    "\n",
    "from PIL import Image\n",
    "import tensorflow as tf\n",
    "import matplotlib.pyplot as plt\n",
    "import numpy as np\n",
    "\n",
    "from squids import (\n",
    "    create_dataset,\n",
    "    create_tfrecords,\n",
    "    explore_tfrecords,\n",
    "    load_tfrecords,\n",
    "    Palette,\n",
    "    Background\n",
    ")"
   ]
  },
  {
   "cell_type": "markdown",
   "metadata": {},
   "source": [
    "## Preparing Dataset"
   ]
  },
  {
   "cell_type": "markdown",
   "metadata": {},
   "source": [
    "Generate synthetic dataset (where each image is a single geometrical shape on the black background) and convert it to TFRecords."
   ]
  },
  {
   "cell_type": "code",
   "execution_count": null,
   "metadata": {},
   "outputs": [],
   "source": [
    "\n",
    "create_dataset(\n",
    "    image_palette=Palette.BINARY,\n",
    "    image_background=Background.BLACK,\n",
    "    random_state=365, image_capacity=1)\n",
    "create_tfrecords()"
   ]
  },
  {
   "cell_type": "markdown",
   "metadata": {},
   "source": [
    "Let's explore 9 samples from the generated dataset."
   ]
  },
  {
   "cell_type": "code",
   "execution_count": null,
   "metadata": {},
   "outputs": [
    {
     "name": "stderr",
     "output_type": "stream",
     "text": [
      "2022-02-13 16:23:59.505564: I tensorflow/stream_executor/cuda/cuda_gpu_executor.cc:936] successful NUMA node read from SysFS had negative value (-1), but there must be at least one NUMA node, so returning NUMA node zero\n",
      "2022-02-13 16:23:59.557446: I tensorflow/stream_executor/cuda/cuda_gpu_executor.cc:936] successful NUMA node read from SysFS had negative value (-1), but there must be at least one NUMA node, so returning NUMA node zero\n",
      "2022-02-13 16:23:59.557653: I tensorflow/stream_executor/cuda/cuda_gpu_executor.cc:936] successful NUMA node read from SysFS had negative value (-1), but there must be at least one NUMA node, so returning NUMA node zero\n",
      "2022-02-13 16:23:59.558565: I tensorflow/core/platform/cpu_feature_guard.cc:151] This TensorFlow binary is optimized with oneAPI Deep Neural Network Library (oneDNN) to use the following CPU instructions in performance-critical operations:  AVX2 FMA\n",
      "To enable them in other operations, rebuild TensorFlow with the appropriate compiler flags.\n",
      "2022-02-13 16:23:59.558846: I tensorflow/stream_executor/cuda/cuda_gpu_executor.cc:936] successful NUMA node read from SysFS had negative value (-1), but there must be at least one NUMA node, so returning NUMA node zero\n",
      "2022-02-13 16:23:59.559126: I tensorflow/stream_executor/cuda/cuda_gpu_executor.cc:936] successful NUMA node read from SysFS had negative value (-1), but there must be at least one NUMA node, so returning NUMA node zero\n",
      "2022-02-13 16:23:59.559263: I tensorflow/stream_executor/cuda/cuda_gpu_executor.cc:936] successful NUMA node read from SysFS had negative value (-1), but there must be at least one NUMA node, so returning NUMA node zero\n",
      "2022-02-13 16:24:00.231645: I tensorflow/stream_executor/cuda/cuda_gpu_executor.cc:936] successful NUMA node read from SysFS had negative value (-1), but there must be at least one NUMA node, so returning NUMA node zero\n",
      "2022-02-13 16:24:00.231883: I tensorflow/stream_executor/cuda/cuda_gpu_executor.cc:936] successful NUMA node read from SysFS had negative value (-1), but there must be at least one NUMA node, so returning NUMA node zero\n",
      "2022-02-13 16:24:00.232025: I tensorflow/stream_executor/cuda/cuda_gpu_executor.cc:936] successful NUMA node read from SysFS had negative value (-1), but there must be at least one NUMA node, so returning NUMA node zero\n",
      "2022-02-13 16:24:00.232150: I tensorflow/core/common_runtime/gpu/gpu_device.cc:1525] Created device /job:localhost/replica:0/task:0/device:GPU:0 with 45 MB memory:  -> device: 0, name: NVIDIA GeForce GTX 1060 6GB, pci bus id: 0000:01:00.0, compute capability: 6.1\n",
      "2022-02-13 16:24:00.238139: I tensorflow/stream_executor/cuda/cuda_driver.cc:739] failed to allocate 45.81M (48037888 bytes) from device: CUDA_ERROR_OUT_OF_MEMORY: out of memory\n",
      "2022-02-13 16:24:00.238457: I tensorflow/stream_executor/cuda/cuda_driver.cc:739] failed to allocate 41.23M (43234304 bytes) from device: CUDA_ERROR_OUT_OF_MEMORY: out of memory\n",
      "2022-02-13 16:24:00.238755: I tensorflow/stream_executor/cuda/cuda_driver.cc:739] failed to allocate 37.11M (38910976 bytes) from device: CUDA_ERROR_OUT_OF_MEMORY: out of memory\n",
      "2022-02-13 16:24:00.239131: I tensorflow/stream_executor/cuda/cuda_driver.cc:739] failed to allocate 33.40M (35020032 bytes) from device: CUDA_ERROR_OUT_OF_MEMORY: out of memory\n",
      "2022-02-13 16:24:00.239449: I tensorflow/stream_executor/cuda/cuda_driver.cc:739] failed to allocate 30.06M (31518208 bytes) from device: CUDA_ERROR_OUT_OF_MEMORY: out of memory\n"
     ]
    },
    {
     "data": {
      "image/png": "[encoded data removed]",
      "text/plain": [
       "<Figure size 432x288 with 9 Axes>"
      ]
     },
     "metadata": {
      "needs_background": "light"
     },
     "output_type": "display_data"
    }
   ],
   "source": [
    "image_ids, _ = explore_tfrecords(\n",
    "    'dataset/synthetic-tfrecords/instances_train',\n",
    "    return_artifacts=True\n",
    ")\n",
    "\n",
    "images  = [\n",
    "    explore_tfrecords(\n",
    "        'dataset/synthetic-tfrecords/instances_train',\n",
    "        image_id,\n",
    "        with_categories = False,\n",
    "        with_bboxes = False,\n",
    "        with_segmentations = False,\n",
    "        return_artifacts=True\n",
    "    )[0]\n",
    "    for image_id in image_ids[0:10]\n",
    "]\n",
    "\n",
    "_, ax = plt.subplots(3,3)\n",
    "for i in range(3):\n",
    "    for j in range(3):\n",
    "        ax[i,j].imshow(images[i * 2 +j])\n",
    "plt.tight_layout()"
   ]
  },
  {
   "cell_type": "markdown",
   "metadata": {},
   "source": [
    "## Train Classification Model"
   ]
  },
  {
   "cell_type": "markdown",
   "metadata": {},
   "source": [
    "Create a data generator and compute a number of steps per epoch for training and validation."
   ]
  },
  {
   "cell_type": "code",
   "execution_count": null,
   "metadata": {},
   "outputs": [],
   "source": [
    "\n",
    "ds_train, train_steps_per_epoch = load_tfrecords(\n",
    "    pathlib.Path(\"dataset/synthetic-tfrecords/instances_train\"), \n",
    "    output_schema = \"C\",\n",
    "    num_detecting_objects=1,\n",
    "    batch_size=128\n",
    ")\n",
    "ds_val, val_steps_per_epoch = load_tfrecords(\n",
    "    pathlib.Path(\"dataset/synthetic-tfrecords/instances_val\"), \n",
    "    output_schema = \"C\",\n",
    "    num_detecting_objects=1,\n",
    "    batch_size=128\n",
    ")"
   ]
  },
  {
   "cell_type": "markdown",
   "metadata": {},
   "source": [
    "Create the classification model."
   ]
  },
  {
   "cell_type": "code",
   "execution_count": null,
   "metadata": {},
   "outputs": [
    {
     "name": "stderr",
     "output_type": "stream",
     "text": [
      "2022-02-13 16:24:23.582365: W tensorflow/core/common_runtime/bfc_allocator.cc:462] Allocator (GPU_0_bfc) ran out of memory trying to allocate 60.06MiB (rounded to 62980096)requested by op RandomUniform\n",
      "If the cause is memory fragmentation maybe the environment variable 'TF_GPU_ALLOCATOR=cuda_malloc_async' will improve the situation. \n",
      "Current allocation summary follows.\n",
      "Current allocation summary follows.\n",
      "2022-02-13 16:24:23.582423: I tensorflow/core/common_runtime/bfc_allocator.cc:1010] BFCAllocator dump for GPU_0_bfc\n",
      "2022-02-13 16:24:23.582449: I tensorflow/core/common_runtime/bfc_allocator.cc:1017] Bin (256): \tTotal Chunks: 13, Chunks in use: 13. 3.2KiB allocated for chunks. 3.2KiB in use in bin. 193B client-requested in use in bin.\n",
      "2022-02-13 16:24:23.582457: I tensorflow/core/common_runtime/bfc_allocator.cc:1017] Bin (512): \tTotal Chunks: 0, Chunks in use: 0. 0B allocated for chunks. 0B in use in bin. 0B client-requested in use in bin.\n",
      "2022-02-13 16:24:23.582463: I tensorflow/core/common_runtime/bfc_allocator.cc:1017] Bin (1024): \tTotal Chunks: 1, Chunks in use: 1. 1.2KiB allocated for chunks. 1.2KiB in use in bin. 1.0KiB client-requested in use in bin.\n",
      "2022-02-13 16:24:23.582468: I tensorflow/core/common_runtime/bfc_allocator.cc:1017] Bin (2048): \tTotal Chunks: 1, Chunks in use: 1. 3.5KiB allocated for chunks. 3.5KiB in use in bin. 3.4KiB client-requested in use in bin.\n",
      "2022-02-13 16:24:23.582473: I tensorflow/core/common_runtime/bfc_allocator.cc:1017] Bin (4096): \tTotal Chunks: 1, Chunks in use: 0. 6.2KiB allocated for chunks. 0B in use in bin. 0B client-requested in use in bin.\n",
      "2022-02-13 16:24:23.582479: I tensorflow/core/common_runtime/bfc_allocator.cc:1017] Bin (8192): \tTotal Chunks: 0, Chunks in use: 0. 0B allocated for chunks. 0B in use in bin. 0B client-requested in use in bin.\n",
      "2022-02-13 16:24:23.582484: I tensorflow/core/common_runtime/bfc_allocator.cc:1017] Bin (16384): \tTotal Chunks: 0, Chunks in use: 0. 0B allocated for chunks. 0B in use in bin. 0B client-requested in use in bin.\n",
      "2022-02-13 16:24:23.582489: I tensorflow/core/common_runtime/bfc_allocator.cc:1017] Bin (32768): \tTotal Chunks: 0, Chunks in use: 0. 0B allocated for chunks. 0B in use in bin. 0B client-requested in use in bin.\n",
      "2022-02-13 16:24:23.582494: I tensorflow/core/common_runtime/bfc_allocator.cc:1017] Bin (65536): \tTotal Chunks: 0, Chunks in use: 0. 0B allocated for chunks. 0B in use in bin. 0B client-requested in use in bin.\n",
      "2022-02-13 16:24:23.582499: I tensorflow/core/common_runtime/bfc_allocator.cc:1017] Bin (131072): \tTotal Chunks: 0, Chunks in use: 0. 0B allocated for chunks. 0B in use in bin. 0B client-requested in use in bin.\n",
      "2022-02-13 16:24:23.582504: I tensorflow/core/common_runtime/bfc_allocator.cc:1017] Bin (262144): \tTotal Chunks: 0, Chunks in use: 0. 0B allocated for chunks. 0B in use in bin. 0B client-requested in use in bin.\n",
      "2022-02-13 16:24:23.582509: I tensorflow/core/common_runtime/bfc_allocator.cc:1017] Bin (524288): \tTotal Chunks: 0, Chunks in use: 0. 0B allocated for chunks. 0B in use in bin. 0B client-requested in use in bin.\n",
      "2022-02-13 16:24:23.582515: I tensorflow/core/common_runtime/bfc_allocator.cc:1017] Bin (1048576): \tTotal Chunks: 0, Chunks in use: 0. 0B allocated for chunks. 0B in use in bin. 0B client-requested in use in bin.\n",
      "2022-02-13 16:24:23.582519: I tensorflow/core/common_runtime/bfc_allocator.cc:1017] Bin (2097152): \tTotal Chunks: 0, Chunks in use: 0. 0B allocated for chunks. 0B in use in bin. 0B client-requested in use in bin.\n",
      "2022-02-13 16:24:23.582524: I tensorflow/core/common_runtime/bfc_allocator.cc:1017] Bin (4194304): \tTotal Chunks: 0, Chunks in use: 0. 0B allocated for chunks. 0B in use in bin. 0B client-requested in use in bin.\n",
      "2022-02-13 16:24:23.582529: I tensorflow/core/common_runtime/bfc_allocator.cc:1017] Bin (8388608): \tTotal Chunks: 0, Chunks in use: 0. 0B allocated for chunks. 0B in use in bin. 0B client-requested in use in bin.\n",
      "2022-02-13 16:24:23.582535: I tensorflow/core/common_runtime/bfc_allocator.cc:1017] Bin (16777216): \tTotal Chunks: 1, Chunks in use: 0. 27.04MiB allocated for chunks. 0B in use in bin. 0B client-requested in use in bin.\n",
      "2022-02-13 16:24:23.582540: I tensorflow/core/common_runtime/bfc_allocator.cc:1017] Bin (33554432): \tTotal Chunks: 0, Chunks in use: 0. 0B allocated for chunks. 0B in use in bin. 0B client-requested in use in bin.\n",
      "2022-02-13 16:24:23.582544: I tensorflow/core/common_runtime/bfc_allocator.cc:1017] Bin (67108864): \tTotal Chunks: 0, Chunks in use: 0. 0B allocated for chunks. 0B in use in bin. 0B client-requested in use in bin.\n",
      "2022-02-13 16:24:23.582550: I tensorflow/core/common_runtime/bfc_allocator.cc:1017] Bin (134217728): \tTotal Chunks: 0, Chunks in use: 0. 0B allocated for chunks. 0B in use in bin. 0B client-requested in use in bin.\n",
      "2022-02-13 16:24:23.582560: I tensorflow/core/common_runtime/bfc_allocator.cc:1017] Bin (268435456): \tTotal Chunks: 0, Chunks in use: 0. 0B allocated for chunks. 0B in use in bin. 0B client-requested in use in bin.\n",
      "2022-02-13 16:24:23.582568: I tensorflow/core/common_runtime/bfc_allocator.cc:1033] Bin for 60.06MiB was 32.00MiB, Chunk State: \n",
      "2022-02-13 16:24:23.582580: I tensorflow/core/common_runtime/bfc_allocator.cc:1046] Next region of size 28366592\n",
      "2022-02-13 16:24:23.582612: I tensorflow/core/common_runtime/bfc_allocator.cc:1066] InUse at 7fbe56000000 of size 1280 next 1\n",
      "2022-02-13 16:24:23.582617: I tensorflow/core/common_runtime/bfc_allocator.cc:1066] InUse at 7fbe56000500 of size 256 next 2\n",
      "2022-02-13 16:24:23.582621: I tensorflow/core/common_runtime/bfc_allocator.cc:1066] InUse at 7fbe56000600 of size 256 next 3\n",
      "2022-02-13 16:24:23.582626: I tensorflow/core/common_runtime/bfc_allocator.cc:1066] InUse at 7fbe56000700 of size 256 next 4\n",
      "2022-02-13 16:24:23.582630: I tensorflow/core/common_runtime/bfc_allocator.cc:1066] InUse at 7fbe56000800 of size 256 next 5\n",
      "2022-02-13 16:24:23.582635: I tensorflow/core/common_runtime/bfc_allocator.cc:1066] InUse at 7fbe56000900 of size 256 next 6\n",
      "2022-02-13 16:24:23.582640: I tensorflow/core/common_runtime/bfc_allocator.cc:1066] InUse at 7fbe56000a00 of size 256 next 7\n",
      "2022-02-13 16:24:23.582644: I tensorflow/core/common_runtime/bfc_allocator.cc:1066] InUse at 7fbe56000b00 of size 256 next 8\n",
      "2022-02-13 16:24:23.582649: I tensorflow/core/common_runtime/bfc_allocator.cc:1066] InUse at 7fbe56000c00 of size 256 next 9\n",
      "2022-02-13 16:24:23.582653: I tensorflow/core/common_runtime/bfc_allocator.cc:1066] InUse at 7fbe56000d00 of size 256 next 10\n",
      "2022-02-13 16:24:23.582657: I tensorflow/core/common_runtime/bfc_allocator.cc:1066] InUse at 7fbe56000e00 of size 256 next 11\n",
      "2022-02-13 16:24:23.582662: I tensorflow/core/common_runtime/bfc_allocator.cc:1066] InUse at 7fbe56000f00 of size 256 next 12\n",
      "2022-02-13 16:24:23.582667: I tensorflow/core/common_runtime/bfc_allocator.cc:1066] InUse at 7fbe56001000 of size 256 next 15\n",
      "2022-02-13 16:24:23.582672: I tensorflow/core/common_runtime/bfc_allocator.cc:1066] InUse at 7fbe56001100 of size 256 next 16\n",
      "2022-02-13 16:24:23.582678: I tensorflow/core/common_runtime/bfc_allocator.cc:1066] Free  at 7fbe56001200 of size 6400 next 13\n",
      "2022-02-13 16:24:23.582683: I tensorflow/core/common_runtime/bfc_allocator.cc:1066] InUse at 7fbe56002b00 of size 3584 next 14\n",
      "2022-02-13 16:24:23.582688: I tensorflow/core/common_runtime/bfc_allocator.cc:1066] Free  at 7fbe56003900 of size 28352000 next 18446744073709551615\n",
      "2022-02-13 16:24:23.582693: I tensorflow/core/common_runtime/bfc_allocator.cc:1071]      Summary of in-use Chunks by size: \n",
      "2022-02-13 16:24:23.582701: I tensorflow/core/common_runtime/bfc_allocator.cc:1074] 13 Chunks of size 256 totalling 3.2KiB\n",
      "2022-02-13 16:24:23.582706: I tensorflow/core/common_runtime/bfc_allocator.cc:1074] 1 Chunks of size 1280 totalling 1.2KiB\n",
      "2022-02-13 16:24:23.582711: I tensorflow/core/common_runtime/bfc_allocator.cc:1074] 1 Chunks of size 3584 totalling 3.5KiB\n",
      "2022-02-13 16:24:23.582716: I tensorflow/core/common_runtime/bfc_allocator.cc:1078] Sum Total of in-use chunks: 8.0KiB\n",
      "2022-02-13 16:24:23.582721: I tensorflow/core/common_runtime/bfc_allocator.cc:1080] total_region_allocated_bytes_: 28366592 memory_limit_: 48037888 available bytes: 19671296 curr_region_allocation_bytes_: 96075776\n",
      "2022-02-13 16:24:23.582733: I tensorflow/core/common_runtime/bfc_allocator.cc:1086] Stats: \n",
      "Limit:                        48037888\n",
      "InUse:                            8192\n",
      "MaxInUse:                       100608\n",
      "NumAllocs:                          38\n",
      "MaxAllocSize:                    49152\n",
      "Reserved:                            0\n",
      "PeakReserved:                        0\n",
      "LargestFreeBlock:                    0\n",
      "\n",
      "2022-02-13 16:24:23.582741: W tensorflow/core/common_runtime/bfc_allocator.cc:474] *___________________________________________________________________________________________________\n",
      "2022-02-13 16:24:23.582839: W tensorflow/core/framework/op_kernel.cc:1745] OP_REQUIRES failed at random_op.cc:74 : RESOURCE_EXHAUSTED: OOM when allocating tensor with shape[123008,128] and type float on /job:localhost/replica:0/task:0/device:GPU:0 by allocator GPU_0_bfc\n"
     ]
    },
    {
     "ename": "ResourceExhaustedError",
     "evalue": "OOM when allocating tensor with shape[123008,128] and type float on /job:localhost/replica:0/task:0/device:GPU:0 by allocator GPU_0_bfc [Op:RandomUniform]",
     "output_type": "error",
     "traceback": [
      "\u001b[0;31m---------------------------------------------------------------------------\u001b[0m",
      "\u001b[0;31mResourceExhaustedError\u001b[0m                    Traceback (most recent call last)",
      "\u001b[1;32m/home/mykola/Projects/squids/notebooks/simple-object-classifier.ipynb Cell 12'\u001b[0m in \u001b[0;36m<module>\u001b[0;34m\u001b[0m\n\u001b[0;32m----> <a href='vscode-notebook-cell:/home/mykola/Projects/squids/notebooks/simple-object-classifier.ipynb#ch0000011?line=0'>1</a>\u001b[0m model \u001b[39m=\u001b[39m tf\u001b[39m.\u001b[39;49mkeras\u001b[39m.\u001b[39;49mmodels\u001b[39m.\u001b[39;49mSequential([\n\u001b[1;32m      <a href='vscode-notebook-cell:/home/mykola/Projects/squids/notebooks/simple-object-classifier.ipynb#ch0000011?line=1'>2</a>\u001b[0m \ttf\u001b[39m.\u001b[39;49mkeras\u001b[39m.\u001b[39;49mlayers\u001b[39m.\u001b[39;49mConv2D(\u001b[39m32\u001b[39;49m, (\u001b[39m3\u001b[39;49m, \u001b[39m3\u001b[39;49m), activation\u001b[39m=\u001b[39;49m\u001b[39m'\u001b[39;49m\u001b[39mrelu\u001b[39;49m\u001b[39m'\u001b[39;49m, input_shape\u001b[39m=\u001b[39;49m(\u001b[39m64\u001b[39;49m, \u001b[39m64\u001b[39;49m, \u001b[39m3\u001b[39;49m)),\n\u001b[1;32m      <a href='vscode-notebook-cell:/home/mykola/Projects/squids/notebooks/simple-object-classifier.ipynb#ch0000011?line=2'>3</a>\u001b[0m \ttf\u001b[39m.\u001b[39;49mkeras\u001b[39m.\u001b[39;49mlayers\u001b[39m.\u001b[39;49mFlatten(),\n\u001b[1;32m      <a href='vscode-notebook-cell:/home/mykola/Projects/squids/notebooks/simple-object-classifier.ipynb#ch0000011?line=3'>4</a>\u001b[0m \ttf\u001b[39m.\u001b[39;49mkeras\u001b[39m.\u001b[39;49mlayers\u001b[39m.\u001b[39;49mDense(\u001b[39m128\u001b[39;49m, activation\u001b[39m=\u001b[39;49m\u001b[39m'\u001b[39;49m\u001b[39mrelu\u001b[39;49m\u001b[39m'\u001b[39;49m),\n\u001b[1;32m      <a href='vscode-notebook-cell:/home/mykola/Projects/squids/notebooks/simple-object-classifier.ipynb#ch0000011?line=4'>5</a>\u001b[0m \ttf\u001b[39m.\u001b[39;49mkeras\u001b[39m.\u001b[39;49mlayers\u001b[39m.\u001b[39;49mDense(\u001b[39m4\u001b[39;49m, activation\u001b[39m=\u001b[39;49m\u001b[39m'\u001b[39;49m\u001b[39msoftmax\u001b[39;49m\u001b[39m'\u001b[39;49m)\n\u001b[1;32m      <a href='vscode-notebook-cell:/home/mykola/Projects/squids/notebooks/simple-object-classifier.ipynb#ch0000011?line=5'>6</a>\u001b[0m ])\n\u001b[1;32m      <a href='vscode-notebook-cell:/home/mykola/Projects/squids/notebooks/simple-object-classifier.ipynb#ch0000011?line=6'>7</a>\u001b[0m model\u001b[39m.\u001b[39mcompile(\n\u001b[1;32m      <a href='vscode-notebook-cell:/home/mykola/Projects/squids/notebooks/simple-object-classifier.ipynb#ch0000011?line=7'>8</a>\u001b[0m     optimizer\u001b[39m=\u001b[39mtf\u001b[39m.\u001b[39mkeras\u001b[39m.\u001b[39moptimizers\u001b[39m.\u001b[39mAdam(),\n\u001b[1;32m      <a href='vscode-notebook-cell:/home/mykola/Projects/squids/notebooks/simple-object-classifier.ipynb#ch0000011?line=8'>9</a>\u001b[0m     loss\u001b[39m=\u001b[39mtf\u001b[39m.\u001b[39mkeras\u001b[39m.\u001b[39mlosses\u001b[39m.\u001b[39mCategoricalCrossentropy()\n\u001b[1;32m     <a href='vscode-notebook-cell:/home/mykola/Projects/squids/notebooks/simple-object-classifier.ipynb#ch0000011?line=9'>10</a>\u001b[0m )\n",
      "File \u001b[0;32m~/Projects/squids/.venv/lib/python3.8/site-packages/tensorflow/python/training/tracking/base.py:629\u001b[0m, in \u001b[0;36mno_automatic_dependency_tracking.<locals>._method_wrapper\u001b[0;34m(self, *args, **kwargs)\u001b[0m\n\u001b[1;32m    <a href='file:///~/Projects/squids/.venv/lib/python3.8/site-packages/tensorflow/python/training/tracking/base.py?line=626'>627</a>\u001b[0m \u001b[39mself\u001b[39m\u001b[39m.\u001b[39m_self_setattr_tracking \u001b[39m=\u001b[39m \u001b[39mFalse\u001b[39;00m  \u001b[39m# pylint: disable=protected-access\u001b[39;00m\n\u001b[1;32m    <a href='file:///~/Projects/squids/.venv/lib/python3.8/site-packages/tensorflow/python/training/tracking/base.py?line=627'>628</a>\u001b[0m \u001b[39mtry\u001b[39;00m:\n\u001b[0;32m--> <a href='file:///~/Projects/squids/.venv/lib/python3.8/site-packages/tensorflow/python/training/tracking/base.py?line=628'>629</a>\u001b[0m   result \u001b[39m=\u001b[39m method(\u001b[39mself\u001b[39;49m, \u001b[39m*\u001b[39;49margs, \u001b[39m*\u001b[39;49m\u001b[39m*\u001b[39;49mkwargs)\n\u001b[1;32m    <a href='file:///~/Projects/squids/.venv/lib/python3.8/site-packages/tensorflow/python/training/tracking/base.py?line=629'>630</a>\u001b[0m \u001b[39mfinally\u001b[39;00m:\n\u001b[1;32m    <a href='file:///~/Projects/squids/.venv/lib/python3.8/site-packages/tensorflow/python/training/tracking/base.py?line=630'>631</a>\u001b[0m   \u001b[39mself\u001b[39m\u001b[39m.\u001b[39m_self_setattr_tracking \u001b[39m=\u001b[39m previous_value  \u001b[39m# pylint: disable=protected-access\u001b[39;00m\n",
      "File \u001b[0;32m~/Projects/squids/.venv/lib/python3.8/site-packages/keras/utils/traceback_utils.py:67\u001b[0m, in \u001b[0;36mfilter_traceback.<locals>.error_handler\u001b[0;34m(*args, **kwargs)\u001b[0m\n\u001b[1;32m     <a href='file:///~/Projects/squids/.venv/lib/python3.8/site-packages/keras/utils/traceback_utils.py?line=64'>65</a>\u001b[0m \u001b[39mexcept\u001b[39;00m \u001b[39mException\u001b[39;00m \u001b[39mas\u001b[39;00m e:  \u001b[39m# pylint: disable=broad-except\u001b[39;00m\n\u001b[1;32m     <a href='file:///~/Projects/squids/.venv/lib/python3.8/site-packages/keras/utils/traceback_utils.py?line=65'>66</a>\u001b[0m   filtered_tb \u001b[39m=\u001b[39m _process_traceback_frames(e\u001b[39m.\u001b[39m__traceback__)\n\u001b[0;32m---> <a href='file:///~/Projects/squids/.venv/lib/python3.8/site-packages/keras/utils/traceback_utils.py?line=66'>67</a>\u001b[0m   \u001b[39mraise\u001b[39;00m e\u001b[39m.\u001b[39mwith_traceback(filtered_tb) \u001b[39mfrom\u001b[39;00m \u001b[39mNone\u001b[39m\n\u001b[1;32m     <a href='file:///~/Projects/squids/.venv/lib/python3.8/site-packages/keras/utils/traceback_utils.py?line=67'>68</a>\u001b[0m \u001b[39mfinally\u001b[39;00m:\n\u001b[1;32m     <a href='file:///~/Projects/squids/.venv/lib/python3.8/site-packages/keras/utils/traceback_utils.py?line=68'>69</a>\u001b[0m   \u001b[39mdel\u001b[39;00m filtered_tb\n",
      "File \u001b[0;32m~/Projects/squids/.venv/lib/python3.8/site-packages/keras/backend.py:1920\u001b[0m, in \u001b[0;36mRandomGenerator.random_uniform\u001b[0;34m(self, shape, minval, maxval, dtype)\u001b[0m\n\u001b[1;32m   <a href='file:///~/Projects/squids/.venv/lib/python3.8/site-packages/keras/backend.py?line=1916'>1917</a>\u001b[0m \u001b[39mif\u001b[39;00m \u001b[39mself\u001b[39m\u001b[39m.\u001b[39m_generator:\n\u001b[1;32m   <a href='file:///~/Projects/squids/.venv/lib/python3.8/site-packages/keras/backend.py?line=1917'>1918</a>\u001b[0m   \u001b[39mreturn\u001b[39;00m \u001b[39mself\u001b[39m\u001b[39m.\u001b[39m_generator\u001b[39m.\u001b[39muniform(\n\u001b[1;32m   <a href='file:///~/Projects/squids/.venv/lib/python3.8/site-packages/keras/backend.py?line=1918'>1919</a>\u001b[0m       shape\u001b[39m=\u001b[39mshape, minval\u001b[39m=\u001b[39mminval, maxval\u001b[39m=\u001b[39mmaxval, dtype\u001b[39m=\u001b[39mdtype)\n\u001b[0;32m-> <a href='file:///~/Projects/squids/.venv/lib/python3.8/site-packages/keras/backend.py?line=1919'>1920</a>\u001b[0m \u001b[39mreturn\u001b[39;00m tf\u001b[39m.\u001b[39;49mrandom\u001b[39m.\u001b[39;49muniform(\n\u001b[1;32m   <a href='file:///~/Projects/squids/.venv/lib/python3.8/site-packages/keras/backend.py?line=1920'>1921</a>\u001b[0m     shape\u001b[39m=\u001b[39;49mshape, minval\u001b[39m=\u001b[39;49mminval, maxval\u001b[39m=\u001b[39;49mmaxval, dtype\u001b[39m=\u001b[39;49mdtype,\n\u001b[1;32m   <a href='file:///~/Projects/squids/.venv/lib/python3.8/site-packages/keras/backend.py?line=1921'>1922</a>\u001b[0m     seed\u001b[39m=\u001b[39;49m\u001b[39mself\u001b[39;49m\u001b[39m.\u001b[39;49mmake_legacy_seed())\n",
      "\u001b[0;31mResourceExhaustedError\u001b[0m: OOM when allocating tensor with shape[123008,128] and type float on /job:localhost/replica:0/task:0/device:GPU:0 by allocator GPU_0_bfc [Op:RandomUniform]"
     ]
    }
   ],
   "source": [
    "model = tf.keras.models.Sequential([\n",
    "\ttf.keras.layers.Conv2D(32, (3, 3), activation='relu', input_shape=(64, 64, 3)),\n",
    "\ttf.keras.layers.Flatten(),\n",
    "\ttf.keras.layers.Dense(128, activation='relu'),\n",
    "\ttf.keras.layers.Dense(4, activation='softmax')\n",
    "])\n",
    "model.compile(\n",
    "    optimizer=tf.keras.optimizers.Adam(),\n",
    "    loss=tf.keras.losses.CategoricalCrossentropy()\n",
    ")"
   ]
  },
  {
   "cell_type": "markdown",
   "metadata": {},
   "source": [
    "Perform the model training."
   ]
  },
  {
   "cell_type": "code",
   "execution_count": null,
   "metadata": {},
   "outputs": [
    {
     "name": "stdout",
     "output_type": "stream",
     "text": [
      "Epoch 1/20\n"
     ]
    },
    {
     "name": "stderr",
     "output_type": "stream",
     "text": [
      "2022-02-13 16:16:21.254011: E tensorflow/stream_executor/cuda/cuda_dnn.cc:361] Loaded runtime CuDNN library: 8.0.5 but source was compiled with: 8.1.0.  CuDNN library needs to have matching major version and equal or higher minor version. If using a binary install, upgrade your CuDNN library.  If building from sources, make sure the library loaded at runtime is compatible with the version specified during compile configuration.\n",
      "2022-02-13 16:16:21.254884: W tensorflow/core/framework/op_kernel.cc:1745] OP_REQUIRES failed at conv_ops.cc:1120 : UNIMPLEMENTED: DNN library is not found.\n"
     ]
    },
    {
     "ename": "UnimplementedError",
     "evalue": "Graph execution error:\n\nDetected at node 'sequential_1/conv2d/Conv2D' defined at (most recent call last):\n    File \"/usr/lib/python3.8/runpy.py\", line 194, in _run_module_as_main\n      return _run_code(code, main_globals, None,\n    File \"/usr/lib/python3.8/runpy.py\", line 87, in _run_code\n      exec(code, run_globals)\n    File \"/home/mykola/Projects/squids/.venv/lib/python3.8/site-packages/ipykernel_launcher.py\", line 16, in <module>\n      app.launch_new_instance()\n    File \"/home/mykola/Projects/squids/.venv/lib/python3.8/site-packages/traitlets/config/application.py\", line 846, in launch_instance\n      app.start()\n    File \"/home/mykola/Projects/squids/.venv/lib/python3.8/site-packages/ipykernel/kernelapp.py\", line 677, in start\n      self.io_loop.start()\n    File \"/home/mykola/Projects/squids/.venv/lib/python3.8/site-packages/tornado/platform/asyncio.py\", line 199, in start\n      self.asyncio_loop.run_forever()\n    File \"/usr/lib/python3.8/asyncio/base_events.py\", line 570, in run_forever\n      self._run_once()\n    File \"/usr/lib/python3.8/asyncio/base_events.py\", line 1859, in _run_once\n      handle._run()\n    File \"/usr/lib/python3.8/asyncio/events.py\", line 81, in _run\n      self._context.run(self._callback, *self._args)\n    File \"/home/mykola/Projects/squids/.venv/lib/python3.8/site-packages/ipykernel/kernelbase.py\", line 461, in dispatch_queue\n      await self.process_one()\n    File \"/home/mykola/Projects/squids/.venv/lib/python3.8/site-packages/ipykernel/kernelbase.py\", line 450, in process_one\n      await dispatch(*args)\n    File \"/home/mykola/Projects/squids/.venv/lib/python3.8/site-packages/ipykernel/kernelbase.py\", line 357, in dispatch_shell\n      await result\n    File \"/home/mykola/Projects/squids/.venv/lib/python3.8/site-packages/ipykernel/kernelbase.py\", line 652, in execute_request\n      reply_content = await reply_content\n    File \"/home/mykola/Projects/squids/.venv/lib/python3.8/site-packages/ipykernel/ipkernel.py\", line 359, in do_execute\n      res = shell.run_cell(code, store_history=store_history, silent=silent)\n    File \"/home/mykola/Projects/squids/.venv/lib/python3.8/site-packages/ipykernel/zmqshell.py\", line 532, in run_cell\n      return super().run_cell(*args, **kwargs)\n    File \"/home/mykola/Projects/squids/.venv/lib/python3.8/site-packages/IPython/core/interactiveshell.py\", line 2768, in run_cell\n      result = self._run_cell(\n    File \"/home/mykola/Projects/squids/.venv/lib/python3.8/site-packages/IPython/core/interactiveshell.py\", line 2814, in _run_cell\n      return runner(coro)\n    File \"/home/mykola/Projects/squids/.venv/lib/python3.8/site-packages/IPython/core/async_helpers.py\", line 129, in _pseudo_sync_runner\n      coro.send(None)\n    File \"/home/mykola/Projects/squids/.venv/lib/python3.8/site-packages/IPython/core/interactiveshell.py\", line 3012, in run_cell_async\n      has_raised = await self.run_ast_nodes(code_ast.body, cell_name,\n    File \"/home/mykola/Projects/squids/.venv/lib/python3.8/site-packages/IPython/core/interactiveshell.py\", line 3191, in run_ast_nodes\n      if await self.run_code(code, result, async_=asy):\n    File \"/home/mykola/Projects/squids/.venv/lib/python3.8/site-packages/IPython/core/interactiveshell.py\", line 3251, in run_code\n      exec(code_obj, self.user_global_ns, self.user_ns)\n    File \"/tmp/ipykernel_5394/2980847758.py\", line 1, in <module>\n      model.fit(\n    File \"/home/mykola/Projects/squids/.venv/lib/python3.8/site-packages/keras/utils/traceback_utils.py\", line 64, in error_handler\n      return fn(*args, **kwargs)\n    File \"/home/mykola/Projects/squids/.venv/lib/python3.8/site-packages/keras/engine/training.py\", line 1384, in fit\n      tmp_logs = self.train_function(iterator)\n    File \"/home/mykola/Projects/squids/.venv/lib/python3.8/site-packages/keras/engine/training.py\", line 1021, in train_function\n      return step_function(self, iterator)\n    File \"/home/mykola/Projects/squids/.venv/lib/python3.8/site-packages/keras/engine/training.py\", line 1010, in step_function\n      outputs = model.distribute_strategy.run(run_step, args=(data,))\n    File \"/home/mykola/Projects/squids/.venv/lib/python3.8/site-packages/keras/engine/training.py\", line 1000, in run_step\n      outputs = model.train_step(data)\n    File \"/home/mykola/Projects/squids/.venv/lib/python3.8/site-packages/keras/engine/training.py\", line 859, in train_step\n      y_pred = self(x, training=True)\n    File \"/home/mykola/Projects/squids/.venv/lib/python3.8/site-packages/keras/utils/traceback_utils.py\", line 64, in error_handler\n      return fn(*args, **kwargs)\n    File \"/home/mykola/Projects/squids/.venv/lib/python3.8/site-packages/keras/engine/base_layer.py\", line 1096, in __call__\n      outputs = call_fn(inputs, *args, **kwargs)\n    File \"/home/mykola/Projects/squids/.venv/lib/python3.8/site-packages/keras/utils/traceback_utils.py\", line 92, in error_handler\n      return fn(*args, **kwargs)\n    File \"/home/mykola/Projects/squids/.venv/lib/python3.8/site-packages/keras/engine/sequential.py\", line 374, in call\n      return super(Sequential, self).call(inputs, training=training, mask=mask)\n    File \"/home/mykola/Projects/squids/.venv/lib/python3.8/site-packages/keras/engine/functional.py\", line 451, in call\n      return self._run_internal_graph(\n    File \"/home/mykola/Projects/squids/.venv/lib/python3.8/site-packages/keras/engine/functional.py\", line 589, in _run_internal_graph\n      outputs = node.layer(*args, **kwargs)\n    File \"/home/mykola/Projects/squids/.venv/lib/python3.8/site-packages/keras/utils/traceback_utils.py\", line 64, in error_handler\n      return fn(*args, **kwargs)\n    File \"/home/mykola/Projects/squids/.venv/lib/python3.8/site-packages/keras/engine/base_layer.py\", line 1096, in __call__\n      outputs = call_fn(inputs, *args, **kwargs)\n    File \"/home/mykola/Projects/squids/.venv/lib/python3.8/site-packages/keras/utils/traceback_utils.py\", line 92, in error_handler\n      return fn(*args, **kwargs)\n    File \"/home/mykola/Projects/squids/.venv/lib/python3.8/site-packages/keras/layers/convolutional.py\", line 248, in call\n      outputs = self.convolution_op(inputs, self.kernel)\n    File \"/home/mykola/Projects/squids/.venv/lib/python3.8/site-packages/keras/layers/convolutional.py\", line 233, in convolution_op\n      return tf.nn.convolution(\nNode: 'sequential_1/conv2d/Conv2D'\nDetected at node 'sequential_1/conv2d/Conv2D' defined at (most recent call last):\n    File \"/usr/lib/python3.8/runpy.py\", line 194, in _run_module_as_main\n      return _run_code(code, main_globals, None,\n    File \"/usr/lib/python3.8/runpy.py\", line 87, in _run_code\n      exec(code, run_globals)\n    File \"/home/mykola/Projects/squids/.venv/lib/python3.8/site-packages/ipykernel_launcher.py\", line 16, in <module>\n      app.launch_new_instance()\n    File \"/home/mykola/Projects/squids/.venv/lib/python3.8/site-packages/traitlets/config/application.py\", line 846, in launch_instance\n      app.start()\n    File \"/home/mykola/Projects/squids/.venv/lib/python3.8/site-packages/ipykernel/kernelapp.py\", line 677, in start\n      self.io_loop.start()\n    File \"/home/mykola/Projects/squids/.venv/lib/python3.8/site-packages/tornado/platform/asyncio.py\", line 199, in start\n      self.asyncio_loop.run_forever()\n    File \"/usr/lib/python3.8/asyncio/base_events.py\", line 570, in run_forever\n      self._run_once()\n    File \"/usr/lib/python3.8/asyncio/base_events.py\", line 1859, in _run_once\n      handle._run()\n    File \"/usr/lib/python3.8/asyncio/events.py\", line 81, in _run\n      self._context.run(self._callback, *self._args)\n    File \"/home/mykola/Projects/squids/.venv/lib/python3.8/site-packages/ipykernel/kernelbase.py\", line 461, in dispatch_queue\n      await self.process_one()\n    File \"/home/mykola/Projects/squids/.venv/lib/python3.8/site-packages/ipykernel/kernelbase.py\", line 450, in process_one\n      await dispatch(*args)\n    File \"/home/mykola/Projects/squids/.venv/lib/python3.8/site-packages/ipykernel/kernelbase.py\", line 357, in dispatch_shell\n      await result\n    File \"/home/mykola/Projects/squids/.venv/lib/python3.8/site-packages/ipykernel/kernelbase.py\", line 652, in execute_request\n      reply_content = await reply_content\n    File \"/home/mykola/Projects/squids/.venv/lib/python3.8/site-packages/ipykernel/ipkernel.py\", line 359, in do_execute\n      res = shell.run_cell(code, store_history=store_history, silent=silent)\n    File \"/home/mykola/Projects/squids/.venv/lib/python3.8/site-packages/ipykernel/zmqshell.py\", line 532, in run_cell\n      return super().run_cell(*args, **kwargs)\n    File \"/home/mykola/Projects/squids/.venv/lib/python3.8/site-packages/IPython/core/interactiveshell.py\", line 2768, in run_cell\n      result = self._run_cell(\n    File \"/home/mykola/Projects/squids/.venv/lib/python3.8/site-packages/IPython/core/interactiveshell.py\", line 2814, in _run_cell\n      return runner(coro)\n    File \"/home/mykola/Projects/squids/.venv/lib/python3.8/site-packages/IPython/core/async_helpers.py\", line 129, in _pseudo_sync_runner\n      coro.send(None)\n    File \"/home/mykola/Projects/squids/.venv/lib/python3.8/site-packages/IPython/core/interactiveshell.py\", line 3012, in run_cell_async\n      has_raised = await self.run_ast_nodes(code_ast.body, cell_name,\n    File \"/home/mykola/Projects/squids/.venv/lib/python3.8/site-packages/IPython/core/interactiveshell.py\", line 3191, in run_ast_nodes\n      if await self.run_code(code, result, async_=asy):\n    File \"/home/mykola/Projects/squids/.venv/lib/python3.8/site-packages/IPython/core/interactiveshell.py\", line 3251, in run_code\n      exec(code_obj, self.user_global_ns, self.user_ns)\n    File \"/tmp/ipykernel_5394/2980847758.py\", line 1, in <module>\n      model.fit(\n    File \"/home/mykola/Projects/squids/.venv/lib/python3.8/site-packages/keras/utils/traceback_utils.py\", line 64, in error_handler\n      return fn(*args, **kwargs)\n    File \"/home/mykola/Projects/squids/.venv/lib/python3.8/site-packages/keras/engine/training.py\", line 1384, in fit\n      tmp_logs = self.train_function(iterator)\n    File \"/home/mykola/Projects/squids/.venv/lib/python3.8/site-packages/keras/engine/training.py\", line 1021, in train_function\n      return step_function(self, iterator)\n    File \"/home/mykola/Projects/squids/.venv/lib/python3.8/site-packages/keras/engine/training.py\", line 1010, in step_function\n      outputs = model.distribute_strategy.run(run_step, args=(data,))\n    File \"/home/mykola/Projects/squids/.venv/lib/python3.8/site-packages/keras/engine/training.py\", line 1000, in run_step\n      outputs = model.train_step(data)\n    File \"/home/mykola/Projects/squids/.venv/lib/python3.8/site-packages/keras/engine/training.py\", line 859, in train_step\n      y_pred = self(x, training=True)\n    File \"/home/mykola/Projects/squids/.venv/lib/python3.8/site-packages/keras/utils/traceback_utils.py\", line 64, in error_handler\n      return fn(*args, **kwargs)\n    File \"/home/mykola/Projects/squids/.venv/lib/python3.8/site-packages/keras/engine/base_layer.py\", line 1096, in __call__\n      outputs = call_fn(inputs, *args, **kwargs)\n    File \"/home/mykola/Projects/squids/.venv/lib/python3.8/site-packages/keras/utils/traceback_utils.py\", line 92, in error_handler\n      return fn(*args, **kwargs)\n    File \"/home/mykola/Projects/squids/.venv/lib/python3.8/site-packages/keras/engine/sequential.py\", line 374, in call\n      return super(Sequential, self).call(inputs, training=training, mask=mask)\n    File \"/home/mykola/Projects/squids/.venv/lib/python3.8/site-packages/keras/engine/functional.py\", line 451, in call\n      return self._run_internal_graph(\n    File \"/home/mykola/Projects/squids/.venv/lib/python3.8/site-packages/keras/engine/functional.py\", line 589, in _run_internal_graph\n      outputs = node.layer(*args, **kwargs)\n    File \"/home/mykola/Projects/squids/.venv/lib/python3.8/site-packages/keras/utils/traceback_utils.py\", line 64, in error_handler\n      return fn(*args, **kwargs)\n    File \"/home/mykola/Projects/squids/.venv/lib/python3.8/site-packages/keras/engine/base_layer.py\", line 1096, in __call__\n      outputs = call_fn(inputs, *args, **kwargs)\n    File \"/home/mykola/Projects/squids/.venv/lib/python3.8/site-packages/keras/utils/traceback_utils.py\", line 92, in error_handler\n      return fn(*args, **kwargs)\n    File \"/home/mykola/Projects/squids/.venv/lib/python3.8/site-packages/keras/layers/convolutional.py\", line 248, in call\n      outputs = self.convolution_op(inputs, self.kernel)\n    File \"/home/mykola/Projects/squids/.venv/lib/python3.8/site-packages/keras/layers/convolutional.py\", line 233, in convolution_op\n      return tf.nn.convolution(\nNode: 'sequential_1/conv2d/Conv2D'\n2 root error(s) found.\n  (0) UNIMPLEMENTED:  DNN library is not found.\n\t [[{{node sequential_1/conv2d/Conv2D}}]]\n\t [[Func/categorical_crossentropy/cond/then/_0/input/_26/_44]]\n  (1) UNIMPLEMENTED:  DNN library is not found.\n\t [[{{node sequential_1/conv2d/Conv2D}}]]\n0 successful operations.\n0 derived errors ignored. [Op:__inference_train_function_196953]",
     "output_type": "error",
     "traceback": [
      "\u001b[0;31m---------------------------------------------------------------------------\u001b[0m",
      "\u001b[0;31mUnimplementedError\u001b[0m                        Traceback (most recent call last)",
      "\u001b[1;32m/home/mykola/Projects/squids/notebooks/simple-object-classifier.ipynb Cell 14'\u001b[0m in \u001b[0;36m<module>\u001b[0;34m\u001b[0m\n\u001b[0;32m----> <a href='vscode-notebook-cell:/home/mykola/Projects/squids/notebooks/simple-object-classifier.ipynb#ch0000013?line=0'>1</a>\u001b[0m model\u001b[39m.\u001b[39;49mfit(\n\u001b[1;32m      <a href='vscode-notebook-cell:/home/mykola/Projects/squids/notebooks/simple-object-classifier.ipynb#ch0000013?line=1'>2</a>\u001b[0m     ds_train,\n\u001b[1;32m      <a href='vscode-notebook-cell:/home/mykola/Projects/squids/notebooks/simple-object-classifier.ipynb#ch0000013?line=2'>3</a>\u001b[0m     steps_per_epoch \u001b[39m=\u001b[39;49m train_steps_per_epoch,\n\u001b[1;32m      <a href='vscode-notebook-cell:/home/mykola/Projects/squids/notebooks/simple-object-classifier.ipynb#ch0000013?line=3'>4</a>\u001b[0m     epochs\u001b[39m=\u001b[39;49m\u001b[39m20\u001b[39;49m,\n\u001b[1;32m      <a href='vscode-notebook-cell:/home/mykola/Projects/squids/notebooks/simple-object-classifier.ipynb#ch0000013?line=4'>5</a>\u001b[0m     validation_data\u001b[39m=\u001b[39;49mds_val,\n\u001b[1;32m      <a href='vscode-notebook-cell:/home/mykola/Projects/squids/notebooks/simple-object-classifier.ipynb#ch0000013?line=5'>6</a>\u001b[0m     validation_steps \u001b[39m=\u001b[39;49m val_steps_per_epoch,\n\u001b[1;32m      <a href='vscode-notebook-cell:/home/mykola/Projects/squids/notebooks/simple-object-classifier.ipynb#ch0000013?line=6'>7</a>\u001b[0m     verbose\u001b[39m=\u001b[39;49m\u001b[39m1\u001b[39;49m\n\u001b[1;32m      <a href='vscode-notebook-cell:/home/mykola/Projects/squids/notebooks/simple-object-classifier.ipynb#ch0000013?line=7'>8</a>\u001b[0m )\n",
      "File \u001b[0;32m~/Projects/squids/.venv/lib/python3.8/site-packages/keras/utils/traceback_utils.py:67\u001b[0m, in \u001b[0;36mfilter_traceback.<locals>.error_handler\u001b[0;34m(*args, **kwargs)\u001b[0m\n\u001b[1;32m     <a href='file:///~/Projects/squids/.venv/lib/python3.8/site-packages/keras/utils/traceback_utils.py?line=64'>65</a>\u001b[0m \u001b[39mexcept\u001b[39;00m \u001b[39mException\u001b[39;00m \u001b[39mas\u001b[39;00m e:  \u001b[39m# pylint: disable=broad-except\u001b[39;00m\n\u001b[1;32m     <a href='file:///~/Projects/squids/.venv/lib/python3.8/site-packages/keras/utils/traceback_utils.py?line=65'>66</a>\u001b[0m   filtered_tb \u001b[39m=\u001b[39m _process_traceback_frames(e\u001b[39m.\u001b[39m__traceback__)\n\u001b[0;32m---> <a href='file:///~/Projects/squids/.venv/lib/python3.8/site-packages/keras/utils/traceback_utils.py?line=66'>67</a>\u001b[0m   \u001b[39mraise\u001b[39;00m e\u001b[39m.\u001b[39mwith_traceback(filtered_tb) \u001b[39mfrom\u001b[39;00m \u001b[39mNone\u001b[39m\n\u001b[1;32m     <a href='file:///~/Projects/squids/.venv/lib/python3.8/site-packages/keras/utils/traceback_utils.py?line=67'>68</a>\u001b[0m \u001b[39mfinally\u001b[39;00m:\n\u001b[1;32m     <a href='file:///~/Projects/squids/.venv/lib/python3.8/site-packages/keras/utils/traceback_utils.py?line=68'>69</a>\u001b[0m   \u001b[39mdel\u001b[39;00m filtered_tb\n",
      "File \u001b[0;32m~/Projects/squids/.venv/lib/python3.8/site-packages/tensorflow/python/eager/execute.py:54\u001b[0m, in \u001b[0;36mquick_execute\u001b[0;34m(op_name, num_outputs, inputs, attrs, ctx, name)\u001b[0m\n\u001b[1;32m     <a href='file:///~/Projects/squids/.venv/lib/python3.8/site-packages/tensorflow/python/eager/execute.py?line=51'>52</a>\u001b[0m \u001b[39mtry\u001b[39;00m:\n\u001b[1;32m     <a href='file:///~/Projects/squids/.venv/lib/python3.8/site-packages/tensorflow/python/eager/execute.py?line=52'>53</a>\u001b[0m   ctx\u001b[39m.\u001b[39mensure_initialized()\n\u001b[0;32m---> <a href='file:///~/Projects/squids/.venv/lib/python3.8/site-packages/tensorflow/python/eager/execute.py?line=53'>54</a>\u001b[0m   tensors \u001b[39m=\u001b[39m pywrap_tfe\u001b[39m.\u001b[39mTFE_Py_Execute(ctx\u001b[39m.\u001b[39m_handle, device_name, op_name,\n\u001b[1;32m     <a href='file:///~/Projects/squids/.venv/lib/python3.8/site-packages/tensorflow/python/eager/execute.py?line=54'>55</a>\u001b[0m                                       inputs, attrs, num_outputs)\n\u001b[1;32m     <a href='file:///~/Projects/squids/.venv/lib/python3.8/site-packages/tensorflow/python/eager/execute.py?line=55'>56</a>\u001b[0m \u001b[39mexcept\u001b[39;00m core\u001b[39m.\u001b[39m_NotOkStatusException \u001b[39mas\u001b[39;00m e:\n\u001b[1;32m     <a href='file:///~/Projects/squids/.venv/lib/python3.8/site-packages/tensorflow/python/eager/execute.py?line=56'>57</a>\u001b[0m   \u001b[39mif\u001b[39;00m name \u001b[39mis\u001b[39;00m \u001b[39mnot\u001b[39;00m \u001b[39mNone\u001b[39;00m:\n",
      "\u001b[0;31mUnimplementedError\u001b[0m: Graph execution error:\n\nDetected at node 'sequential_1/conv2d/Conv2D' defined at (most recent call last):\n    File \"/usr/lib/python3.8/runpy.py\", line 194, in _run_module_as_main\n      return _run_code(code, main_globals, None,\n    File \"/usr/lib/python3.8/runpy.py\", line 87, in _run_code\n      exec(code, run_globals)\n    File \"/home/mykola/Projects/squids/.venv/lib/python3.8/site-packages/ipykernel_launcher.py\", line 16, in <module>\n      app.launch_new_instance()\n    File \"/home/mykola/Projects/squids/.venv/lib/python3.8/site-packages/traitlets/config/application.py\", line 846, in launch_instance\n      app.start()\n    File \"/home/mykola/Projects/squids/.venv/lib/python3.8/site-packages/ipykernel/kernelapp.py\", line 677, in start\n      self.io_loop.start()\n    File \"/home/mykola/Projects/squids/.venv/lib/python3.8/site-packages/tornado/platform/asyncio.py\", line 199, in start\n      self.asyncio_loop.run_forever()\n    File \"/usr/lib/python3.8/asyncio/base_events.py\", line 570, in run_forever\n      self._run_once()\n    File \"/usr/lib/python3.8/asyncio/base_events.py\", line 1859, in _run_once\n      handle._run()\n    File \"/usr/lib/python3.8/asyncio/events.py\", line 81, in _run\n      self._context.run(self._callback, *self._args)\n    File \"/home/mykola/Projects/squids/.venv/lib/python3.8/site-packages/ipykernel/kernelbase.py\", line 461, in dispatch_queue\n      await self.process_one()\n    File \"/home/mykola/Projects/squids/.venv/lib/python3.8/site-packages/ipykernel/kernelbase.py\", line 450, in process_one\n      await dispatch(*args)\n    File \"/home/mykola/Projects/squids/.venv/lib/python3.8/site-packages/ipykernel/kernelbase.py\", line 357, in dispatch_shell\n      await result\n    File \"/home/mykola/Projects/squids/.venv/lib/python3.8/site-packages/ipykernel/kernelbase.py\", line 652, in execute_request\n      reply_content = await reply_content\n    File \"/home/mykola/Projects/squids/.venv/lib/python3.8/site-packages/ipykernel/ipkernel.py\", line 359, in do_execute\n      res = shell.run_cell(code, store_history=store_history, silent=silent)\n    File \"/home/mykola/Projects/squids/.venv/lib/python3.8/site-packages/ipykernel/zmqshell.py\", line 532, in run_cell\n      return super().run_cell(*args, **kwargs)\n    File \"/home/mykola/Projects/squids/.venv/lib/python3.8/site-packages/IPython/core/interactiveshell.py\", line 2768, in run_cell\n      result = self._run_cell(\n    File \"/home/mykola/Projects/squids/.venv/lib/python3.8/site-packages/IPython/core/interactiveshell.py\", line 2814, in _run_cell\n      return runner(coro)\n    File \"/home/mykola/Projects/squids/.venv/lib/python3.8/site-packages/IPython/core/async_helpers.py\", line 129, in _pseudo_sync_runner\n      coro.send(None)\n    File \"/home/mykola/Projects/squids/.venv/lib/python3.8/site-packages/IPython/core/interactiveshell.py\", line 3012, in run_cell_async\n      has_raised = await self.run_ast_nodes(code_ast.body, cell_name,\n    File \"/home/mykola/Projects/squids/.venv/lib/python3.8/site-packages/IPython/core/interactiveshell.py\", line 3191, in run_ast_nodes\n      if await self.run_code(code, result, async_=asy):\n    File \"/home/mykola/Projects/squids/.venv/lib/python3.8/site-packages/IPython/core/interactiveshell.py\", line 3251, in run_code\n      exec(code_obj, self.user_global_ns, self.user_ns)\n    File \"/tmp/ipykernel_5394/2980847758.py\", line 1, in <module>\n      model.fit(\n    File \"/home/mykola/Projects/squids/.venv/lib/python3.8/site-packages/keras/utils/traceback_utils.py\", line 64, in error_handler\n      return fn(*args, **kwargs)\n    File \"/home/mykola/Projects/squids/.venv/lib/python3.8/site-packages/keras/engine/training.py\", line 1384, in fit\n      tmp_logs = self.train_function(iterator)\n    File \"/home/mykola/Projects/squids/.venv/lib/python3.8/site-packages/keras/engine/training.py\", line 1021, in train_function\n      return step_function(self, iterator)\n    File \"/home/mykola/Projects/squids/.venv/lib/python3.8/site-packages/keras/engine/training.py\", line 1010, in step_function\n      outputs = model.distribute_strategy.run(run_step, args=(data,))\n    File \"/home/mykola/Projects/squids/.venv/lib/python3.8/site-packages/keras/engine/training.py\", line 1000, in run_step\n      outputs = model.train_step(data)\n    File \"/home/mykola/Projects/squids/.venv/lib/python3.8/site-packages/keras/engine/training.py\", line 859, in train_step\n      y_pred = self(x, training=True)\n    File \"/home/mykola/Projects/squids/.venv/lib/python3.8/site-packages/keras/utils/traceback_utils.py\", line 64, in error_handler\n      return fn(*args, **kwargs)\n    File \"/home/mykola/Projects/squids/.venv/lib/python3.8/site-packages/keras/engine/base_layer.py\", line 1096, in __call__\n      outputs = call_fn(inputs, *args, **kwargs)\n    File \"/home/mykola/Projects/squids/.venv/lib/python3.8/site-packages/keras/utils/traceback_utils.py\", line 92, in error_handler\n      return fn(*args, **kwargs)\n    File \"/home/mykola/Projects/squids/.venv/lib/python3.8/site-packages/keras/engine/sequential.py\", line 374, in call\n      return super(Sequential, self).call(inputs, training=training, mask=mask)\n    File \"/home/mykola/Projects/squids/.venv/lib/python3.8/site-packages/keras/engine/functional.py\", line 451, in call\n      return self._run_internal_graph(\n    File \"/home/mykola/Projects/squids/.venv/lib/python3.8/site-packages/keras/engine/functional.py\", line 589, in _run_internal_graph\n      outputs = node.layer(*args, **kwargs)\n    File \"/home/mykola/Projects/squids/.venv/lib/python3.8/site-packages/keras/utils/traceback_utils.py\", line 64, in error_handler\n      return fn(*args, **kwargs)\n    File \"/home/mykola/Projects/squids/.venv/lib/python3.8/site-packages/keras/engine/base_layer.py\", line 1096, in __call__\n      outputs = call_fn(inputs, *args, **kwargs)\n    File \"/home/mykola/Projects/squids/.venv/lib/python3.8/site-packages/keras/utils/traceback_utils.py\", line 92, in error_handler\n      return fn(*args, **kwargs)\n    File \"/home/mykola/Projects/squids/.venv/lib/python3.8/site-packages/keras/layers/convolutional.py\", line 248, in call\n      outputs = self.convolution_op(inputs, self.kernel)\n    File \"/home/mykola/Projects/squids/.venv/lib/python3.8/site-packages/keras/layers/convolutional.py\", line 233, in convolution_op\n      return tf.nn.convolution(\nNode: 'sequential_1/conv2d/Conv2D'\nDetected at node 'sequential_1/conv2d/Conv2D' defined at (most recent call last):\n    File \"/usr/lib/python3.8/runpy.py\", line 194, in _run_module_as_main\n      return _run_code(code, main_globals, None,\n    File \"/usr/lib/python3.8/runpy.py\", line 87, in _run_code\n      exec(code, run_globals)\n    File \"/home/mykola/Projects/squids/.venv/lib/python3.8/site-packages/ipykernel_launcher.py\", line 16, in <module>\n      app.launch_new_instance()\n    File \"/home/mykola/Projects/squids/.venv/lib/python3.8/site-packages/traitlets/config/application.py\", line 846, in launch_instance\n      app.start()\n    File \"/home/mykola/Projects/squids/.venv/lib/python3.8/site-packages/ipykernel/kernelapp.py\", line 677, in start\n      self.io_loop.start()\n    File \"/home/mykola/Projects/squids/.venv/lib/python3.8/site-packages/tornado/platform/asyncio.py\", line 199, in start\n      self.asyncio_loop.run_forever()\n    File \"/usr/lib/python3.8/asyncio/base_events.py\", line 570, in run_forever\n      self._run_once()\n    File \"/usr/lib/python3.8/asyncio/base_events.py\", line 1859, in _run_once\n      handle._run()\n    File \"/usr/lib/python3.8/asyncio/events.py\", line 81, in _run\n      self._context.run(self._callback, *self._args)\n    File \"/home/mykola/Projects/squids/.venv/lib/python3.8/site-packages/ipykernel/kernelbase.py\", line 461, in dispatch_queue\n      await self.process_one()\n    File \"/home/mykola/Projects/squids/.venv/lib/python3.8/site-packages/ipykernel/kernelbase.py\", line 450, in process_one\n      await dispatch(*args)\n    File \"/home/mykola/Projects/squids/.venv/lib/python3.8/site-packages/ipykernel/kernelbase.py\", line 357, in dispatch_shell\n      await result\n    File \"/home/mykola/Projects/squids/.venv/lib/python3.8/site-packages/ipykernel/kernelbase.py\", line 652, in execute_request\n      reply_content = await reply_content\n    File \"/home/mykola/Projects/squids/.venv/lib/python3.8/site-packages/ipykernel/ipkernel.py\", line 359, in do_execute\n      res = shell.run_cell(code, store_history=store_history, silent=silent)\n    File \"/home/mykola/Projects/squids/.venv/lib/python3.8/site-packages/ipykernel/zmqshell.py\", line 532, in run_cell\n      return super().run_cell(*args, **kwargs)\n    File \"/home/mykola/Projects/squids/.venv/lib/python3.8/site-packages/IPython/core/interactiveshell.py\", line 2768, in run_cell\n      result = self._run_cell(\n    File \"/home/mykola/Projects/squids/.venv/lib/python3.8/site-packages/IPython/core/interactiveshell.py\", line 2814, in _run_cell\n      return runner(coro)\n    File \"/home/mykola/Projects/squids/.venv/lib/python3.8/site-packages/IPython/core/async_helpers.py\", line 129, in _pseudo_sync_runner\n      coro.send(None)\n    File \"/home/mykola/Projects/squids/.venv/lib/python3.8/site-packages/IPython/core/interactiveshell.py\", line 3012, in run_cell_async\n      has_raised = await self.run_ast_nodes(code_ast.body, cell_name,\n    File \"/home/mykola/Projects/squids/.venv/lib/python3.8/site-packages/IPython/core/interactiveshell.py\", line 3191, in run_ast_nodes\n      if await self.run_code(code, result, async_=asy):\n    File \"/home/mykola/Projects/squids/.venv/lib/python3.8/site-packages/IPython/core/interactiveshell.py\", line 3251, in run_code\n      exec(code_obj, self.user_global_ns, self.user_ns)\n    File \"/tmp/ipykernel_5394/2980847758.py\", line 1, in <module>\n      model.fit(\n    File \"/home/mykola/Projects/squids/.venv/lib/python3.8/site-packages/keras/utils/traceback_utils.py\", line 64, in error_handler\n      return fn(*args, **kwargs)\n    File \"/home/mykola/Projects/squids/.venv/lib/python3.8/site-packages/keras/engine/training.py\", line 1384, in fit\n      tmp_logs = self.train_function(iterator)\n    File \"/home/mykola/Projects/squids/.venv/lib/python3.8/site-packages/keras/engine/training.py\", line 1021, in train_function\n      return step_function(self, iterator)\n    File \"/home/mykola/Projects/squids/.venv/lib/python3.8/site-packages/keras/engine/training.py\", line 1010, in step_function\n      outputs = model.distribute_strategy.run(run_step, args=(data,))\n    File \"/home/mykola/Projects/squids/.venv/lib/python3.8/site-packages/keras/engine/training.py\", line 1000, in run_step\n      outputs = model.train_step(data)\n    File \"/home/mykola/Projects/squids/.venv/lib/python3.8/site-packages/keras/engine/training.py\", line 859, in train_step\n      y_pred = self(x, training=True)\n    File \"/home/mykola/Projects/squids/.venv/lib/python3.8/site-packages/keras/utils/traceback_utils.py\", line 64, in error_handler\n      return fn(*args, **kwargs)\n    File \"/home/mykola/Projects/squids/.venv/lib/python3.8/site-packages/keras/engine/base_layer.py\", line 1096, in __call__\n      outputs = call_fn(inputs, *args, **kwargs)\n    File \"/home/mykola/Projects/squids/.venv/lib/python3.8/site-packages/keras/utils/traceback_utils.py\", line 92, in error_handler\n      return fn(*args, **kwargs)\n    File \"/home/mykola/Projects/squids/.venv/lib/python3.8/site-packages/keras/engine/sequential.py\", line 374, in call\n      return super(Sequential, self).call(inputs, training=training, mask=mask)\n    File \"/home/mykola/Projects/squids/.venv/lib/python3.8/site-packages/keras/engine/functional.py\", line 451, in call\n      return self._run_internal_graph(\n    File \"/home/mykola/Projects/squids/.venv/lib/python3.8/site-packages/keras/engine/functional.py\", line 589, in _run_internal_graph\n      outputs = node.layer(*args, **kwargs)\n    File \"/home/mykola/Projects/squids/.venv/lib/python3.8/site-packages/keras/utils/traceback_utils.py\", line 64, in error_handler\n      return fn(*args, **kwargs)\n    File \"/home/mykola/Projects/squids/.venv/lib/python3.8/site-packages/keras/engine/base_layer.py\", line 1096, in __call__\n      outputs = call_fn(inputs, *args, **kwargs)\n    File \"/home/mykola/Projects/squids/.venv/lib/python3.8/site-packages/keras/utils/traceback_utils.py\", line 92, in error_handler\n      return fn(*args, **kwargs)\n    File \"/home/mykola/Projects/squids/.venv/lib/python3.8/site-packages/keras/layers/convolutional.py\", line 248, in call\n      outputs = self.convolution_op(inputs, self.kernel)\n    File \"/home/mykola/Projects/squids/.venv/lib/python3.8/site-packages/keras/layers/convolutional.py\", line 233, in convolution_op\n      return tf.nn.convolution(\nNode: 'sequential_1/conv2d/Conv2D'\n2 root error(s) found.\n  (0) UNIMPLEMENTED:  DNN library is not found.\n\t [[{{node sequential_1/conv2d/Conv2D}}]]\n\t [[Func/categorical_crossentropy/cond/then/_0/input/_26/_44]]\n  (1) UNIMPLEMENTED:  DNN library is not found.\n\t [[{{node sequential_1/conv2d/Conv2D}}]]\n0 successful operations.\n0 derived errors ignored. [Op:__inference_train_function_196953]"
     ]
    }
   ],
   "source": [
    "model.fit(\n",
    "    ds_train,\n",
    "    steps_per_epoch = train_steps_per_epoch,\n",
    "    epochs=20,\n",
    "    validation_data=ds_val,\n",
    "    validation_steps = val_steps_per_epoch,\n",
    "    verbose=1\n",
    ")"
   ]
  },
  {
   "cell_type": "markdown",
   "metadata": {},
   "source": [
    "## Test Classification Model"
   ]
  },
  {
   "cell_type": "code",
   "execution_count": null,
   "metadata": {},
   "outputs": [],
   "source": []
  }
 ],
 "metadata": {
  "interpreter": {
   "hash": "c0c458caad03a2e69d5039d0780e9d34fa00817d354e8938f314531d50fa4305"
  },
  "kernelspec": {
   "display_name": "Python 3.8.10 ('.venv': venv)",
   "language": "python",
   "name": "python3"
  },
  "language_info": {
   "codemirror_mode": {
    "name": "ipython",
    "version": 3
   },
   "file_extension": ".py",
   "mimetype": "text/x-python",
   "name": "python",
   "nbconvert_exporter": "python",
   "pygments_lexer": "ipython3",
   "version": "3.8.10"
  },
  "orig_nbformat": 4
 },
 "nbformat": 4,
 "nbformat_minor": 2
}
